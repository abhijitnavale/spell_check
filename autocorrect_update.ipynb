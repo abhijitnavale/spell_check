{
 "cells": [
  {
   "cell_type": "code",
   "execution_count": 1,
   "metadata": {},
   "outputs": [],
   "source": [
    "with open(\"/tmp/myspell/dicts/mr_IN.dic\") as f:\n",
    "    x = f.readlines() "
   ]
  },
  {
   "cell_type": "code",
   "execution_count": 2,
   "metadata": {},
   "outputs": [],
   "source": [
    "import sys\n",
    "sys.stdout = open(\"/tmp/myspell/autocorr/DocumentList.xml\", \"a\")"
   ]
  },
  {
   "cell_type": "code",
   "execution_count": 3,
   "metadata": {},
   "outputs": [],
   "source": [
    "with open(\"/tmp/myspell/dicts/mr_IN.dic\") as f:\n",
    "    for i in f:\n",
    "        if \"ण\" in i:\n",
    "            if i.replace(\"ण\", \"न\") not in x:\n",
    "                print(\n",
    "                    '<block-list:block block-list:abbreviated-name=\"'\n",
    "                    + i.strip().split(\"/\")[0].replace(\"ण\", \"न\")\n",
    "                    + '\" block-list:name=\"'\n",
    "                    + i.strip().split(\"/\")[0]\n",
    "                    + '\"/>'\n",
    "                )\n",
    "                \n",
    "        if \"न\" in i:\n",
    "            if i.replace(\"न\", \"ण\") not in x:\n",
    "                print(\n",
    "                    '<block-list:block block-list:abbreviated-name=\"'\n",
    "                    + i.strip().split(\"/\")[0].replace(\"न\", \"ण\")\n",
    "                    + '\" block-list:name=\"'\n",
    "                    + i.strip().split(\"/\")[0]\n",
    "                    + '\"/>'\n",
    "                )"
   ]
  },
  {
   "cell_type": "code",
   "execution_count": 4,
   "metadata": {},
   "outputs": [],
   "source": [
    "# head -1 DocumentList.xml > a.tmp\n",
    "# tail -n+2 DocumentList.xml | sort >> a.tmp\n",
    "# mv a.tmp DocumentList.xml\n",
    "# zip -r acor_mr-IN.dat *"
   ]
  }
 ],
 "metadata": {
  "kernelspec": {
   "display_name": "Python 3",
   "language": "python",
   "name": "python3"
  },
  "language_info": {
   "codemirror_mode": {
    "name": "ipython",
    "version": 3
   },
   "file_extension": ".py",
   "mimetype": "text/x-python",
   "name": "python",
   "nbconvert_exporter": "python",
   "pygments_lexer": "ipython3",
   "version": "3.7.6"
  }
 },
 "nbformat": 4,
 "nbformat_minor": 4
}
