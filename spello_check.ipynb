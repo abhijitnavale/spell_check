{
 "cells": [
  {
   "cell_type": "code",
   "execution_count": 1,
   "metadata": {},
   "outputs": [],
   "source": [
    "# !apt-get install --yes zip"
   ]
  },
  {
   "cell_type": "code",
   "execution_count": 2,
   "metadata": {},
   "outputs": [],
   "source": [
    "#!git clone https://github.com/hellohaptik/spello.git"
   ]
  },
  {
   "cell_type": "code",
   "execution_count": 3,
   "metadata": {},
   "outputs": [],
   "source": [
    "#!python -m pip install -U symspellpy spello"
   ]
  },
  {
   "cell_type": "code",
   "execution_count": 9,
   "metadata": {},
   "outputs": [
    {
     "data": {
      "application/javascript": [
       "\n",
       "            setTimeout(function() {\n",
       "                var nbb_cell_id = 9;\n",
       "                var nbb_unformatted_code = \"#!wget https://www.dropbox.com/s/81iag9tjgfuvnh0/en.pkl.zip\\n#!unzip en.pkl.zip\";\n",
       "                var nbb_formatted_code = \"#!wget https://www.dropbox.com/s/81iag9tjgfuvnh0/en.pkl.zip\\n#!unzip en.pkl.zip\";\n",
       "                var nbb_cells = Jupyter.notebook.get_cells();\n",
       "                for (var i = 0; i < nbb_cells.length; ++i) {\n",
       "                    if (nbb_cells[i].input_prompt_number == nbb_cell_id) {\n",
       "                        if (nbb_cells[i].get_text() == nbb_unformatted_code) {\n",
       "                             nbb_cells[i].set_text(nbb_formatted_code);\n",
       "                        }\n",
       "                        break;\n",
       "                    }\n",
       "                }\n",
       "            }, 500);\n",
       "            "
      ],
      "text/plain": [
       "<IPython.core.display.Javascript object>"
      ]
     },
     "metadata": {},
     "output_type": "display_data"
    }
   ],
   "source": [
    "#!wget https://www.dropbox.com/s/81iag9tjgfuvnh0/en.pkl.zip\n",
    "#!unzip en.pkl.zip"
   ]
  },
  {
   "cell_type": "code",
   "execution_count": 12,
   "metadata": {},
   "outputs": [
    {
     "data": {
      "application/javascript": [
       "\n",
       "            setTimeout(function() {\n",
       "                var nbb_cell_id = 12;\n",
       "                var nbb_unformatted_code = \"#!wget https://www.dropbox.com/s/v9uuv635lv1idjf/en_large.pkl.zip\";\n",
       "                var nbb_formatted_code = \"#!wget https://www.dropbox.com/s/v9uuv635lv1idjf/en_large.pkl.zip\";\n",
       "                var nbb_cells = Jupyter.notebook.get_cells();\n",
       "                for (var i = 0; i < nbb_cells.length; ++i) {\n",
       "                    if (nbb_cells[i].input_prompt_number == nbb_cell_id) {\n",
       "                        if (nbb_cells[i].get_text() == nbb_unformatted_code) {\n",
       "                             nbb_cells[i].set_text(nbb_formatted_code);\n",
       "                        }\n",
       "                        break;\n",
       "                    }\n",
       "                }\n",
       "            }, 500);\n",
       "            "
      ],
      "text/plain": [
       "<IPython.core.display.Javascript object>"
      ]
     },
     "metadata": {},
     "output_type": "display_data"
    }
   ],
   "source": [
    "#!wget https://www.dropbox.com/s/v9uuv635lv1idjf/en_large.pkl.zip\n",
    "#!unzip en_large.pkl.zip"
   ]
  },
  {
   "cell_type": "code",
   "execution_count": 5,
   "metadata": {},
   "outputs": [
    {
     "data": {
      "application/javascript": [
       "\n",
       "            setTimeout(function() {\n",
       "                var nbb_cell_id = 5;\n",
       "                var nbb_unformatted_code = \"import pkg_resources\\nfrom symspellpy import SymSpell, Verbosity\\nfrom spello.model import SpellCorrectionModel\";\n",
       "                var nbb_formatted_code = \"import pkg_resources\\nfrom symspellpy import SymSpell, Verbosity\\nfrom spello.model import SpellCorrectionModel\";\n",
       "                var nbb_cells = Jupyter.notebook.get_cells();\n",
       "                for (var i = 0; i < nbb_cells.length; ++i) {\n",
       "                    if (nbb_cells[i].input_prompt_number == nbb_cell_id) {\n",
       "                        if (nbb_cells[i].get_text() == nbb_unformatted_code) {\n",
       "                             nbb_cells[i].set_text(nbb_formatted_code);\n",
       "                        }\n",
       "                        break;\n",
       "                    }\n",
       "                }\n",
       "            }, 500);\n",
       "            "
      ],
      "text/plain": [
       "<IPython.core.display.Javascript object>"
      ]
     },
     "metadata": {},
     "output_type": "display_data"
    }
   ],
   "source": [
    "import pkg_resources\n",
    "from symspellpy import SymSpell, Verbosity\n",
    "from spello.model import SpellCorrectionModel"
   ]
  },
  {
   "cell_type": "code",
   "execution_count": 6,
   "metadata": {},
   "outputs": [
    {
     "name": "stdout",
     "output_type": "stream",
     "text": [
      "members, 1, 226656153\n"
     ]
    },
    {
     "data": {
      "application/javascript": [
       "\n",
       "            setTimeout(function() {\n",
       "                var nbb_cell_id = 6;\n",
       "                var nbb_unformatted_code = \"sym_spell = SymSpell(max_dictionary_edit_distance=2, prefix_length=7)\\n\\ndictionary_path = pkg_resources.resource_filename(\\n    \\\"symspellpy\\\", \\\"frequency_dictionary_en_82_765.txt\\\"\\n)\\n\\n# term and term_frequency\\nsym_spell.load_dictionary(dictionary_path, term_index=0, count_index=1)\\n\\ninput_term = \\\"memebers\\\"\\n\\n# (max_edit_distance_lookup <= max_dictionary_edit_distance)\\nsuggestions = sym_spell.lookup(\\n    input_term, Verbosity.CLOSEST, max_edit_distance=2  # ignore_token=r\\\"\\\\w+\\\\d\\\"\\n)\\n\\n# display suggestion term, term frequency, and edit distance\\nfor suggestion in suggestions:\\n    print(suggestion)\";\n",
       "                var nbb_formatted_code = \"sym_spell = SymSpell(max_dictionary_edit_distance=2, prefix_length=7)\\n\\ndictionary_path = pkg_resources.resource_filename(\\n    \\\"symspellpy\\\", \\\"frequency_dictionary_en_82_765.txt\\\"\\n)\\n\\n# term and term_frequency\\nsym_spell.load_dictionary(dictionary_path, term_index=0, count_index=1)\\n\\ninput_term = \\\"memebers\\\"\\n\\n# (max_edit_distance_lookup <= max_dictionary_edit_distance)\\nsuggestions = sym_spell.lookup(\\n    input_term, Verbosity.CLOSEST, max_edit_distance=2  # ignore_token=r\\\"\\\\w+\\\\d\\\"\\n)\\n\\n# display suggestion term, term frequency, and edit distance\\nfor suggestion in suggestions:\\n    print(suggestion)\";\n",
       "                var nbb_cells = Jupyter.notebook.get_cells();\n",
       "                for (var i = 0; i < nbb_cells.length; ++i) {\n",
       "                    if (nbb_cells[i].input_prompt_number == nbb_cell_id) {\n",
       "                        if (nbb_cells[i].get_text() == nbb_unformatted_code) {\n",
       "                             nbb_cells[i].set_text(nbb_formatted_code);\n",
       "                        }\n",
       "                        break;\n",
       "                    }\n",
       "                }\n",
       "            }, 500);\n",
       "            "
      ],
      "text/plain": [
       "<IPython.core.display.Javascript object>"
      ]
     },
     "metadata": {},
     "output_type": "display_data"
    }
   ],
   "source": [
    "sym_spell = SymSpell(max_dictionary_edit_distance=2, prefix_length=7)\n",
    "\n",
    "dictionary_path = pkg_resources.resource_filename(\n",
    "    \"symspellpy\", \"frequency_dictionary_en_82_765.txt\"\n",
    ")\n",
    "\n",
    "# term and term_frequency\n",
    "sym_spell.load_dictionary(dictionary_path, term_index=0, count_index=1)\n",
    "\n",
    "input_term = \"memebers\"\n",
    "\n",
    "# (max_edit_distance_lookup <= max_dictionary_edit_distance)\n",
    "suggestions = sym_spell.lookup(\n",
    "    input_term, Verbosity.CLOSEST, max_edit_distance=2  # ignore_token=r\"\\w+\\d\"\n",
    ")\n",
    "\n",
    "# display suggestion term, term frequency, and edit distance\n",
    "for suggestion in suggestions:\n",
    "    print(suggestion)"
   ]
  },
  {
   "cell_type": "code",
   "execution_count": 7,
   "metadata": {},
   "outputs": [
    {
     "name": "stdout",
     "output_type": "stream",
     "text": [
      "the quick brown fox jumps over the lazy dog, 8, -34.491167981910635\n"
     ]
    },
    {
     "data": {
      "application/javascript": [
       "\n",
       "            setTimeout(function() {\n",
       "                var nbb_cell_id = 7;\n",
       "                var nbb_unformatted_code = \"# a sentence without any spaces\\ninput_term = \\\"thequickbrownfoxjumpsoverthelazydog\\\"\\n\\nresult = sym_spell.word_segmentation(input_term)\\n\\nprint(\\n    \\\"{}, {}, {}\\\".format(\\n        result.corrected_string, result.distance_sum, result.log_prob_sum\\n    )\\n)\";\n",
       "                var nbb_formatted_code = \"# a sentence without any spaces\\ninput_term = \\\"thequickbrownfoxjumpsoverthelazydog\\\"\\n\\nresult = sym_spell.word_segmentation(input_term)\\n\\nprint(\\n    \\\"{}, {}, {}\\\".format(\\n        result.corrected_string, result.distance_sum, result.log_prob_sum\\n    )\\n)\";\n",
       "                var nbb_cells = Jupyter.notebook.get_cells();\n",
       "                for (var i = 0; i < nbb_cells.length; ++i) {\n",
       "                    if (nbb_cells[i].input_prompt_number == nbb_cell_id) {\n",
       "                        if (nbb_cells[i].get_text() == nbb_unformatted_code) {\n",
       "                             nbb_cells[i].set_text(nbb_formatted_code);\n",
       "                        }\n",
       "                        break;\n",
       "                    }\n",
       "                }\n",
       "            }, 500);\n",
       "            "
      ],
      "text/plain": [
       "<IPython.core.display.Javascript object>"
      ]
     },
     "metadata": {},
     "output_type": "display_data"
    }
   ],
   "source": [
    "# a sentence without any spaces\n",
    "input_term = \"thequickbrownfoxjumpsoverthelazydog\"\n",
    "\n",
    "result = sym_spell.word_segmentation(input_term)\n",
    "\n",
    "print(\n",
    "    \"{}, {}, {}\".format(\n",
    "        result.corrected_string, result.distance_sum, result.log_prob_sum\n",
    "    )\n",
    ")"
   ]
  },
  {
   "cell_type": "code",
   "execution_count": 8,
   "metadata": {},
   "outputs": [
    {
     "data": {
      "application/javascript": [
       "\n",
       "            setTimeout(function() {\n",
       "                var nbb_cell_id = 8;\n",
       "                var nbb_unformatted_code = \"\\n\\nsp = SpellCorrectionModel(language=\\\"en\\\")\";\n",
       "                var nbb_formatted_code = \"sp = SpellCorrectionModel(language=\\\"en\\\")\";\n",
       "                var nbb_cells = Jupyter.notebook.get_cells();\n",
       "                for (var i = 0; i < nbb_cells.length; ++i) {\n",
       "                    if (nbb_cells[i].input_prompt_number == nbb_cell_id) {\n",
       "                        if (nbb_cells[i].get_text() == nbb_unformatted_code) {\n",
       "                             nbb_cells[i].set_text(nbb_formatted_code);\n",
       "                        }\n",
       "                        break;\n",
       "                    }\n",
       "                }\n",
       "            }, 500);\n",
       "            "
      ],
      "text/plain": [
       "<IPython.core.display.Javascript object>"
      ]
     },
     "metadata": {},
     "output_type": "display_data"
    }
   ],
   "source": [
    "sp = SpellCorrectionModel(language=\"en\")"
   ]
  },
  {
   "cell_type": "code",
   "execution_count": 9,
   "metadata": {},
   "outputs": [
    {
     "name": "stdout",
     "output_type": "stream",
     "text": [
      "Spello training started..\n",
      "Context model training started ...\n",
      "Symspell training started ...\n",
      "Phoneme training started ...\n",
      "Spello training completed successfully ...\n",
      "Spello training started..\n",
      "Symspell training started ...\n",
      "Phoneme training started ...\n",
      "Spello training completed successfully ...\n"
     ]
    },
    {
     "data": {
      "application/javascript": [
       "\n",
       "            setTimeout(function() {\n",
       "                var nbb_cell_id = 9;\n",
       "                var nbb_unformatted_code = \"sp.train([\\\"I want to play cricket\\\", \\\"this is a text corpus\\\"])\\n\\n\\nsp.train({\\\"i\\\": 2, \\\"want\\\": 1, \\\"play\\\": 1, \\\"cricket\\\": 10, \\\"mumbai\\\": 5})\";\n",
       "                var nbb_formatted_code = \"sp.train([\\\"I want to play cricket\\\", \\\"this is a text corpus\\\"])\\n\\n\\nsp.train({\\\"i\\\": 2, \\\"want\\\": 1, \\\"play\\\": 1, \\\"cricket\\\": 10, \\\"mumbai\\\": 5})\";\n",
       "                var nbb_cells = Jupyter.notebook.get_cells();\n",
       "                for (var i = 0; i < nbb_cells.length; ++i) {\n",
       "                    if (nbb_cells[i].input_prompt_number == nbb_cell_id) {\n",
       "                        if (nbb_cells[i].get_text() == nbb_unformatted_code) {\n",
       "                             nbb_cells[i].set_text(nbb_formatted_code);\n",
       "                        }\n",
       "                        break;\n",
       "                    }\n",
       "                }\n",
       "            }, 500);\n",
       "            "
      ],
      "text/plain": [
       "<IPython.core.display.Javascript object>"
      ]
     },
     "metadata": {},
     "output_type": "display_data"
    }
   ],
   "source": [
    "sp.train([\"I want to play cricket\", \"this is a text corpus\"])\n",
    "\n",
    "sp.train({\"i\": 2, \"want\": 1, \"play\": 1, \"cricket\": 10, \"mumbai\": 5})"
   ]
  },
  {
   "cell_type": "code",
   "execution_count": 10,
   "metadata": {},
   "outputs": [
    {
     "name": "stdout",
     "output_type": "stream",
     "text": [
      "6\n"
     ]
    },
    {
     "data": {
      "text/plain": [
       "{'original_text': 'i wnt to plai kricket',\n",
       " 'spell_corrected_text': 'i want to play cricket',\n",
       " 'correction_dict': {'wnt': 'want', 'plai': 'play', 'kricket': 'cricket'}}"
      ]
     },
     "execution_count": 10,
     "metadata": {},
     "output_type": "execute_result"
    },
    {
     "data": {
      "application/javascript": [
       "\n",
       "            setTimeout(function() {\n",
       "                var nbb_cell_id = 10;\n",
       "                var nbb_unformatted_code = \"sp.spell_correct(\\\"i wnt to plai kricket\\\")\";\n",
       "                var nbb_formatted_code = \"sp.spell_correct(\\\"i wnt to plai kricket\\\")\";\n",
       "                var nbb_cells = Jupyter.notebook.get_cells();\n",
       "                for (var i = 0; i < nbb_cells.length; ++i) {\n",
       "                    if (nbb_cells[i].input_prompt_number == nbb_cell_id) {\n",
       "                        if (nbb_cells[i].get_text() == nbb_unformatted_code) {\n",
       "                             nbb_cells[i].set_text(nbb_formatted_code);\n",
       "                        }\n",
       "                        break;\n",
       "                    }\n",
       "                }\n",
       "            }, 500);\n",
       "            "
      ],
      "text/plain": [
       "<IPython.core.display.Javascript object>"
      ]
     },
     "metadata": {},
     "output_type": "display_data"
    }
   ],
   "source": [
    "sp.spell_correct(\"i wnt to plai kricket\")"
   ]
  },
  {
   "cell_type": "code",
   "execution_count": 11,
   "metadata": {},
   "outputs": [
    {
     "name": "stdout",
     "output_type": "stream",
     "text": [
      "6\n"
     ]
    },
    {
     "data": {
      "text/plain": [
       "{'original_text': 'i wnt to ply futbal',\n",
       " 'spell_corrected_text': 'i want to play futbal',\n",
       " 'correction_dict': {'wnt': 'want', 'ply': 'play'}}"
      ]
     },
     "execution_count": 11,
     "metadata": {},
     "output_type": "execute_result"
    },
    {
     "data": {
      "application/javascript": [
       "\n",
       "            setTimeout(function() {\n",
       "                var nbb_cell_id = 11;\n",
       "                var nbb_unformatted_code = \"sp.spell_correct(\\\"i wnt to ply futbal\\\")\";\n",
       "                var nbb_formatted_code = \"sp.spell_correct(\\\"i wnt to ply futbal\\\")\";\n",
       "                var nbb_cells = Jupyter.notebook.get_cells();\n",
       "                for (var i = 0; i < nbb_cells.length; ++i) {\n",
       "                    if (nbb_cells[i].input_prompt_number == nbb_cell_id) {\n",
       "                        if (nbb_cells[i].get_text() == nbb_unformatted_code) {\n",
       "                             nbb_cells[i].set_text(nbb_formatted_code);\n",
       "                        }\n",
       "                        break;\n",
       "                    }\n",
       "                }\n",
       "            }, 500);\n",
       "            "
      ],
      "text/plain": [
       "<IPython.core.display.Javascript object>"
      ]
     },
     "metadata": {},
     "output_type": "display_data"
    }
   ],
   "source": [
    "sp.spell_correct(\"i wnt to ply futbal\")"
   ]
  },
  {
   "cell_type": "code",
   "execution_count": 12,
   "metadata": {},
   "outputs": [
    {
     "data": {
      "text/plain": [
       "'/home/ubuntu/model.pkl'"
      ]
     },
     "execution_count": 12,
     "metadata": {},
     "output_type": "execute_result"
    },
    {
     "data": {
      "application/javascript": [
       "\n",
       "            setTimeout(function() {\n",
       "                var nbb_cell_id = 12;\n",
       "                var nbb_unformatted_code = \"sp.save(model_save_dir=\\\"/home/ubuntu/\\\")\";\n",
       "                var nbb_formatted_code = \"sp.save(model_save_dir=\\\"/home/ubuntu/\\\")\";\n",
       "                var nbb_cells = Jupyter.notebook.get_cells();\n",
       "                for (var i = 0; i < nbb_cells.length; ++i) {\n",
       "                    if (nbb_cells[i].input_prompt_number == nbb_cell_id) {\n",
       "                        if (nbb_cells[i].get_text() == nbb_unformatted_code) {\n",
       "                             nbb_cells[i].set_text(nbb_formatted_code);\n",
       "                        }\n",
       "                        break;\n",
       "                    }\n",
       "                }\n",
       "            }, 500);\n",
       "            "
      ],
      "text/plain": [
       "<IPython.core.display.Javascript object>"
      ]
     },
     "metadata": {},
     "output_type": "display_data"
    }
   ],
   "source": [
    "sp.save(model_save_dir=\"/home/ubuntu/\")"
   ]
  },
  {
   "cell_type": "code",
   "execution_count": 13,
   "metadata": {},
   "outputs": [
    {
     "data": {
      "text/plain": [
       "<spello.model.SpellCorrectionModel at 0x7fda64fe3910>"
      ]
     },
     "execution_count": 13,
     "metadata": {},
     "output_type": "execute_result"
    },
    {
     "data": {
      "application/javascript": [
       "\n",
       "            setTimeout(function() {\n",
       "                var nbb_cell_id = 13;\n",
       "                var nbb_unformatted_code = \"from spello.model import SpellCorrectionModel\\n\\nsp = SpellCorrectionModel(language=\\\"en\\\")\\nsp.load(\\\"/home/ubuntu/model.pkl\\\")\";\n",
       "                var nbb_formatted_code = \"from spello.model import SpellCorrectionModel\\n\\nsp = SpellCorrectionModel(language=\\\"en\\\")\\nsp.load(\\\"/home/ubuntu/model.pkl\\\")\";\n",
       "                var nbb_cells = Jupyter.notebook.get_cells();\n",
       "                for (var i = 0; i < nbb_cells.length; ++i) {\n",
       "                    if (nbb_cells[i].input_prompt_number == nbb_cell_id) {\n",
       "                        if (nbb_cells[i].get_text() == nbb_unformatted_code) {\n",
       "                             nbb_cells[i].set_text(nbb_formatted_code);\n",
       "                        }\n",
       "                        break;\n",
       "                    }\n",
       "                }\n",
       "            }, 500);\n",
       "            "
      ],
      "text/plain": [
       "<IPython.core.display.Javascript object>"
      ]
     },
     "metadata": {},
     "output_type": "display_data"
    }
   ],
   "source": [
    "sp = SpellCorrectionModel(language=\"en\")\n",
    "sp.load(\"/home/ubuntu/model.pkl\")"
   ]
  },
  {
   "cell_type": "code",
   "execution_count": 14,
   "metadata": {},
   "outputs": [
    {
     "data": {
      "application/javascript": [
       "\n",
       "            setTimeout(function() {\n",
       "                var nbb_cell_id = 14;\n",
       "                var nbb_unformatted_code = \"sp.config.min_length_for_spellcorrection = 2  # default is 3\\nsp.config.max_length_for_spellcorrection = 20  # default is 15\";\n",
       "                var nbb_formatted_code = \"sp.config.min_length_for_spellcorrection = 2  # default is 3\\nsp.config.max_length_for_spellcorrection = 20  # default is 15\";\n",
       "                var nbb_cells = Jupyter.notebook.get_cells();\n",
       "                for (var i = 0; i < nbb_cells.length; ++i) {\n",
       "                    if (nbb_cells[i].input_prompt_number == nbb_cell_id) {\n",
       "                        if (nbb_cells[i].get_text() == nbb_unformatted_code) {\n",
       "                             nbb_cells[i].set_text(nbb_formatted_code);\n",
       "                        }\n",
       "                        break;\n",
       "                    }\n",
       "                }\n",
       "            }, 500);\n",
       "            "
      ],
      "text/plain": [
       "<IPython.core.display.Javascript object>"
      ]
     },
     "metadata": {},
     "output_type": "display_data"
    }
   ],
   "source": [
    "sp.config.min_length_for_spellcorrection = 2  # default is 3\n",
    "sp.config.max_length_for_spellcorrection = 20  # default is 15"
   ]
  },
  {
   "cell_type": "code",
   "execution_count": 15,
   "metadata": {},
   "outputs": [
    {
     "data": {
      "application/javascript": [
       "\n",
       "            setTimeout(function() {\n",
       "                var nbb_cell_id = 15;\n",
       "                var nbb_unformatted_code = \"sp.config.symspell_allowed_distance_map = {\\n    2: 0,\\n    3: 1,\\n    4: 2,\\n    5: 3,\\n    6: 3,\\n    7: 4,\\n    8: 4,\\n    9: 5,\\n    10: 5,\\n    11: 5,\\n    12: 5,\\n    13: 6,\\n    14: 6,\\n    15: 6,\\n    16: 6,\\n    17: 6,\\n    18: 6,\\n    19: 6,\\n    20: 6,\\n}\\n# above dict signifies max edit distance possible for word of length 6 is 3, for length 7 is 4 and so on..\";\n",
       "                var nbb_formatted_code = \"sp.config.symspell_allowed_distance_map = {\\n    2: 0,\\n    3: 1,\\n    4: 2,\\n    5: 3,\\n    6: 3,\\n    7: 4,\\n    8: 4,\\n    9: 5,\\n    10: 5,\\n    11: 5,\\n    12: 5,\\n    13: 6,\\n    14: 6,\\n    15: 6,\\n    16: 6,\\n    17: 6,\\n    18: 6,\\n    19: 6,\\n    20: 6,\\n}\\n# above dict signifies max edit distance possible for word of length 6 is 3, for length 7 is 4 and so on..\";\n",
       "                var nbb_cells = Jupyter.notebook.get_cells();\n",
       "                for (var i = 0; i < nbb_cells.length; ++i) {\n",
       "                    if (nbb_cells[i].input_prompt_number == nbb_cell_id) {\n",
       "                        if (nbb_cells[i].get_text() == nbb_unformatted_code) {\n",
       "                             nbb_cells[i].set_text(nbb_formatted_code);\n",
       "                        }\n",
       "                        break;\n",
       "                    }\n",
       "                }\n",
       "            }, 500);\n",
       "            "
      ],
      "text/plain": [
       "<IPython.core.display.Javascript object>"
      ]
     },
     "metadata": {},
     "output_type": "display_data"
    }
   ],
   "source": [
    "sp.config.symspell_allowed_distance_map = {\n",
    "    2: 0, 3: 1, 4: 2, 5: 3, 6: 3, 7: 4, 8: 4, 9: 5, 10: 5, 11: 5, 12: 5, 13: 6,\n",
    "    14: 6, 15: 6, 16: 6, 17: 6, 18: 6, 19: 6, 20: 6,\n",
    "}\n",
    "# above dict signifies max edit distance possible for word of length 6 is 3, for length 7 is 4 and so on.."
   ]
  },
  {
   "cell_type": "code",
   "execution_count": 16,
   "metadata": {},
   "outputs": [
    {
     "data": {
      "application/javascript": [
       "\n",
       "            setTimeout(function() {\n",
       "                var nbb_cell_id = 16;\n",
       "                var nbb_unformatted_code = \"sp.set_default_config()\";\n",
       "                var nbb_formatted_code = \"sp.set_default_config()\";\n",
       "                var nbb_cells = Jupyter.notebook.get_cells();\n",
       "                for (var i = 0; i < nbb_cells.length; ++i) {\n",
       "                    if (nbb_cells[i].input_prompt_number == nbb_cell_id) {\n",
       "                        if (nbb_cells[i].get_text() == nbb_unformatted_code) {\n",
       "                             nbb_cells[i].set_text(nbb_formatted_code);\n",
       "                        }\n",
       "                        break;\n",
       "                    }\n",
       "                }\n",
       "            }, 500);\n",
       "            "
      ],
      "text/plain": [
       "<IPython.core.display.Javascript object>"
      ]
     },
     "metadata": {},
     "output_type": "display_data"
    }
   ],
   "source": [
    "sp.set_default_config()"
   ]
  },
  {
   "cell_type": "code",
   "execution_count": 17,
   "metadata": {},
   "outputs": [
    {
     "data": {
      "application/javascript": [
       "\n",
       "            setTimeout(function() {\n",
       "                var nbb_cell_id = 17;\n",
       "                var nbb_unformatted_code = \"#!wget https://www.dropbox.com/s/81iag9tjgfuvnh0/en.pkl.zip\\n#!unzip en.pkl.zip\";\n",
       "                var nbb_formatted_code = \"#!wget https://www.dropbox.com/s/81iag9tjgfuvnh0/en.pkl.zip\\n#!unzip en.pkl.zip\";\n",
       "                var nbb_cells = Jupyter.notebook.get_cells();\n",
       "                for (var i = 0; i < nbb_cells.length; ++i) {\n",
       "                    if (nbb_cells[i].input_prompt_number == nbb_cell_id) {\n",
       "                        if (nbb_cells[i].get_text() == nbb_unformatted_code) {\n",
       "                             nbb_cells[i].set_text(nbb_formatted_code);\n",
       "                        }\n",
       "                        break;\n",
       "                    }\n",
       "                }\n",
       "            }, 500);\n",
       "            "
      ],
      "text/plain": [
       "<IPython.core.display.Javascript object>"
      ]
     },
     "metadata": {},
     "output_type": "display_data"
    }
   ],
   "source": [
    "#!wget https://www.dropbox.com/s/81iag9tjgfuvnh0/en.pkl.zip\n",
    "#!unzip en.pkl.zip"
   ]
  },
  {
   "cell_type": "code",
   "execution_count": 18,
   "metadata": {},
   "outputs": [
    {
     "name": "stdout",
     "output_type": "stream",
     "text": [
      "members1, 0, 1\n"
     ]
    },
    {
     "data": {
      "application/javascript": [
       "\n",
       "            setTimeout(function() {\n",
       "                var nbb_cell_id = 18;\n",
       "                var nbb_unformatted_code = \"# lookup suggestions for single-word input strings\\ninput_term = \\\"members1\\\"\\n# max edit distance per lookup\\n# (max_edit_distance_lookup <= max_dictionary_edit_distance)\\nsuggestions = sym_spell.lookup(\\n    input_term, Verbosity.CLOSEST, max_edit_distance=2, ignore_token=r\\\"\\\\w+\\\\d\\\"\\n)\\n# display suggestion term, term frequency, and edit distance\\nfor suggestion in suggestions:\\n    print(suggestion)\";\n",
       "                var nbb_formatted_code = \"# lookup suggestions for single-word input strings\\ninput_term = \\\"members1\\\"\\n# max edit distance per lookup\\n# (max_edit_distance_lookup <= max_dictionary_edit_distance)\\nsuggestions = sym_spell.lookup(\\n    input_term, Verbosity.CLOSEST, max_edit_distance=2, ignore_token=r\\\"\\\\w+\\\\d\\\"\\n)\\n# display suggestion term, term frequency, and edit distance\\nfor suggestion in suggestions:\\n    print(suggestion)\";\n",
       "                var nbb_cells = Jupyter.notebook.get_cells();\n",
       "                for (var i = 0; i < nbb_cells.length; ++i) {\n",
       "                    if (nbb_cells[i].input_prompt_number == nbb_cell_id) {\n",
       "                        if (nbb_cells[i].get_text() == nbb_unformatted_code) {\n",
       "                             nbb_cells[i].set_text(nbb_formatted_code);\n",
       "                        }\n",
       "                        break;\n",
       "                    }\n",
       "                }\n",
       "            }, 500);\n",
       "            "
      ],
      "text/plain": [
       "<IPython.core.display.Javascript object>"
      ]
     },
     "metadata": {},
     "output_type": "display_data"
    }
   ],
   "source": [
    "# lookup suggestions for single-word input strings\n",
    "input_term = \"members1\"\n",
    "# max edit distance per lookup\n",
    "# (max_edit_distance_lookup <= max_dictionary_edit_distance)\n",
    "suggestions = sym_spell.lookup(\n",
    "    input_term, Verbosity.CLOSEST, max_edit_distance=2, ignore_token=r\"\\w+\\d\"\n",
    ")\n",
    "# display suggestion term, term frequency, and edit distance\n",
    "for suggestion in suggestions:\n",
    "    print(suggestion)"
   ]
  },
  {
   "cell_type": "code",
   "execution_count": 16,
   "metadata": {},
   "outputs": [
    {
     "data": {
      "text/plain": [
       "<spello.model.SpellCorrectionModel at 0x7f18a8d81cd0>"
      ]
     },
     "execution_count": 16,
     "metadata": {},
     "output_type": "execute_result"
    },
    {
     "data": {
      "application/javascript": [
       "\n",
       "            setTimeout(function() {\n",
       "                var nbb_cell_id = 16;\n",
       "                var nbb_unformatted_code = \"sp = SpellCorrectionModel(language=\\\"en\\\")\\nsp.load(\\\"en.pkl\\\")\";\n",
       "                var nbb_formatted_code = \"sp = SpellCorrectionModel(language=\\\"en\\\")\\nsp.load(\\\"en.pkl\\\")\";\n",
       "                var nbb_cells = Jupyter.notebook.get_cells();\n",
       "                for (var i = 0; i < nbb_cells.length; ++i) {\n",
       "                    if (nbb_cells[i].input_prompt_number == nbb_cell_id) {\n",
       "                        if (nbb_cells[i].get_text() == nbb_unformatted_code) {\n",
       "                             nbb_cells[i].set_text(nbb_formatted_code);\n",
       "                        }\n",
       "                        break;\n",
       "                    }\n",
       "                }\n",
       "            }, 500);\n",
       "            "
      ],
      "text/plain": [
       "<IPython.core.display.Javascript object>"
      ]
     },
     "metadata": {},
     "output_type": "display_data"
    }
   ],
   "source": [
    "sp = SpellCorrectionModel(language=\"en\")\n",
    "sp.load(\"en.pkl\")"
   ]
  },
  {
   "cell_type": "code",
   "execution_count": 15,
   "metadata": {},
   "outputs": [
    {
     "name": "stdout",
     "output_type": "stream",
     "text": [
      "6\n"
     ]
    },
    {
     "data": {
      "text/plain": [
       "{'original_text': 'i wnt to ply futbal',\n",
       " 'spell_corrected_text': 'i want to ply futsal',\n",
       " 'correction_dict': {'wnt': 'want', 'futbal': 'futsal'}}"
      ]
     },
     "execution_count": 15,
     "metadata": {},
     "output_type": "execute_result"
    },
    {
     "data": {
      "application/javascript": [
       "\n",
       "            setTimeout(function() {\n",
       "                var nbb_cell_id = 15;\n",
       "                var nbb_unformatted_code = \"sp.spell_correct(\\\"i wnt to ply futbal\\\")\";\n",
       "                var nbb_formatted_code = \"sp.spell_correct(\\\"i wnt to ply futbal\\\")\";\n",
       "                var nbb_cells = Jupyter.notebook.get_cells();\n",
       "                for (var i = 0; i < nbb_cells.length; ++i) {\n",
       "                    if (nbb_cells[i].input_prompt_number == nbb_cell_id) {\n",
       "                        if (nbb_cells[i].get_text() == nbb_unformatted_code) {\n",
       "                             nbb_cells[i].set_text(nbb_formatted_code);\n",
       "                        }\n",
       "                        break;\n",
       "                    }\n",
       "                }\n",
       "            }, 500);\n",
       "            "
      ],
      "text/plain": [
       "<IPython.core.display.Javascript object>"
      ]
     },
     "metadata": {},
     "output_type": "display_data"
    }
   ],
   "source": [
    "sp.spell_correct(\"i wnt to ply futbal\")"
   ]
  }
 ],
 "metadata": {
  "kernelspec": {
   "display_name": "Python 3",
   "language": "python",
   "name": "python3"
  },
  "language_info": {
   "codemirror_mode": {
    "name": "ipython",
    "version": 3
   },
   "file_extension": ".py",
   "mimetype": "text/x-python",
   "name": "python",
   "nbconvert_exporter": "python",
   "pygments_lexer": "ipython3",
   "version": "3.7.4"
  }
 },
 "nbformat": 4,
 "nbformat_minor": 2
}
