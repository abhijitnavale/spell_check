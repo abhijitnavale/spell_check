{
 "cells": [
  {
   "cell_type": "code",
   "execution_count": 74,
   "metadata": {},
   "outputs": [],
   "source": [
    "# !wget https://dumps.wikimedia.org/mrwiki/20190320/mrwiki-20190320-pages-articles.xml.bz2"
   ]
  },
  {
   "cell_type": "code",
   "execution_count": 75,
   "metadata": {},
   "outputs": [],
   "source": [
    "# !bzip2 -dc mrwiki-20190320-pages-articles.xml.bz2 > mytext.txt"
   ]
  },
  {
   "cell_type": "code",
   "execution_count": 76,
   "metadata": {},
   "outputs": [],
   "source": [
    "from itertools import chain\n",
    "from collections import Counter\n",
    "import string\n",
    "import pandas as pd"
   ]
  },
  {
   "cell_type": "code",
   "execution_count": 8,
   "metadata": {},
   "outputs": [],
   "source": [
    "def countInFile(filename):\n",
    "    mylist=list()\n",
    "    with open(filename) as f:\n",
    "        for line in f:\n",
    "            text = line.translate(str.maketrans('','',string.punctuation))\n",
    "            text1 = text.translate(str.maketrans('','','1234567890'))\n",
    "            linewords = text1.lower().split()\n",
    "            mylist.append(linewords)\n",
    "    return Counter(chain.from_iterable(mylist))"
   ]
  },
  {
   "cell_type": "code",
   "execution_count": 9,
   "metadata": {},
   "outputs": [],
   "source": [
    "co1=countInFile('mytext.txt')"
   ]
  },
  {
   "cell_type": "code",
   "execution_count": 15,
   "metadata": {},
   "outputs": [],
   "source": [
    "mys=pd.Series(co1)"
   ]
  },
  {
   "cell_type": "code",
   "execution_count": 48,
   "metadata": {},
   "outputs": [],
   "source": [
    "ndf=mys[mys.keys().str.startswith('मा')]"
   ]
  },
  {
   "cell_type": "code",
   "execution_count": 57,
   "metadata": {},
   "outputs": [],
   "source": [
    "mydic=dict()\n",
    "for i in set(ndf.keys().str[2]):\n",
    "    mydic[i] = ndf[ndf.keys().str[2] == i].sum()   "
   ]
  },
  {
   "cell_type": "code",
   "execution_count": 60,
   "metadata": {},
   "outputs": [
    {
     "data": {
      "text/plain": [
       "NaN        0\n",
       "ै          1\n",
       "ङ          1\n",
       "t          1\n",
       "छ          1\n",
       "‍          2\n",
       "्          2\n",
       "़          2\n",
       "c          3\n",
       "आ          5\n",
       "l          6\n",
       "अ          7\n",
       "ञ          8\n",
       "ष          8\n",
       "ए         15\n",
       "भ         18\n",
       "ब         22\n",
       "े         22\n",
       "ऱ         25\n",
       "ॅ         25\n",
       "ठ         50\n",
       "ढ         76\n",
       "ख         79\n",
       "ओ        159\n",
       "ई        233\n",
       "च        242\n",
       "ऊ        249\n",
       "ट        283\n",
       "फ        289\n",
       "इ        391\n",
       "थ        570\n",
       "श        591\n",
       "घ        602\n",
       "प        619\n",
       "उ        625\n",
       "क        626\n",
       "ड        632\n",
       "म        673\n",
       "ँ        909\n",
       "ळ       1115\n",
       "व       1379\n",
       "द       1517\n",
       "ज       2071\n",
       "ण       3947\n",
       "य       4079\n",
       "स       4469\n",
       "झ       5182\n",
       "ं       5872\n",
       "ध       5877\n",
       "त       7161\n",
       "ग       7681\n",
       "ल      13425\n",
       "न      15825\n",
       "र      30581\n",
       "ह      46842\n",
       "dtype: int64"
      ]
     },
     "execution_count": 60,
     "metadata": {},
     "output_type": "execute_result"
    }
   ],
   "source": [
    "pd.Series(mydic).sort_values()"
   ]
  },
  {
   "cell_type": "code",
   "execution_count": 72,
   "metadata": {},
   "outputs": [],
   "source": [
    "ndf=mys[mys.keys().str.startswith('माझ')]"
   ]
  },
  {
   "cell_type": "code",
   "execution_count": 73,
   "metadata": {},
   "outputs": [
    {
     "data": {
      "text/plain": [
       "माझेपण               1\n",
       "माझेवर               1\n",
       "माझेसर्व             1\n",
       "माझे।                1\n",
       "माझे।नावरे           1\n",
       "माझे‘                1\n",
       "माझॉव्येत्स्की       1\n",
       "माझो                 1\n",
       "माझेरीतूनही          1\n",
       "माझोड                1\n",
       "माझ्ं                1\n",
       "माझ्कीता             1\n",
       "माझ्झिनी             1\n",
       "माझ्याltbr           1\n",
       "माझ्याtitle          1\n",
       "माझ्याकडचं           1\n",
       "माझ्याकडुन           1\n",
       "माझोव्हिया           1\n",
       "माझ्याकडूनच          1\n",
       "माझेराग              1\n",
       "माझेबद्दलचा          1\n",
       "माझीसाइट             1\n",
       "माझी।।               1\n",
       "माझुरेक              1\n",
       "माझुरोनक             1\n",
       "माझेltbrgt           1\n",
       "माझेquot             1\n",
       "माझेsltbr            1\n",
       "माझेब्वर             1\n",
       "माझेंltbr            1\n",
       "                  ... \n",
       "माझांदारान           6\n",
       "माझाtitle            6\n",
       "माझेच                7\n",
       "माझें                7\n",
       "माझदा                7\n",
       "माझ्याविषयी          8\n",
       "माझ्यापेक्षा         8\n",
       "माझा’                8\n",
       "माझ्याच              8\n",
       "माझ्याही             9\n",
       "माझिरे              11\n",
       "माझ्यामते           12\n",
       "माझ्यासारख्या       13\n",
       "माझाही              16\n",
       "माझ्यात             16\n",
       "माझेही              19\n",
       "माझ                 19\n",
       "माझगांव             20\n",
       "माझ्याकडून          23\n",
       "माझिया              28\n",
       "माझ्याशी            31\n",
       "माझ्यासाठी          34\n",
       "माझ्याकडे           38\n",
       "माझगाव              39\n",
       "माझ्यावर            67\n",
       "माझं                99\n",
       "माझी               826\n",
       "माझा              1002\n",
       "माझ्या            1204\n",
       "माझे              1304\n",
       "Length: 216, dtype: int64"
      ]
     },
     "execution_count": 73,
     "metadata": {},
     "output_type": "execute_result"
    }
   ],
   "source": [
    "ndf.sort_values() ## माहिती, माहेर मार्ग, मारला  मानव, मान्य, मानले मालिका, मालक मागास, मागील, मागणी "
   ]
  }
 ],
 "metadata": {
  "kernelspec": {
   "display_name": "conda_python3",
   "language": "python",
   "name": "conda_python3"
  },
  "language_info": {
   "codemirror_mode": {
    "name": "ipython",
    "version": 3
   },
   "file_extension": ".py",
   "mimetype": "text/x-python",
   "name": "python",
   "nbconvert_exporter": "python",
   "pygments_lexer": "ipython3",
   "version": "3.6.5"
  }
 },
 "nbformat": 4,
 "nbformat_minor": 2
}
