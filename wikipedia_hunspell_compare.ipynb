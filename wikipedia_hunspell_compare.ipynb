{
 "cells": [
  {
   "cell_type": "code",
   "execution_count": 4,
   "metadata": {},
   "outputs": [],
   "source": [
    "# ! git clone https://github.com/shantanuo/marathi_spell_check.git"
   ]
  },
  {
   "cell_type": "code",
   "execution_count": 95,
   "metadata": {},
   "outputs": [],
   "source": [
    "# !wget https://dumps.wikimedia.org/mrwiki/20190320/mrwiki-20190320-pages-articles.xml.bz2"
   ]
  },
  {
   "cell_type": "code",
   "execution_count": 2,
   "metadata": {},
   "outputs": [],
   "source": [
    "# !bzip2 -dc mrwiki-20190320-pages-articles.xml.bz2 > mytext.txt"
   ]
  },
  {
   "cell_type": "code",
   "execution_count": 5,
   "metadata": {},
   "outputs": [],
   "source": [
    "from itertools import chain\n",
    "from collections import Counter\n",
    "import string\n",
    "import pandas as pd"
   ]
  },
  {
   "cell_type": "code",
   "execution_count": 6,
   "metadata": {},
   "outputs": [],
   "source": [
    "def countInFile(filename):\n",
    "    mylist=list()\n",
    "    with open(filename) as f:\n",
    "        for line in f:\n",
    "            text = line.translate(str.maketrans('','',string.punctuation))\n",
    "            text1 = text.translate(str.maketrans('','','1234567890'))\n",
    "            linewords = text1.lower().split()\n",
    "            mylist.append(linewords)\n",
    "    return Counter(chain.from_iterable(mylist))"
   ]
  },
  {
   "cell_type": "code",
   "execution_count": 7,
   "metadata": {},
   "outputs": [],
   "source": [
    "co1=countInFile('mytext.txt')"
   ]
  },
  {
   "cell_type": "code",
   "execution_count": 87,
   "metadata": {},
   "outputs": [],
   "source": [
    "mys=pd.Series(co1)"
   ]
  },
  {
   "cell_type": "code",
   "execution_count": null,
   "metadata": {},
   "outputs": [],
   "source": []
  },
  {
   "cell_type": "code",
   "execution_count": 9,
   "metadata": {},
   "outputs": [],
   "source": [
    "ndf=mys[mys.keys().str.startswith('मा')]"
   ]
  },
  {
   "cell_type": "code",
   "execution_count": 10,
   "metadata": {},
   "outputs": [],
   "source": [
    "mydic=dict()\n",
    "for i in set(ndf.keys().str[2]):\n",
    "    mydic[i] = ndf[ndf.keys().str[2] == i].sum()   "
   ]
  },
  {
   "cell_type": "code",
   "execution_count": 11,
   "metadata": {},
   "outputs": [
    {
     "data": {
      "text/plain": [
       "NaN        0\n",
       "t          1\n",
       "छ          1\n",
       "ै          1\n",
       "ङ          1\n",
       "‍          2\n",
       "्          2\n",
       "़          2\n",
       "c          3\n",
       "आ          5\n",
       "l          6\n",
       "अ          7\n",
       "ञ          8\n",
       "ष          8\n",
       "ए         15\n",
       "भ         18\n",
       "े         22\n",
       "ब         22\n",
       "ऱ         25\n",
       "ॅ         25\n",
       "ठ         50\n",
       "ढ         76\n",
       "ख         79\n",
       "ओ        159\n",
       "ई        233\n",
       "च        242\n",
       "ऊ        249\n",
       "ट        283\n",
       "फ        289\n",
       "इ        391\n",
       "थ        570\n",
       "श        591\n",
       "घ        602\n",
       "प        619\n",
       "उ        625\n",
       "क        626\n",
       "ड        632\n",
       "म        673\n",
       "ँ        909\n",
       "ळ       1115\n",
       "व       1379\n",
       "द       1517\n",
       "ज       2071\n",
       "ण       3947\n",
       "य       4079\n",
       "स       4469\n",
       "झ       5182\n",
       "ं       5872\n",
       "ध       5877\n",
       "त       7161\n",
       "ग       7681\n",
       "ल      13425\n",
       "न      15825\n",
       "र      30581\n",
       "ह      46842\n",
       "dtype: int64"
      ]
     },
     "execution_count": 11,
     "metadata": {},
     "output_type": "execute_result"
    }
   ],
   "source": [
    "pd.Series(mydic).sort_values()"
   ]
  },
  {
   "cell_type": "code",
   "execution_count": 12,
   "metadata": {},
   "outputs": [],
   "source": [
    "ndf=mys[mys.keys().str.startswith('माझ')]"
   ]
  },
  {
   "cell_type": "code",
   "execution_count": null,
   "metadata": {},
   "outputs": [],
   "source": []
  },
  {
   "cell_type": "code",
   "execution_count": 13,
   "metadata": {},
   "outputs": [
    {
     "data": {
      "text/plain": [
       "माझेरीतूनही            1\n",
       "माझ्झिनी               1\n",
       "माझेंltbr              1\n",
       "माझी।।                 1\n",
       "माझ्याबद्दलचे          1\n",
       "माझीltbrgt             1\n",
       "माझेकडे                1\n",
       "माझ्यासकट              1\n",
       "माझ्यात”१२             1\n",
       "माझामाझ्या             1\n",
       "माझ्यापुढं             1\n",
       "माझ्याव्यतिरिक्त       1\n",
       "माझा।।ltbrgt           1\n",
       "माझेब्वर               1\n",
       "माझेवर                 1\n",
       "माझर्स                 1\n",
       "माझगावमधून             1\n",
       "माझ्यावरltbrgt         1\n",
       "माझापेपरकॉम            1\n",
       "माझेपण                 1\n",
       "माझेंपण                1\n",
       "माझींltbr              1\n",
       "माझ्यातर्फेपण          1\n",
       "माझेsltbr              1\n",
       "माझा’वरील              1\n",
       "माझगावcomment          1\n",
       "माझीquotचा             1\n",
       "माझ्यापुरती            1\n",
       "माझ्याविरुद्ध          1\n",
       "माझ्या’                1\n",
       "                    ... \n",
       "माझ्याबद्दल            6\n",
       "माझोव्येत्स्का         6\n",
       "माझें                  7\n",
       "माझदा                  7\n",
       "माझेच                  7\n",
       "माझ्याविषयी            8\n",
       "माझ्याच                8\n",
       "माझ्यापेक्षा           8\n",
       "माझा’                  8\n",
       "माझ्याही               9\n",
       "माझिरे                11\n",
       "माझ्यामते             12\n",
       "माझ्यासारख्या         13\n",
       "माझाही                16\n",
       "माझ्यात               16\n",
       "माझ                   19\n",
       "माझेही                19\n",
       "माझगांव               20\n",
       "माझ्याकडून            23\n",
       "माझिया                28\n",
       "माझ्याशी              31\n",
       "माझ्यासाठी            34\n",
       "माझ्याकडे             38\n",
       "माझगाव                39\n",
       "माझ्यावर              67\n",
       "माझं                  99\n",
       "माझी                 826\n",
       "माझा                1002\n",
       "माझ्या              1204\n",
       "माझे                1304\n",
       "Length: 216, dtype: int64"
      ]
     },
     "execution_count": 13,
     "metadata": {},
     "output_type": "execute_result"
    }
   ],
   "source": [
    "ndf.sort_values() ## माहिती, माहेर मार्ग, मारला  मानव, मान्य, मानले मालिका, मालक मागास, मागील, मागणी "
   ]
  },
  {
   "cell_type": "code",
   "execution_count": null,
   "metadata": {},
   "outputs": [],
   "source": []
  },
  {
   "cell_type": "code",
   "execution_count": null,
   "metadata": {},
   "outputs": [],
   "source": []
  },
  {
   "cell_type": "code",
   "execution_count": 43,
   "metadata": {},
   "outputs": [],
   "source": [
    "mylist = list()\n",
    "with open('marathi_spell_check/dicts/mr_IN.dic') as f:\n",
    "    for line in f:\n",
    "        mylist.append(line.rstrip('\\n'))"
   ]
  },
  {
   "cell_type": "code",
   "execution_count": 68,
   "metadata": {},
   "outputs": [],
   "source": [
    "myset = set(mylist)"
   ]
  },
  {
   "cell_type": "code",
   "execution_count": 69,
   "metadata": {},
   "outputs": [
    {
     "data": {
      "text/plain": [
       "193593"
      ]
     },
     "execution_count": 69,
     "metadata": {},
     "output_type": "execute_result"
    }
   ],
   "source": [
    "len(myset)"
   ]
  },
  {
   "cell_type": "code",
   "execution_count": 88,
   "metadata": {},
   "outputs": [],
   "source": [
    "mys=mys.keys().str.replace(r'[a-zA-Z]+', '').str.replace(r'[१२३४५६७८९०]+', '')"
   ]
  },
  {
   "cell_type": "code",
   "execution_count": 89,
   "metadata": {},
   "outputs": [],
   "source": [
    "mys=mys[mys.str.len() < 22]"
   ]
  },
  {
   "cell_type": "code",
   "execution_count": 90,
   "metadata": {},
   "outputs": [],
   "source": [
    "myset2=set(mys)"
   ]
  },
  {
   "cell_type": "code",
   "execution_count": 91,
   "metadata": {},
   "outputs": [
    {
     "data": {
      "text/plain": [
       "731508"
      ]
     },
     "execution_count": 91,
     "metadata": {},
     "output_type": "execute_result"
    }
   ],
   "source": [
    "len(myset2)"
   ]
  },
  {
   "cell_type": "code",
   "execution_count": 92,
   "metadata": {},
   "outputs": [
    {
     "data": {
      "text/plain": [
       "633010"
      ]
     },
     "execution_count": 92,
     "metadata": {},
     "output_type": "execute_result"
    }
   ],
   "source": [
    "len(myset2 - myset)"
   ]
  },
  {
   "cell_type": "code",
   "execution_count": 93,
   "metadata": {},
   "outputs": [],
   "source": [
    "final=myset2 - myset"
   ]
  },
  {
   "cell_type": "code",
   "execution_count": 94,
   "metadata": {},
   "outputs": [],
   "source": [
    "with open('your_file2.txt', 'w') as f:\n",
    "    for item in final:\n",
    "        f.write(\"%s\\n\" % item)"
   ]
  }
 ],
 "metadata": {
  "kernelspec": {
   "display_name": "Python 3",
   "language": "python",
   "name": "python3"
  },
  "language_info": {
   "codemirror_mode": {
    "name": "ipython",
    "version": 3
   },
   "file_extension": ".py",
   "mimetype": "text/x-python",
   "name": "python",
   "nbconvert_exporter": "python",
   "pygments_lexer": "ipython3",
   "version": "3.7.1"
  }
 },
 "nbformat": 4,
 "nbformat_minor": 2
}
