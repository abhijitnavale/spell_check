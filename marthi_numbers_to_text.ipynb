{
 "cells": [
  {
   "cell_type": "code",
   "execution_count": 27,
   "metadata": {},
   "outputs": [],
   "source": [
    "### Zero based index for numbers 0 to 100.\n",
    "INDEX_SHE       = 101          # 100s\n",
    "INDEX_HAJAR     = 102          # 1000s\n",
    "INDEX_LAKH      = 103          # 100000s\n",
    "INDEX_CRORE     = 104          # 10000000s\n",
    "INDEX_RUPAYE    = 105          # Rupaye"
   ]
  },
  {
   "cell_type": "code",
   "execution_count": 28,
   "metadata": {},
   "outputs": [],
   "source": [
    "mynumbers = \"\"\"\n",
    "शून्य \n",
    "एक  \n",
    "दोन  \n",
    "तीन  \n",
    "चार  \n",
    "पाच  \n",
    "सहा  \n",
    "सात  \n",
    "आठ  \n",
    "नऊ  \n",
    "दहा   \n",
    "अकरा  \n",
    "बारा  \n",
    "तेरा  \n",
    "चौदा  \n",
    "पंधरा  \n",
    "सोळा  \n",
    "सतरा  \n",
    "अठरा  \n",
    "एकोणीस  \n",
    "वीस  \n",
    "एकवीस  \n",
    "बावीस  \n",
    "तेवीस  \n",
    "चोवीस  \n",
    "पंचवीस  \n",
    "सव्वीस  \n",
    "सत्तावीस  \n",
    "अठ्ठावीस  \n",
    "एकोणतीस  \n",
    "तीस  \n",
    "एकतीस  \n",
    "बत्तीस  \n",
    "तेहतीस  \n",
    "चौतीस  \n",
    "पस्तीस  \n",
    "छत्तीस  \n",
    "सदतीस  \n",
    "अडतीस  \n",
    "एकोणचाळीस \n",
    "चाळीस  \n",
    "एकेचाळीस  \n",
    "बेचाळीस  \n",
    "त्रेचाळीस  \n",
    "चव्वेचाळीस \n",
    "पंचेचाळीस \n",
    "शेहेचाळीस \n",
    "सत्तेचाळीस \n",
    "अठ्ठेचाळीस \n",
    "एकोणपन्नास \n",
    "पन्नास \n",
    "एकावन्न \n",
    "बावन्न \n",
    "त्रेपन्न \n",
    "चौपन्न \n",
    "पंचावन्न \n",
    "छपन्न \n",
    "सत्तावन्न \n",
    "अठ्ठावन्न \n",
    "एकोणसाठ \n",
    "साठ \n",
    "एकसष्ट \n",
    "बासष्ट \n",
    "त्रेसष्ट \n",
    "चौसष्ट \n",
    "पासष्ट \n",
    "सहासष्ट \n",
    "सदुसष्ट \n",
    "अडुसष्ट \n",
    "एकोणसत्तर \n",
    "सत्तर \n",
    "एकाहत्तर \n",
    "बाहत्तर  \n",
    "त्र्याहत्तर \n",
    "चौऱ्याहत्तर   \n",
    "पंचाहत्तर \n",
    "शाहत्तर \n",
    "सत्त्याहत्तर \n",
    "अठ्ठ्याहत्तर \n",
    "एकोणऐंशी \n",
    "ऐंशी \n",
    "एक्याऐंशी \n",
    "ब्याऐंशी \n",
    "त्र्याऐंशी \n",
    "चौऱ्याऐंशी \n",
    "पंच्याऐंशी \n",
    "शाऐंशी \n",
    "सत्त्याऐंशी  \n",
    "अठ्ठ्याऐंशी \n",
    "एकोणनव्वद \n",
    "नव्वद \n",
    "एक्याण्णव \n",
    "ब्याण्णव \n",
    "त्र्याण्णव \n",
    "चौऱ्याण्णव \n",
    "पंचाण्णव \n",
    "शहाण्णव \n",
    "सत्त्याण्णव \n",
    "अठ्ठ्याण्णव \n",
    "नव्याण्णव \n",
    "शंभर   \n",
    "\"\"\""
   ]
  },
  {
   "cell_type": "code",
   "execution_count": null,
   "metadata": {},
   "outputs": [],
   "source": []
  },
  {
   "cell_type": "code",
   "execution_count": null,
   "metadata": {},
   "outputs": [],
   "source": []
  },
  {
   "cell_type": "code",
   "execution_count": 29,
   "metadata": {},
   "outputs": [],
   "source": [
    "number_to_word_in_marathi_lookup_table = mynumbers.split() + [\n",
    "    \"शे\",  # 101: INDEX_SHE\n",
    "    \"हजार\",  # 102: INDEX_HAJAR\n",
    "    \"लाख\",  # INDEX_LAKH\n",
    "    \"कोटी\",  # INDEX_CRORE\n",
    "    \"रुपये\",  # INDEX_RUPAYE\n",
    "]"
   ]
  },
  {
   "cell_type": "code",
   "execution_count": 30,
   "metadata": {},
   "outputs": [],
   "source": [
    "## Obtain the word string for given index from number_to_word_in_marathi_lookup_table\n",
    "\n",
    "def number_to_words_in_marathi(number):\n",
    "    words_in_marathi = \"\"\n",
    "\n",
    "    if number == 0:\n",
    "        words_in_marathi = number_to_word_in_marathi_lookup_table[0]\n",
    "        return words_in_marathi\n",
    "\n",
    "    crores    = int(number / 10000000)\n",
    "    number    = int(number % 10000000)\n",
    "    lakhs     = int(number / 100000)\n",
    "    number    = int(number % 100000)\n",
    "    thousands = int(number / 1000)\n",
    "    number    = int(number % 1000)\n",
    "    hundreds  = int(number / 100)\n",
    "    reminder  = int(number % 100)\n",
    "\n",
    "    if crores > 100:\n",
    "        words_in_marathi += number_to_words_in_marathi(crores)                + \" \" + number_to_word_in_marathi_lookup_table[INDEX_CRORE] # \"\"दोनशे कोटी\"\n",
    "    elif crores > 0:\n",
    "        words_in_marathi += number_to_word_in_marathi_lookup_table[crores]    + \" \" + number_to_word_in_marathi_lookup_table[INDEX_CRORE] # \"दोन कोटी\"\n",
    "    if lakhs  > 0:\n",
    "        if words_in_marathi != \"\":\n",
    "            words_in_marathi += \" \"\n",
    "        words_in_marathi += number_to_word_in_marathi_lookup_table[lakhs]     + \" \" + number_to_word_in_marathi_lookup_table[INDEX_LAKH]  # \"दोन लाख\"\n",
    "    if thousands > 0:\n",
    "        if words_in_marathi != \"\":\n",
    "            words_in_marathi += \" \"\n",
    "        words_in_marathi += number_to_word_in_marathi_lookup_table[thousands] + \" \" + number_to_word_in_marathi_lookup_table[INDEX_HAJAR] # \"दोन हजार\"\n",
    "    \"\"\" Commented till next one\n",
    "    if ((hundreds > 1) or ((hundreds == 1) and (reminder>0))):\n",
    "        words_in_marathi += number_to_word_in_marathi_lookup_table[hundreds] + number_to_word_in_marathi_lookup_table[INDEX_SHE] # \"दोनशे\", \"एकशे दोन\" -- no space before \"she\"\n",
    "    if ((hundreds == 1) and (reminder == 0)):\n",
    "        words_in_marathi += number_to_word_in_marathi_lookup_table[100] # \"शंभर\", \"दोन हजार शंभर\"\n",
    "    \"\"\"\n",
    "    if hundreds > 0:\n",
    "        if words_in_marathi != \"\":\n",
    "            words_in_marathi += \" \"\n",
    "        words_in_marathi += number_to_word_in_marathi_lookup_table[hundreds] + number_to_word_in_marathi_lookup_table[INDEX_SHE] # \"दोनशे\", \"एकशे दोन\" -- no space before \"she\"\n",
    "    if reminder > 0:\n",
    "        if words_in_marathi != \"\":\n",
    "            words_in_marathi += \" \"\n",
    "        words_in_marathi += number_to_word_in_marathi_lookup_table[reminder] # \"दोन\"\n",
    "    return words_in_marathi"
   ]
  },
  {
   "cell_type": "code",
   "execution_count": 31,
   "metadata": {},
   "outputs": [],
   "source": [
    "digit_to_string_in_devnagari_lookup_table = [\n",
    "    \"०\",\n",
    "    \"१\",\n",
    "    \"२\",\n",
    "    \"३\",\n",
    "    \"४\",\n",
    "    \"५\",\n",
    "    \"६\",\n",
    "    \"७\",\n",
    "    \"८\",\n",
    "    \"९\"\n",
    "]"
   ]
  },
  {
   "cell_type": "code",
   "execution_count": 32,
   "metadata": {},
   "outputs": [],
   "source": [
    "def number_to_string_in_devnagari(number):\n",
    "    string_in_devnagari = \"\"\n",
    "    while True:\n",
    "        digit  = number % 10\n",
    "        string_in_devnagari = digit_to_string_in_devnagari_lookup_table[digit] + string_in_devnagari\n",
    "        number = int(number / 10)\n",
    "        if number == 0:\n",
    "            break\n",
    "    return string_in_devnagari"
   ]
  },
  {
   "cell_type": "code",
   "execution_count": 33,
   "metadata": {},
   "outputs": [],
   "source": [
    "def convert(number):\n",
    "    amount = int(number)\n",
    "    number_string = number_to_string_in_devnagari(amount)\n",
    "    number_in_words = number_to_words_in_marathi(amount) + \" \" + number_to_word_in_marathi_lookup_table[INDEX_RUPAYE]\n",
    "    return number_string, number_in_words"
   ]
  },
  {
   "cell_type": "code",
   "execution_count": 34,
   "metadata": {},
   "outputs": [
    {
     "data": {
      "text/plain": [
       "('३२८९७०६६', 'तीन कोटी अठ्ठावीस लाख सत्त्याण्णव हजार सहासष्ट रुपये')"
      ]
     },
     "execution_count": 34,
     "metadata": {},
     "output_type": "execute_result"
    }
   ],
   "source": [
    "convert(32897066)"
   ]
  },
  {
   "cell_type": "code",
   "execution_count": 35,
   "metadata": {},
   "outputs": [],
   "source": [
    "mynum = dict()\n",
    "for i, n in enumerate(mynumbers.split()):\n",
    "    mynum[n] =  i"
   ]
  },
  {
   "cell_type": "code",
   "execution_count": 56,
   "metadata": {},
   "outputs": [],
   "source": [
    "## added spell check function"
   ]
  },
  {
   "cell_type": "code",
   "execution_count": 63,
   "metadata": {},
   "outputs": [],
   "source": [
    "#!git clone https://github.com/shantanuo/marathi_spell_check.git"
   ]
  },
  {
   "cell_type": "code",
   "execution_count": 13,
   "metadata": {},
   "outputs": [],
   "source": [
    "import hunspell\n",
    "hobj = hunspell.HunSpell('/tmp/bert/marathi_spell_check/dicts/mr_IN.dic' , '/tmp/bert/marathi_spell_check/dicts/mr_IN.aff')"
   ]
  },
  {
   "cell_type": "code",
   "execution_count": 14,
   "metadata": {},
   "outputs": [],
   "source": [
    "for i in mynumbers.split():\n",
    "    hobj.add(i.encode('utf-8'))"
   ]
  },
  {
   "cell_type": "code",
   "execution_count": 59,
   "metadata": {},
   "outputs": [
    {
     "data": {
      "text/plain": [
       "['सत्त्याण्णव', 'सत्याच्या', 'सत्यासत्यता', 'सत्तराव्या']"
      ]
     },
     "execution_count": 59,
     "metadata": {},
     "output_type": "execute_result"
    }
   ],
   "source": [
    "hobj.suggest('सत्याण्यव')"
   ]
  },
  {
   "cell_type": "code",
   "execution_count": 60,
   "metadata": {},
   "outputs": [],
   "source": [
    "def mystring_to_number(mystring):\n",
    "    number = 0\n",
    "    if 'कोटी' in mystring:\n",
    "        try:\n",
    "            koti=mystring.split('कोटी')[0].split()[-1]\n",
    "            number=mynum[koti] * 10000000\n",
    "        except KeyError:\n",
    "            for i in hobj.suggest(koti):\n",
    "                print (i)\n",
    "                try:\n",
    "                    number=number + mynum[i] * 10000000\n",
    "                except KeyError:\n",
    "                    continue\n",
    "                else:\n",
    "                    break\n",
    "\n",
    "\n",
    "    if 'लाख' in mystring:\n",
    "        try:\n",
    "            lakh=mystring.split('लाख')[0].split()[-1]\n",
    "            number=number + mynum[lakh] * 100000\n",
    "        except KeyError:\n",
    "            for i in hobj.suggest(lakh):\n",
    "                print (i)\n",
    "                try:\n",
    "                    number=number + mynum[i] * 100000\n",
    "                except KeyError:\n",
    "                    continue\n",
    "                else:\n",
    "                    break\n",
    "\n",
    "\n",
    "    if 'हजार' in mystring:\n",
    "        try:\n",
    "            hajar=mystring.split('हजार')[0].split()[-1]\n",
    "            number=number + mynum[hajar] * 1000\n",
    "        except KeyError:\n",
    "            for i in hobj.suggest(hajar):\n",
    "                print (i)\n",
    "                try:\n",
    "                    number=number + mynum[i] * 1000\n",
    "                except KeyError:\n",
    "                    continue\n",
    "                else:\n",
    "                    break\n",
    "                    \n",
    "    less_than_100 = mystring.split('रुपये')[0].split()[-1]\n",
    "    try:\n",
    "        number = number + mynum[less_than_100]\n",
    "    except KeyError:\n",
    "        for i in hobj.suggest(less_than_100):\n",
    "            print (i)\n",
    "            try:\n",
    "                number=number + mynum[i] * 1000\n",
    "            except KeyError:\n",
    "                continue\n",
    "            else:\n",
    "                break\n",
    "        \n",
    "        \n",
    "    return number"
   ]
  },
  {
   "cell_type": "code",
   "execution_count": 61,
   "metadata": {},
   "outputs": [
    {
     "data": {
      "text/plain": [
       "32897066"
      ]
     },
     "execution_count": 61,
     "metadata": {},
     "output_type": "execute_result"
    }
   ],
   "source": [
    "mystring_to_number('तीन कोटी अठ्ठावीस लाख सत्त्याण्णव हजार सहासष्ट रुपये')"
   ]
  },
  {
   "cell_type": "code",
   "execution_count": 62,
   "metadata": {},
   "outputs": [
    {
     "name": "stdout",
     "output_type": "stream",
     "text": [
      "अठ्ठावीस\n",
      "सत्त्याण्णव\n"
     ]
    },
    {
     "data": {
      "text/plain": [
       "32897066"
      ]
     },
     "execution_count": 62,
     "metadata": {},
     "output_type": "execute_result"
    }
   ],
   "source": [
    "mystring_to_number('तीन कोटी अठ्ठावी लाख सत्याण्यव हजार सहासष्ट रुपये')"
   ]
  },
  {
   "cell_type": "code",
   "execution_count": null,
   "metadata": {},
   "outputs": [],
   "source": []
  }
 ],
 "metadata": {
  "kernelspec": {
   "display_name": "Python 3",
   "language": "python",
   "name": "python3"
  },
  "language_info": {
   "codemirror_mode": {
    "name": "ipython",
    "version": 3
   },
   "file_extension": ".py",
   "mimetype": "text/x-python",
   "name": "python",
   "nbconvert_exporter": "python",
   "pygments_lexer": "ipython3",
   "version": "3.7.1"
  }
 },
 "nbformat": 4,
 "nbformat_minor": 2
}
