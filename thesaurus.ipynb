{
 "cells": [
  {
   "cell_type": "code",
   "execution_count": 2,
   "metadata": {},
   "outputs": [
    {
     "data": {
      "application/javascript": [
       "\n",
       "            setTimeout(function() {\n",
       "                var nbb_cell_id = 2;\n",
       "                var nbb_formatted_code = \"import sys\\nfrom collections import Counter, defaultdict\";\n",
       "                var nbb_cells = Jupyter.notebook.get_cells();\n",
       "                for (var i = 0; i < nbb_cells.length; ++i) {\n",
       "                    if (nbb_cells[i].input_prompt_number == nbb_cell_id) {\n",
       "                        nbb_cells[i].set_text(nbb_formatted_code);\n",
       "                        break;\n",
       "                    }\n",
       "                }\n",
       "            }, 500);\n",
       "            "
      ],
      "text/plain": [
       "<IPython.core.display.Javascript object>"
      ]
     },
     "metadata": {},
     "output_type": "display_data"
    }
   ],
   "source": [
    "import sys\n",
    "from collections import Counter, defaultdict"
   ]
  },
  {
   "cell_type": "code",
   "execution_count": 3,
   "metadata": {},
   "outputs": [
    {
     "name": "stdout",
     "output_type": "stream",
     "text": [
      "अकटोविकट, अवाढव्य, अक्राळविक्राळ, अजस्त्र, पर्वतप्राय, भीमकाय, अगडबंब, प्रचंड, अचाट, अफाट, जंगी, विशाल, विराट, जगड्व्याळ, भव्य, बेढब, आडमाप, धिप्पाड, लठ्ठ, अवजड, बोजड\r\n",
      "अकरणीय, अविहित, निषिद्ध, त्याज्य, अयोग्य, बेकायदेशीर\r\n",
      "अकरुण, अदय, द्वाड, कृपाहीन, हृदयशून्य, उग्र, कर्कश, कठोर, निष्ठुर, निर्दय, क्रूर, करुणाविहीन\r\n",
      "अकल्पित, अनपेक्षित, आकस्मिक, आगंतुक, अनाहूत, धक्कास्पद, अकस्मात\r\n",
      "अकल्याण, अहित, अनहित, हानी, नुकसान, अपाय, अपकार, अशुभ, अमंगल, अनिष्ट\r\n",
      "अकस्मात, अकल्पित, अचानक, अवचित, एकाएकी, सहसा, अपघात, दैववशात्, कर्मधर्मसंयोग, योगायोग, अनपेक्षित, अभावित\r\n",
      "अकारण, विनाकारण, निष्कारण, निर्निमित्त, निरुद्देश, अहेतुक, व्यर्थ, फुकट, नाहक, निरर्थक, उगाच\r\n",
      "अकाल, अवेळ, कुवेळ, दुर्दिन, कुदिन, कुयोग, घातवार, घातवेळ, अनिष्टग्रह, दुष्काळ, दुकाळ, अवर्षण, अनावृष्टी, दुर्भिक्ष, वाण, चणचण\r\n",
      "अकिंचन, अकांचन, निष्कांचन, निर्धन, द्रव्यहीन, कंगाल, कफल्लक, रंक, खंक, खल्लक, दरिद्री, दळिद्री, जन्मदरिद्री, गरीब, फकीर, नंगा, भिकारडा, भणंग, भिकारी, नष्टैश्वर्य, फटिंग, फाकेकंगाल, भुकेकंगाल, अन्नान्नगत, नादार, दिवाळखोर, अभाव\r\n",
      "अंकित, चिन्हित, भूषित, विभूषित, मानांकित, गौरवांकित, मुद्रांकित , अलंकृत\r\n"
     ]
    },
    {
     "data": {
      "application/javascript": [
       "\n",
       "            setTimeout(function() {\n",
       "                var nbb_cell_id = 3;\n",
       "                var nbb_formatted_code = \"!head /tmp/sw2.txt\";\n",
       "                var nbb_cells = Jupyter.notebook.get_cells();\n",
       "                for (var i = 0; i < nbb_cells.length; ++i) {\n",
       "                    if (nbb_cells[i].input_prompt_number == nbb_cell_id) {\n",
       "                        nbb_cells[i].set_text(nbb_formatted_code);\n",
       "                        break;\n",
       "                    }\n",
       "                }\n",
       "            }, 500);\n",
       "            "
      ],
      "text/plain": [
       "<IPython.core.display.Javascript object>"
      ]
     },
     "metadata": {},
     "output_type": "display_data"
    }
   ],
   "source": [
    "!head /tmp/sw2.txt"
   ]
  },
  {
   "cell_type": "code",
   "execution_count": 4,
   "metadata": {},
   "outputs": [
    {
     "data": {
      "application/javascript": [
       "\n",
       "            setTimeout(function() {\n",
       "                var nbb_cell_id = 4;\n",
       "                var nbb_formatted_code = \"lines = open(\\\"/tmp/sw2.txt\\\").read().splitlines()\";\n",
       "                var nbb_cells = Jupyter.notebook.get_cells();\n",
       "                for (var i = 0; i < nbb_cells.length; ++i) {\n",
       "                    if (nbb_cells[i].input_prompt_number == nbb_cell_id) {\n",
       "                        nbb_cells[i].set_text(nbb_formatted_code);\n",
       "                        break;\n",
       "                    }\n",
       "                }\n",
       "            }, 500);\n",
       "            "
      ],
      "text/plain": [
       "<IPython.core.display.Javascript object>"
      ]
     },
     "metadata": {},
     "output_type": "display_data"
    }
   ],
   "source": [
    "lines = open(\"/tmp/sw2.txt\").read().splitlines()"
   ]
  },
  {
   "cell_type": "code",
   "execution_count": 5,
   "metadata": {},
   "outputs": [
    {
     "data": {
      "application/javascript": [
       "\n",
       "            setTimeout(function() {\n",
       "                var nbb_cell_id = 5;\n",
       "                var nbb_formatted_code = \"outerlist = list()\\nfor i in lines:\\n    mylist = list()\\n    for x in i.split(\\\",\\\"):\\n        mylist.append(x.strip())\\n    outerlist.append(mylist)\";\n",
       "                var nbb_cells = Jupyter.notebook.get_cells();\n",
       "                for (var i = 0; i < nbb_cells.length; ++i) {\n",
       "                    if (nbb_cells[i].input_prompt_number == nbb_cell_id) {\n",
       "                        nbb_cells[i].set_text(nbb_formatted_code);\n",
       "                        break;\n",
       "                    }\n",
       "                }\n",
       "            }, 500);\n",
       "            "
      ],
      "text/plain": [
       "<IPython.core.display.Javascript object>"
      ]
     },
     "metadata": {},
     "output_type": "display_data"
    }
   ],
   "source": [
    "outerlist = list()\n",
    "for i in lines:\n",
    "    mylist = list()\n",
    "    for x in i.split(\",\"):\n",
    "        mylist.append(x.strip())\n",
    "    outerlist.append(mylist)"
   ]
  },
  {
   "cell_type": "code",
   "execution_count": 6,
   "metadata": {},
   "outputs": [
    {
     "data": {
      "application/javascript": [
       "\n",
       "            setTimeout(function() {\n",
       "                var nbb_cell_id = 6;\n",
       "                var nbb_formatted_code = \"theList = [x for x in outerlist if x != [\\\"\\\"]]\\nfor i in range(len(theList)):\\n    theList[i] = list(filter(None, theList[i]))\";\n",
       "                var nbb_cells = Jupyter.notebook.get_cells();\n",
       "                for (var i = 0; i < nbb_cells.length; ++i) {\n",
       "                    if (nbb_cells[i].input_prompt_number == nbb_cell_id) {\n",
       "                        nbb_cells[i].set_text(nbb_formatted_code);\n",
       "                        break;\n",
       "                    }\n",
       "                }\n",
       "            }, 500);\n",
       "            "
      ],
      "text/plain": [
       "<IPython.core.display.Javascript object>"
      ]
     },
     "metadata": {},
     "output_type": "display_data"
    }
   ],
   "source": [
    "theList = [x for x in outerlist if x != [\"\"]]\n",
    "for i in range(len(theList)):\n",
    "    theList[i] = list(filter(None, theList[i]))"
   ]
  },
  {
   "cell_type": "code",
   "execution_count": 7,
   "metadata": {},
   "outputs": [
    {
     "data": {
      "application/javascript": [
       "\n",
       "            setTimeout(function() {\n",
       "                var nbb_cell_id = 7;\n",
       "                var nbb_formatted_code = \"mylist = list()\\nfor i in theList:\\n    for x in i:\\n        mylist.append(x)\";\n",
       "                var nbb_cells = Jupyter.notebook.get_cells();\n",
       "                for (var i = 0; i < nbb_cells.length; ++i) {\n",
       "                    if (nbb_cells[i].input_prompt_number == nbb_cell_id) {\n",
       "                        nbb_cells[i].set_text(nbb_formatted_code);\n",
       "                        break;\n",
       "                    }\n",
       "                }\n",
       "            }, 500);\n",
       "            "
      ],
      "text/plain": [
       "<IPython.core.display.Javascript object>"
      ]
     },
     "metadata": {},
     "output_type": "display_data"
    }
   ],
   "source": [
    "mylist = list()\n",
    "for i in theList:\n",
    "    for x in i:\n",
    "        mylist.append(x)"
   ]
  },
  {
   "cell_type": "code",
   "execution_count": 8,
   "metadata": {},
   "outputs": [
    {
     "data": {
      "text/plain": [
       "[('अकटोविकट', 2),\n",
       " ('प्रचंड', 3),\n",
       " ('अचाट', 2),\n",
       " ('अफाट', 3),\n",
       " ('विशाल', 2),\n",
       " ('भव्य', 2),\n",
       " ('द्वाड', 2),\n",
       " ('क्रूर', 2),\n",
       " ('अकल्पित', 2),\n",
       " ('अनपेक्षित', 2),\n",
       " ('आगंतुक', 2),\n",
       " ('अकस्मात', 2),\n",
       " ('अंकुश', 2),\n",
       " ('नियंत्रण', 2),\n",
       " ('निर्बंध', 3),\n",
       " ('मर्यादा', 2),\n",
       " ('शुद्ध', 2),\n",
       " ('अस्सल', 2),\n",
       " ('खरा', 2),\n",
       " ('अल्लड', 2),\n",
       " ('आपत्ती', 2),\n",
       " ('अभेद्य', 2),\n",
       " ('एक', 2),\n",
       " ('अतूट', 2),\n",
       " ('अविरत', 2),\n",
       " ('निरंतर', 2),\n",
       " ('अव्याहत', 2),\n",
       " ('कायम', 2),\n",
       " ('नित्य', 2),\n",
       " ('अखेर', 2),\n",
       " ('शेवट', 3),\n",
       " ('अंत', 3),\n",
       " ('समाप्ती', 2),\n",
       " ('परिसमाप्ती', 2),\n",
       " ('सांगता', 2),\n",
       " ('पूर्णविराम', 2),\n",
       " ('अस्त', 2),\n",
       " ('लय', 2),\n",
       " ('विलय', 2),\n",
       " ('विसर्जन', 2),\n",
       " ('बरखास्ती', 2),\n",
       " ('बोळवण', 2),\n",
       " ('नाश', 2),\n",
       " ('टोक', 2),\n",
       " ('कड', 2),\n",
       " ('सीमा', 3),\n",
       " ('परिसीमा', 3),\n",
       " ('हद्द', 3),\n",
       " ('कळस', 4),\n",
       " ('उपसंहार', 2),\n",
       " ('फड', 3),\n",
       " ('अतर्क्य', 3),\n",
       " ('अगाध', 2),\n",
       " ('कल्पनातीत', 2),\n",
       " ('गहन', 2),\n",
       " ('अमर्याद', 2),\n",
       " ('भट्टी', 2),\n",
       " ('दाह', 2),\n",
       " ('भाजणे', 2),\n",
       " ('अणकुची', 2),\n",
       " ('शिखर', 2),\n",
       " ('श्रेष्ठ', 2),\n",
       " ('सर्वश्रेष्ठ', 2),\n",
       " ('लोकोत्तर', 2),\n",
       " ('निपुण', 2),\n",
       " ('विलक्षण', 2),\n",
       " ('अद्भुत', 2),\n",
       " ('पक्का', 2),\n",
       " ('निश्चेष्ट', 2),\n",
       " ('अलौकिक', 2),\n",
       " ('असामान्य', 2),\n",
       " ('विश्वसनीय', 2),\n",
       " ('अमोघ', 2),\n",
       " ('जड', 2),\n",
       " ('शंका', 2),\n",
       " ('अकुशल', 2),\n",
       " ('अडाणी', 2),\n",
       " ('व्यवहारशून्य', 2),\n",
       " ('मूर्ख', 2),\n",
       " ('बैलोबा', 2),\n",
       " ('अट', 2),\n",
       " ('अटक', 2),\n",
       " ('अडथळा', 3),\n",
       " ('अडसर', 2),\n",
       " ('अडचण', 3),\n",
       " ('व्यत्यय', 3),\n",
       " ('विघ्न', 2),\n",
       " ('विक्षेप', 2),\n",
       " ('खंड', 2),\n",
       " ('संकट', 2),\n",
       " ('अंतराय', 2),\n",
       " ('प्रतिबंध', 2),\n",
       " ('विरोध', 2),\n",
       " ('भाग', 2),\n",
       " ('अडणे', 2),\n",
       " ('तळ', 2),\n",
       " ('न्यूनाधिक्य', 2),\n",
       " ('मधला', 2),\n",
       " ('शिरकाव', 2)]"
      ]
     },
     "execution_count": 8,
     "metadata": {},
     "output_type": "execute_result"
    },
    {
     "data": {
      "application/javascript": [
       "\n",
       "            setTimeout(function() {\n",
       "                var nbb_cell_id = 8;\n",
       "                var nbb_formatted_code = \"c = Counter(mylist)\\n[el for el in c.items() if el[1] > 1]\";\n",
       "                var nbb_cells = Jupyter.notebook.get_cells();\n",
       "                for (var i = 0; i < nbb_cells.length; ++i) {\n",
       "                    if (nbb_cells[i].input_prompt_number == nbb_cell_id) {\n",
       "                        nbb_cells[i].set_text(nbb_formatted_code);\n",
       "                        break;\n",
       "                    }\n",
       "                }\n",
       "            }, 500);\n",
       "            "
      ],
      "text/plain": [
       "<IPython.core.display.Javascript object>"
      ]
     },
     "metadata": {},
     "output_type": "display_data"
    }
   ],
   "source": [
    "c = Counter(mylist)\n",
    "[el for el in c.items() if el[1] > 1]"
   ]
  },
  {
   "cell_type": "code",
   "execution_count": 9,
   "metadata": {},
   "outputs": [
    {
     "data": {
      "application/javascript": [
       "\n",
       "            setTimeout(function() {\n",
       "                var nbb_cell_id = 9;\n",
       "                var nbb_formatted_code = \"mydict = defaultdict(list)\\nfor el in c.items():\\n    if el[1] > 1:\\n        for i in theList:\\n            for x in i:\\n                if x == el[0]:\\n                    mydict[x].append(i)\";\n",
       "                var nbb_cells = Jupyter.notebook.get_cells();\n",
       "                for (var i = 0; i < nbb_cells.length; ++i) {\n",
       "                    if (nbb_cells[i].input_prompt_number == nbb_cell_id) {\n",
       "                        nbb_cells[i].set_text(nbb_formatted_code);\n",
       "                        break;\n",
       "                    }\n",
       "                }\n",
       "            }, 500);\n",
       "            "
      ],
      "text/plain": [
       "<IPython.core.display.Javascript object>"
      ]
     },
     "metadata": {},
     "output_type": "display_data"
    }
   ],
   "source": [
    "mydict = defaultdict(list)\n",
    "for el in c.items():\n",
    "    if el[1] > 1:\n",
    "        for i in theList:\n",
    "            for x in i:\n",
    "                if x == el[0]:\n",
    "                    mydict[x].append(i)"
   ]
  },
  {
   "cell_type": "code",
   "execution_count": 10,
   "metadata": {},
   "outputs": [
    {
     "data": {
      "text/plain": [
       "[['अकटोविकट',\n",
       "  'अवाढव्य',\n",
       "  'अक्राळविक्राळ',\n",
       "  'अजस्त्र',\n",
       "  'पर्वतप्राय',\n",
       "  'भीमकाय',\n",
       "  'अगडबंब',\n",
       "  'प्रचंड',\n",
       "  'अचाट',\n",
       "  'अफाट',\n",
       "  'जंगी',\n",
       "  'विशाल',\n",
       "  'विराट',\n",
       "  'जगड्व्याळ',\n",
       "  'भव्य',\n",
       "  'बेढब',\n",
       "  'आडमाप',\n",
       "  'धिप्पाड',\n",
       "  'लठ्ठ',\n",
       "  'अवजड',\n",
       "  'बोजड'],\n",
       " ['अचाट',\n",
       "  'विलक्षण',\n",
       "  'अलौकिक',\n",
       "  'अद्भुत',\n",
       "  'अमानवी',\n",
       "  'अतिमानवी',\n",
       "  'अपूर्व',\n",
       "  'असामान्य',\n",
       "  'अफलातून',\n",
       "  'कल्पनातीत',\n",
       "  'अतर्क्य',\n",
       "  'प्रचंड',\n",
       "  'अफाट',\n",
       "  'बेफाट',\n",
       "  'अकटोविकट',\n",
       "  'अमर्याद',\n",
       "  'बेसुमार',\n",
       "  'विशाल',\n",
       "  'पराकोटीचा',\n",
       "  'भव्य',\n",
       "  'श्रेष्ठ',\n",
       "  'अतिशय']]"
      ]
     },
     "execution_count": 10,
     "metadata": {},
     "output_type": "execute_result"
    },
    {
     "data": {
      "application/javascript": [
       "\n",
       "            setTimeout(function() {\n",
       "                var nbb_cell_id = 10;\n",
       "                var nbb_formatted_code = \"mydict[\\\"\\u0905\\u091a\\u093e\\u091f\\\"]\";\n",
       "                var nbb_cells = Jupyter.notebook.get_cells();\n",
       "                for (var i = 0; i < nbb_cells.length; ++i) {\n",
       "                    if (nbb_cells[i].input_prompt_number == nbb_cell_id) {\n",
       "                        nbb_cells[i].set_text(nbb_formatted_code);\n",
       "                        break;\n",
       "                    }\n",
       "                }\n",
       "            }, 500);\n",
       "            "
      ],
      "text/plain": [
       "<IPython.core.display.Javascript object>"
      ]
     },
     "metadata": {},
     "output_type": "display_data"
    }
   ],
   "source": [
    "mydict[\"अचाट\"]"
   ]
  },
  {
   "cell_type": "code",
   "execution_count": 11,
   "metadata": {},
   "outputs": [
    {
     "name": "stdout",
     "output_type": "stream",
     "text": [
      "अकटोविकट 43 ['अकटोविकट', 'अचाट'] False\n",
      "प्रचंड 51 ['अकटोविकट', 'अगाध', 'अचाट'] False\n",
      "अचाट 43 ['अकटोविकट', 'अचाट'] False\n",
      "अफाट 51 ['अकटोविकट', 'अगाध', 'अचाट'] False\n",
      "विशाल 43 ['अकटोविकट', 'अचाट'] False\n",
      "भव्य 43 ['अकटोविकट', 'अचाट'] False\n",
      "द्वाड 27 ['अकरुण', 'अगोचर'] False\n",
      "क्रूर 36 ['अकरुण', 'अघोरी'] False\n",
      "अकल्पित 19 ['अकल्पित', 'अकस्मात'] False\n",
      "अनपेक्षित 19 ['अकल्पित', 'अकस्मात'] False\n",
      "आगंतुक 21 ['अकल्पित', 'अतिथी'] False\n",
      "अकस्मात 19 ['अकल्पित', 'अकस्मात'] False\n",
      "अंकुश 29 ['अंकुश', 'अणकुची'] False\n",
      "नियंत्रण 72 ['अंकुश', 'अटकाव'] False\n",
      "निर्बंध 79 ['अंकुश', 'अट', 'अटकाव'] False\n",
      "मर्यादा 72 ['अंकुश', 'अटकाव'] False\n",
      "शुद्ध 56 ['अकृत्रिम', 'अट्टल'] False\n",
      "अस्सल 56 ['अकृत्रिम', 'अट्टल'] False\n",
      "खरा 56 ['अकृत्रिम', 'अट्टल'] False\n",
      "अल्लड 110 ['अकृत्रिम', 'अजाण'] False\n",
      "आपत्ती 72 ['अक्काबाई', 'अटकाव'] False\n",
      "अभेद्य 86 ['अखंड', 'अजिंक्य'] False\n",
      "एक 105 ['अखंड', 'अजोड'] False\n",
      "अतूट 108 ['अखंड', 'अचल'] False\n",
      "अविरत 154 ['अखंड', 'अखंड'] True\n",
      "निरंतर 154 ['अखंड', 'अखंड'] True\n",
      "अव्याहत 154 ['अखंड', 'अखंड'] True\n",
      "कायम 108 ['अखंड', 'अचल'] False\n",
      "नित्य 108 ['अखंड', 'अचल'] False\n",
      "अखेर 86 ['अखेर', 'अंत'] False\n",
      "शेवट 105 ['अखेर', 'अग्र', 'अंत'] False\n",
      "अंत 133 ['अखेर', 'अखेर', 'अंत'] True\n",
      "समाप्ती 86 ['अखेर', 'अंत'] False\n",
      "परिसमाप्ती 86 ['अखेर', 'अंत'] False\n",
      "सांगता 86 ['अखेर', 'अंत'] False\n",
      "पूर्णविराम 86 ['अखेर', 'अंत'] False\n",
      "अस्त 86 ['अखेर', 'अंत'] False\n",
      "लय 86 ['अखेर', 'अंत'] False\n",
      "विलय 86 ['अखेर', 'अंत'] False\n",
      "विसर्जन 86 ['अखेर', 'अंत'] False\n",
      "बरखास्ती 86 ['अखेर', 'अंत'] False\n",
      "बोळवण 86 ['अखेर', 'अंत'] False\n",
      "नाश 86 ['अखेर', 'अंत'] False\n",
      "टोक 66 ['अखेर', 'अग्र'] False\n",
      "कड 86 ['अखेर', 'अंत'] False\n",
      "सीमा 108 ['अखेर', 'अंत', 'अतिरेक'] False\n",
      "परिसीमा 108 ['अखेर', 'अंत', 'अतिरेक'] False\n",
      "हद्द 108 ['अखेर', 'अंत', 'अतिरेक'] False\n",
      "कळस 127 ['अखेर', 'अग्र', 'अंत', 'अतिरेक'] False\n",
      "उपसंहार 86 ['अखेर', 'अंत'] False\n",
      "फड 83 ['अंगण', 'अड्डा', 'अड्डा'] True\n",
      "अतर्क्य 52 ['अगम्य', 'अघटित', 'अचाट'] False\n",
      "अगाध 25 ['अगम्य', 'अगाध'] False\n",
      "कल्पनातीत 39 ['अगम्य', 'अचाट'] False\n",
      "गहन 25 ['अगम्य', 'अगाध'] False\n",
      "अमर्याद 30 ['अगाध', 'अचाट'] False\n",
      "भट्टी 119 ['अग्नी', 'अड्डा'] False\n",
      "दाह 172 ['अग्नी', 'अग्नी'] True\n",
      "भाजणे 172 ['अग्नी', 'अग्नी'] True\n",
      "अणकुची 37 ['अग्र', 'अणकुची'] False\n",
      "शिखर 58 ['अग्र', 'अंत'] False\n",
      "श्रेष्ठ 50 ['अग्रगण्य', 'अचाट'] False\n",
      "सर्वश्रेष्ठ 56 ['अग्रगण्य', 'अजोड'] False\n",
      "लोकोत्तर 56 ['अग्रगण्य', 'अजोड'] False\n",
      "निपुण 59 ['अग्रगण्य', 'अट्टल'] False\n",
      "विलक्षण 35 ['अघटित', 'अचाट'] False\n",
      "अद्भुत 35 ['अघटित', 'अचाट'] False\n",
      "पक्का 62 ['अचल', 'अट्टल'] False\n",
      "निश्चेष्ट 43 ['अचल', 'अचेतन'] False\n",
      "अलौकिक 50 ['अचाट', 'अजोड'] False\n",
      "असामान्य 50 ['अचाट', 'अजोड'] False\n",
      "विश्वसनीय 45 ['अचूक', 'अट्टल'] False\n",
      "अमोघ 23 ['अचूक', 'अजिंक्य'] False\n",
      "जड 97 ['अचेतन', 'अजाण'] False\n",
      "शंका 46 ['अजमास', 'अढी'] False\n",
      "अकुशल 109 ['अजागळ', 'अजाण'] False\n",
      "अडाणी 98 ['अजाण', 'अडमुठा'] False\n",
      "व्यवहारशून्य 170 ['अजाण', 'अजाण'] True\n",
      "मूर्ख 98 ['अजाण', 'अडमुठा'] False\n",
      "बैलोबा 98 ['अजाण', 'अडमुठा'] False\n",
      "अट 68 ['अट', 'अटकाव'] False\n",
      "अटक 69 ['अटक', 'अटकाव'] False\n",
      "अडथळा 99 ['अटकाव', 'अडगळ', 'अडचण'] False\n",
      "अडसर 77 ['अटकाव', 'अडगळ'] False\n",
      "अडचण 99 ['अटकाव', 'अडगळ', 'अडचण'] False\n",
      "व्यत्यय 99 ['अटकाव', 'अडगळ', 'अडचण'] False\n",
      "विघ्न 83 ['अटकाव', 'अडचण'] False\n",
      "विक्षेप 91 ['अटकाव', 'अंतर'] False\n",
      "खंड 91 ['अटकाव', 'अंतर'] False\n",
      "संकट 83 ['अटकाव', 'अडचण'] False\n",
      "अंतराय 91 ['अटकाव', 'अंतर'] False\n",
      "प्रतिबंध 122 ['अटकाव', 'अटकाव'] True\n",
      "विरोध 91 ['अटकाव', 'अंतर'] False\n",
      "भाग 14 ['अटळ', 'अंतर्भाव'] False\n",
      "अडणे 44 ['अडकणे', 'अडकणे'] True\n",
      "तळ 72 ['अड्डा', 'अंत'] False\n",
      "न्यूनाधिक्य 60 ['अंतर', 'अंतर'] True\n",
      "मधला 27 ['अंतरिम', 'अंतर्गत'] False\n",
      "शिरकाव 19 ['अंतर्भाव', 'अतिक्रमण'] False\n"
     ]
    },
    {
     "data": {
      "application/javascript": [
       "\n",
       "            setTimeout(function() {\n",
       "                var nbb_cell_id = 11;\n",
       "                var nbb_formatted_code = \"for k, v in mydict.items():\\n    mylen = 0\\n    myl3 = list()\\n    for i in v:\\n        mylen = mylen + len(i)\\n        myl3.append(i[0])\\n    print(k, mylen, myl3, len(myl3) > len(set(myl3)))\";\n",
       "                var nbb_cells = Jupyter.notebook.get_cells();\n",
       "                for (var i = 0; i < nbb_cells.length; ++i) {\n",
       "                    if (nbb_cells[i].input_prompt_number == nbb_cell_id) {\n",
       "                        nbb_cells[i].set_text(nbb_formatted_code);\n",
       "                        break;\n",
       "                    }\n",
       "                }\n",
       "            }, 500);\n",
       "            "
      ],
      "text/plain": [
       "<IPython.core.display.Javascript object>"
      ]
     },
     "metadata": {},
     "output_type": "display_data"
    }
   ],
   "source": [
    "for k, v in mydict.items():\n",
    "    mylen = 0\n",
    "    myl3 = list()\n",
    "    for i in v:\n",
    "        mylen = mylen + len(i)\n",
    "        myl3.append(i[0])\n",
    "    print(k, mylen, myl3, len(myl3) > len(set(myl3)))"
   ]
  },
  {
   "cell_type": "code",
   "execution_count": 12,
   "metadata": {},
   "outputs": [
    {
     "data": {
      "application/javascript": [
       "\n",
       "            setTimeout(function() {\n",
       "                var nbb_cell_id = 12;\n",
       "                var nbb_formatted_code = \"newdict = dict()\\nfor k in mydict.keys():\\n    mylist = mydict[k]\\n    mylist.sort(key=len)\\n    templist = list()\\n    templist.append(mylist[0])\\n    for i in mylist[1:]:\\n        if i[0] == k:\\n            pass\\n        else:\\n            i.remove(k)\\n        templist.append(i)\\n    newdict[k] = templist\";\n",
       "                var nbb_cells = Jupyter.notebook.get_cells();\n",
       "                for (var i = 0; i < nbb_cells.length; ++i) {\n",
       "                    if (nbb_cells[i].input_prompt_number == nbb_cell_id) {\n",
       "                        nbb_cells[i].set_text(nbb_formatted_code);\n",
       "                        break;\n",
       "                    }\n",
       "                }\n",
       "            }, 500);\n",
       "            "
      ],
      "text/plain": [
       "<IPython.core.display.Javascript object>"
      ]
     },
     "metadata": {},
     "output_type": "display_data"
    }
   ],
   "source": [
    "newdict = dict()\n",
    "for k in mydict.keys():\n",
    "    mylist = mydict[k]\n",
    "    mylist.sort(key=len)\n",
    "    templist = list()\n",
    "    templist.append(mylist[0])\n",
    "    for i in mylist[1:]:\n",
    "        if i[0] == k:\n",
    "            pass\n",
    "        else:\n",
    "            i.remove(k)\n",
    "        templist.append(i)\n",
    "    newdict[k] = templist"
   ]
  },
  {
   "cell_type": "code",
   "execution_count": 13,
   "metadata": {},
   "outputs": [
    {
     "data": {
      "application/javascript": [
       "\n",
       "            setTimeout(function() {\n",
       "                var nbb_cell_id = 13;\n",
       "                var nbb_formatted_code = \"finaldict = defaultdict(list)\\nfor k in newdict.keys():\\n    mylist = newdict[k]\\n    for i in mylist:\\n        finaldict[i[0]].append(set(i[1:]))\";\n",
       "                var nbb_cells = Jupyter.notebook.get_cells();\n",
       "                for (var i = 0; i < nbb_cells.length; ++i) {\n",
       "                    if (nbb_cells[i].input_prompt_number == nbb_cell_id) {\n",
       "                        nbb_cells[i].set_text(nbb_formatted_code);\n",
       "                        break;\n",
       "                    }\n",
       "                }\n",
       "            }, 500);\n",
       "            "
      ],
      "text/plain": [
       "<IPython.core.display.Javascript object>"
      ]
     },
     "metadata": {},
     "output_type": "display_data"
    }
   ],
   "source": [
    "finaldict = defaultdict(list)\n",
    "for k in newdict.keys():\n",
    "    mylist = newdict[k]\n",
    "    for i in mylist:\n",
    "        finaldict[i[0]].append(set(i[1:]))"
   ]
  },
  {
   "cell_type": "code",
   "execution_count": 14,
   "metadata": {},
   "outputs": [
    {
     "data": {
      "application/javascript": [
       "\n",
       "            setTimeout(function() {\n",
       "                var nbb_cell_id = 14;\n",
       "                var nbb_formatted_code = \"fdict = dict()\\nfor k in finaldict.keys():\\n    fdict[k] = set.intersection(*finaldict[k])\";\n",
       "                var nbb_cells = Jupyter.notebook.get_cells();\n",
       "                for (var i = 0; i < nbb_cells.length; ++i) {\n",
       "                    if (nbb_cells[i].input_prompt_number == nbb_cell_id) {\n",
       "                        nbb_cells[i].set_text(nbb_formatted_code);\n",
       "                        break;\n",
       "                    }\n",
       "                }\n",
       "            }, 500);\n",
       "            "
      ],
      "text/plain": [
       "<IPython.core.display.Javascript object>"
      ]
     },
     "metadata": {},
     "output_type": "display_data"
    }
   ],
   "source": [
    "fdict = dict()\n",
    "for k in finaldict.keys():\n",
    "    fdict[k] = set.intersection(*finaldict[k])"
   ]
  },
  {
   "cell_type": "code",
   "execution_count": 15,
   "metadata": {},
   "outputs": [
    {
     "data": {
      "application/javascript": [
       "\n",
       "            setTimeout(function() {\n",
       "                var nbb_cell_id = 15;\n",
       "                var nbb_formatted_code = \"myobj = open(\\\"/tmp/newfile.txt\\\", \\\"w\\\")\";\n",
       "                var nbb_cells = Jupyter.notebook.get_cells();\n",
       "                for (var i = 0; i < nbb_cells.length; ++i) {\n",
       "                    if (nbb_cells[i].input_prompt_number == nbb_cell_id) {\n",
       "                        nbb_cells[i].set_text(nbb_formatted_code);\n",
       "                        break;\n",
       "                    }\n",
       "                }\n",
       "            }, 500);\n",
       "            "
      ],
      "text/plain": [
       "<IPython.core.display.Javascript object>"
      ]
     },
     "metadata": {},
     "output_type": "display_data"
    }
   ],
   "source": [
    "myobj = open(\"/tmp/newfile.txt\", \"w\")"
   ]
  },
  {
   "cell_type": "code",
   "execution_count": 16,
   "metadata": {},
   "outputs": [
    {
     "data": {
      "application/javascript": [
       "\n",
       "            setTimeout(function() {\n",
       "                var nbb_cell_id = 16;\n",
       "                var nbb_formatted_code = \"mysys = sys.stdout\\nsys.stdout = myobj\";\n",
       "                var nbb_cells = Jupyter.notebook.get_cells();\n",
       "                for (var i = 0; i < nbb_cells.length; ++i) {\n",
       "                    if (nbb_cells[i].input_prompt_number == nbb_cell_id) {\n",
       "                        nbb_cells[i].set_text(nbb_formatted_code);\n",
       "                        break;\n",
       "                    }\n",
       "                }\n",
       "            }, 500);\n",
       "            "
      ],
      "text/plain": [
       "<IPython.core.display.Javascript object>"
      ]
     },
     "metadata": {},
     "output_type": "display_data"
    }
   ],
   "source": [
    "mysys = sys.stdout\n",
    "sys.stdout = myobj"
   ]
  },
  {
   "cell_type": "code",
   "execution_count": 17,
   "metadata": {},
   "outputs": [
    {
     "data": {
      "application/javascript": [
       "\n",
       "            setTimeout(function() {\n",
       "                var nbb_cell_id = 17;\n",
       "                var nbb_formatted_code = \"for k in fdict.keys():\\n    print(k + \\\",\\\", \\\", \\\".join(fdict[k]))\";\n",
       "                var nbb_cells = Jupyter.notebook.get_cells();\n",
       "                for (var i = 0; i < nbb_cells.length; ++i) {\n",
       "                    if (nbb_cells[i].input_prompt_number == nbb_cell_id) {\n",
       "                        nbb_cells[i].set_text(nbb_formatted_code);\n",
       "                        break;\n",
       "                    }\n",
       "                }\n",
       "            }, 500);\n",
       "            "
      ],
      "text/plain": [
       "<IPython.core.display.Javascript object>"
      ]
     },
     "metadata": {},
     "output_type": "display_data"
    }
   ],
   "source": [
    "for k in fdict.keys():\n",
    "    print(k + \",\", \", \".join(fdict[k]))"
   ]
  },
  {
   "cell_type": "code",
   "execution_count": 18,
   "metadata": {},
   "outputs": [
    {
     "data": {
      "application/javascript": [
       "\n",
       "            setTimeout(function() {\n",
       "                var nbb_cell_id = 18;\n",
       "                var nbb_formatted_code = \"lfile = open(\\\"/tmp/lfile.txt\\\", \\\"w\\\")\";\n",
       "                var nbb_cells = Jupyter.notebook.get_cells();\n",
       "                for (var i = 0; i < nbb_cells.length; ++i) {\n",
       "                    if (nbb_cells[i].input_prompt_number == nbb_cell_id) {\n",
       "                        nbb_cells[i].set_text(nbb_formatted_code);\n",
       "                        break;\n",
       "                    }\n",
       "                }\n",
       "            }, 500);\n",
       "            "
      ],
      "text/plain": [
       "<IPython.core.display.Javascript object>"
      ]
     },
     "metadata": {},
     "output_type": "display_data"
    }
   ],
   "source": [
    "lfile = open(\"/tmp/lfile.txt\", \"w\")"
   ]
  },
  {
   "cell_type": "code",
   "execution_count": 19,
   "metadata": {},
   "outputs": [
    {
     "data": {
      "application/javascript": [
       "\n",
       "            setTimeout(function() {\n",
       "                var nbb_cell_id = 19;\n",
       "                var nbb_formatted_code = \"sys.stdout = lfile\";\n",
       "                var nbb_cells = Jupyter.notebook.get_cells();\n",
       "                for (var i = 0; i < nbb_cells.length; ++i) {\n",
       "                    if (nbb_cells[i].input_prompt_number == nbb_cell_id) {\n",
       "                        nbb_cells[i].set_text(nbb_formatted_code);\n",
       "                        break;\n",
       "                    }\n",
       "                }\n",
       "            }, 500);\n",
       "            "
      ],
      "text/plain": [
       "<IPython.core.display.Javascript object>"
      ]
     },
     "metadata": {},
     "output_type": "display_data"
    }
   ],
   "source": [
    "sys.stdout = lfile"
   ]
  },
  {
   "cell_type": "code",
   "execution_count": 20,
   "metadata": {},
   "outputs": [
    {
     "data": {
      "application/javascript": [
       "\n",
       "            setTimeout(function() {\n",
       "                var nbb_cell_id = 20;\n",
       "                var nbb_formatted_code = \"!sed -i '/^$/d' /tmp/newfile.txt\\n!sed -i '/^$/d' /tmp/sw2.txt\";\n",
       "                var nbb_cells = Jupyter.notebook.get_cells();\n",
       "                for (var i = 0; i < nbb_cells.length; ++i) {\n",
       "                    if (nbb_cells[i].input_prompt_number == nbb_cell_id) {\n",
       "                        nbb_cells[i].set_text(nbb_formatted_code);\n",
       "                        break;\n",
       "                    }\n",
       "                }\n",
       "            }, 500);\n",
       "            "
      ],
      "text/plain": [
       "<IPython.core.display.Javascript object>"
      ]
     },
     "metadata": {},
     "output_type": "display_data"
    }
   ],
   "source": [
    "!sed -i '/^$/d' /tmp/newfile.txt\n",
    "!sed -i '/^$/d' /tmp/sw2.txt"
   ]
  },
  {
   "cell_type": "code",
   "execution_count": 21,
   "metadata": {},
   "outputs": [
    {
     "data": {
      "application/javascript": [
       "\n",
       "            setTimeout(function() {\n",
       "                var nbb_cell_id = 21;\n",
       "                var nbb_formatted_code = \"with open(\\\"/tmp/newfile.txt\\\", \\\"r\\\") as n:\\n    finlist = dict()\\n    for nline in n:\\n        finlist[nline.split()[0]] = nline.split()[1:]\";\n",
       "                var nbb_cells = Jupyter.notebook.get_cells();\n",
       "                for (var i = 0; i < nbb_cells.length; ++i) {\n",
       "                    if (nbb_cells[i].input_prompt_number == nbb_cell_id) {\n",
       "                        nbb_cells[i].set_text(nbb_formatted_code);\n",
       "                        break;\n",
       "                    }\n",
       "                }\n",
       "            }, 500);\n",
       "            "
      ],
      "text/plain": [
       "<IPython.core.display.Javascript object>"
      ]
     },
     "metadata": {},
     "output_type": "display_data"
    }
   ],
   "source": [
    "with open(\"/tmp/newfile.txt\", \"r\") as n:\n",
    "    finlist = dict()\n",
    "    for nline in n:\n",
    "        finlist[nline.split()[0]] = nline.split()[1:]"
   ]
  },
  {
   "cell_type": "code",
   "execution_count": 22,
   "metadata": {},
   "outputs": [
    {
     "data": {
      "application/javascript": [
       "\n",
       "            setTimeout(function() {\n",
       "                var nbb_cell_id = 22;\n",
       "                var nbb_formatted_code = \"with open(\\\"/tmp/sw2.txt\\\", \\\"r\\\") as f:\\n    for fline in f:\\n        if fline.split()[0] in finlist:\\n            print(fline.split()[0], \\\" \\\".join(finlist[fline.split()[0]]))\\n        else:\\n            print(fline)\";\n",
       "                var nbb_cells = Jupyter.notebook.get_cells();\n",
       "                for (var i = 0; i < nbb_cells.length; ++i) {\n",
       "                    if (nbb_cells[i].input_prompt_number == nbb_cell_id) {\n",
       "                        nbb_cells[i].set_text(nbb_formatted_code);\n",
       "                        break;\n",
       "                    }\n",
       "                }\n",
       "            }, 500);\n",
       "            "
      ],
      "text/plain": [
       "<IPython.core.display.Javascript object>"
      ]
     },
     "metadata": {},
     "output_type": "display_data"
    }
   ],
   "source": [
    "with open(\"/tmp/sw2.txt\", \"r\") as f:\n",
    "    for fline in f:\n",
    "        if fline.split()[0] in finlist:\n",
    "            print(fline.split()[0], \" \".join(finlist[fline.split()[0]]))\n",
    "        else:\n",
    "            print(fline)"
   ]
  },
  {
   "cell_type": "code",
   "execution_count": 23,
   "metadata": {},
   "outputs": [
    {
     "data": {
      "application/javascript": [
       "\n",
       "            setTimeout(function() {\n",
       "                var nbb_cell_id = 23;\n",
       "                var nbb_formatted_code = \"!sed -i '/^$/d' /tmp/lfile.txt\";\n",
       "                var nbb_cells = Jupyter.notebook.get_cells();\n",
       "                for (var i = 0; i < nbb_cells.length; ++i) {\n",
       "                    if (nbb_cells[i].input_prompt_number == nbb_cell_id) {\n",
       "                        nbb_cells[i].set_text(nbb_formatted_code);\n",
       "                        break;\n",
       "                    }\n",
       "                }\n",
       "            }, 500);\n",
       "            "
      ],
      "text/plain": [
       "<IPython.core.display.Javascript object>"
      ]
     },
     "metadata": {},
     "output_type": "display_data"
    }
   ],
   "source": [
    "!sed -i '/^$/d' /tmp/lfile.txt"
   ]
  },
  {
   "cell_type": "code",
   "execution_count": null,
   "metadata": {},
   "outputs": [],
   "source": []
  }
 ],
 "metadata": {
  "kernelspec": {
   "display_name": "Python 3",
   "language": "python",
   "name": "python3"
  },
  "language_info": {
   "codemirror_mode": {
    "name": "ipython",
    "version": 3
   },
   "file_extension": ".py",
   "mimetype": "text/x-python",
   "name": "python",
   "nbconvert_exporter": "python",
   "pygments_lexer": "ipython3",
   "version": "3.7.3"
  }
 },
 "nbformat": 4,
 "nbformat_minor": 2
}
