{
 "cells": [
  {
   "cell_type": "code",
   "execution_count": null,
   "metadata": {},
   "outputs": [],
   "source": [
    "# !wget https://dumps.wikimedia.org/mrwiki/20190320/mrwiki-20190320-pages-articles.xml.bz2\n",
    "# !bzip2 -dc mrwiki-20190320-pages-articles.xml.bz2 > mytext.txt"
   ]
  },
  {
   "cell_type": "code",
   "execution_count": 5,
   "metadata": {},
   "outputs": [],
   "source": [
    "!tr -s '[[:punct:][:space:]]' '\\n' < mytext.txt > mytext1.txt"
   ]
  },
  {
   "cell_type": "code",
   "execution_count": 12,
   "metadata": {},
   "outputs": [],
   "source": [
    "!sort -u mytext1.txt > mytext2.txt"
   ]
  },
  {
   "cell_type": "code",
   "execution_count": 318,
   "metadata": {},
   "outputs": [],
   "source": [
    "import re\n",
    "p = re.compile(r'[^\\u0900-\\u097F\\n]')"
   ]
  },
  {
   "cell_type": "code",
   "execution_count": 322,
   "metadata": {},
   "outputs": [],
   "source": [
    "with open('mytext2b.txt', 'w') as nf:\n",
    "    with open('mytext2.txt') as f:\n",
    "        for i in f:\n",
    "            cleaned = p.sub('', i)\n",
    "            if cleaned.strip():\n",
    "                nf.write(cleaned)"
   ]
  },
  {
   "cell_type": "code",
   "execution_count": 324,
   "metadata": {},
   "outputs": [
    {
     "name": "stdout",
     "output_type": "stream",
     "text": [
      "585117 mytext2b.txt\r\n"
     ]
    }
   ],
   "source": [
    "!wc -l mytext2b.txt"
   ]
  },
  {
   "cell_type": "code",
   "execution_count": 331,
   "metadata": {},
   "outputs": [
    {
     "name": "stdout",
     "output_type": "stream",
     "text": [
      "558492\r\n"
     ]
    }
   ],
   "source": [
    "!sort -u mytext2b.txt | wc -l"
   ]
  },
  {
   "cell_type": "code",
   "execution_count": 10,
   "metadata": {},
   "outputs": [],
   "source": [
    "def remove_junk(word):\n",
    "mylist=list()\n",
    "    for i in word:\n",
    "        if b'9' in (i.encode('ascii', 'backslashreplace')):\n",
    "            mylist.append(i)\n",
    "    return (''.join(mylist))\n",
    "\n",
    "with open('mytext2a.txt', 'w') as nf:\n",
    "    with open('mytext2.txt') as f:\n",
    "        for i in f:\n",
    "            nf.write(remove_junk(i) + '\\n')"
   ]
  },
  {
   "cell_type": "code",
   "execution_count": 17,
   "metadata": {},
   "outputs": [],
   "source": [
    "!sort -u mytext2a.txt > mytext4.txt"
   ]
  },
  {
   "cell_type": "code",
   "execution_count": 44,
   "metadata": {},
   "outputs": [],
   "source": [
    "mylist=list()\n",
    "with open ('mytext4.txt') as f:\n",
    "    for i in f:\n",
    "        mylist.append(i[-5:].replace('\\n', ''))"
   ]
  },
  {
   "cell_type": "code",
   "execution_count": 46,
   "metadata": {},
   "outputs": [],
   "source": [
    "from collections import Counter\n",
    "import pandas as pd\n",
    "pds=pd.Series(Counter(mylist))"
   ]
  },
  {
   "cell_type": "code",
   "execution_count": 332,
   "metadata": {},
   "outputs": [
    {
     "name": "stdout",
     "output_type": "stream",
     "text": [
      "568785 mytext4.txt\r\n"
     ]
    }
   ],
   "source": [
    "!wc -l mytext4.txt"
   ]
  },
  {
   "cell_type": "code",
   "execution_count": 334,
   "metadata": {},
   "outputs": [
    {
     "name": "stdout",
     "output_type": "stream",
     "text": [
      "412\r\n"
     ]
    }
   ],
   "source": [
    "!grep 'र्वी$' mytext4.txt | wc -l"
   ]
  }
 ],
 "metadata": {
  "kernelspec": {
   "display_name": "Python 3",
   "language": "python",
   "name": "python3"
  },
  "language_info": {
   "codemirror_mode": {
    "name": "ipython",
    "version": 3
   },
   "file_extension": ".py",
   "mimetype": "text/x-python",
   "name": "python",
   "nbconvert_exporter": "python",
   "pygments_lexer": "ipython3",
   "version": "3.7.1"
  }
 },
 "nbformat": 4,
 "nbformat_minor": 2
}
