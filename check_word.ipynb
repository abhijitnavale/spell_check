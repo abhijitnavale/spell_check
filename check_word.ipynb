{
 "cells": [
  {
   "cell_type": "code",
   "execution_count": 1,
   "metadata": {},
   "outputs": [],
   "source": [
    "# !wget https://github.com/shantanuo/marathi_spell_check/raw/master/dicts/mr_IN.dic"
   ]
  },
  {
   "cell_type": "code",
   "execution_count": 2,
   "metadata": {},
   "outputs": [],
   "source": [
    "!grep 'अंगना' mr_IN.dic"
   ]
  },
  {
   "cell_type": "code",
   "execution_count": 3,
   "metadata": {},
   "outputs": [],
   "source": [
    "# !wget https://dumps.wikimedia.org/mrwiki/20190320/mrwiki-20190320-pages-articles.xml.bz2\n",
    "# !bzip2 -dc mrwiki-20190320-pages-articles.xml.bz2 > mytext.txt"
   ]
  },
  {
   "cell_type": "code",
   "execution_count": null,
   "metadata": {},
   "outputs": [
    {
     "name": "stdout",
     "output_type": "stream",
     "text": [
      "या कारणे पूर्वीच जाणा । न करावी आपण अंगना । करोनि तिसी त्यजिता जाणा । महादोष बोलिजे ॥७३॥\n",
      "* फूले पारिजात रे अंगना हमारे रे : कवी मुखराम शर्मा, संगीत [[केशवराव भोळे]], चित्रपट श्रीकृष्ण सत्यभामा\n",
      "अंगना चटर्जी काश्मीर बद्दल तिसऱ्या लेखात लिहिताना काश्मीरमध्ये काम करताना प्रत्यक्ष आलेले अनुभव लिहितात. काश्मीरमध्ये चाललेल्या दहशतवादी आणि भारतीय सैन्य पुरस्कृत हिंसाचाराचे भयाण चित्र तिच्या अनुभवातून उभे राहते. काश्मीरमधील जनता आणि विशेषतः स्त्रिया यांच्यावर या सतत चालू असलेल्या हिंसेचा सामाजिक व मानसिक परिणाम लेखिका स्वानुभवातून मांडते. \n"
     ]
    }
   ],
   "source": [
    "!grep 'अंगना' mytext.txt "
   ]
  },
  {
   "cell_type": "code",
   "execution_count": null,
   "metadata": {},
   "outputs": [],
   "source": [
    "! lynx -dump google.com/search?q=अंग | grep 'About' "
   ]
  }
 ],
 "metadata": {
  "kernelspec": {
   "display_name": "Python 3",
   "language": "python",
   "name": "python3"
  },
  "language_info": {
   "codemirror_mode": {
    "name": "ipython",
    "version": 3
   },
   "file_extension": ".py",
   "mimetype": "text/x-python",
   "name": "python",
   "nbconvert_exporter": "python",
   "pygments_lexer": "ipython3",
   "version": "3.6.6"
  }
 },
 "nbformat": 4,
 "nbformat_minor": 2
}
