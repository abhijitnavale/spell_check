{
 "cells": [
  {
   "cell_type": "code",
   "execution_count": 24,
   "metadata": {},
   "outputs": [],
   "source": [
    "import pandas as pd"
   ]
  },
  {
   "cell_type": "code",
   "execution_count": 25,
   "metadata": {},
   "outputs": [],
   "source": [
    "mylist = list()\n",
    "for i in open(\"mr_IN.dic\"):\n",
    "    mylist.append(i.split(\"/\"))"
   ]
  },
  {
   "cell_type": "code",
   "execution_count": 26,
   "metadata": {},
   "outputs": [],
   "source": [
    "df = pd.DataFrame(mylist)\n",
    "df = df.replace(\" \", \"\", regex=True)\n",
    "df = df.replace(\"\\n\", \"\", regex=True)\n",
    "df.columns = [\"word\", \"tags\"]"
   ]
  },
  {
   "cell_type": "code",
   "execution_count": 27,
   "metadata": {},
   "outputs": [],
   "source": [
    "df = df.dropna()"
   ]
  },
  {
   "cell_type": "code",
   "execution_count": 28,
   "metadata": {},
   "outputs": [],
   "source": [
    "df[\"mycount\"] = df.groupby(\"tags\")[\"word\"].transform(\"count\")\n",
    "df = df.sort_values(\"mycount\")"
   ]
  },
  {
   "cell_type": "code",
   "execution_count": 30,
   "metadata": {},
   "outputs": [],
   "source": [
    "mys = df.groupby([\"tags\", \"mycount\"])[\"word\"].apply(lambda x: x[:100]).reset_index()\n",
    "mys = mys.groupby([\"tags\", \"mycount\"])[\"word\"].apply(list).reset_index()\n",
    "mys = mys.sort_values(\"mycount\", ascending=False)"
   ]
  },
  {
   "cell_type": "code",
   "execution_count": 31,
   "metadata": {},
   "outputs": [],
   "source": [
    "mys.to_csv(\"to_study1.txt\", index=False)"
   ]
  },
  {
   "cell_type": "code",
   "execution_count": 32,
   "metadata": {},
   "outputs": [
    {
     "name": "stdout",
     "output_type": "stream",
     "text": [
      "NP,974,\"['काचणे', 'उपयोजणे', 'लटपटणे', 'उपभोगणे', 'भेडसावणे', 'भगभगणे', 'उपद्रवणे', 'उपदेशणे', 'लपेटणे', 'ललकारणे', 'लवणे', 'लवथवणे', 'लवलवणे', 'लवंडणे', 'लहडणे', 'भक्षणे', 'लागणे', 'उपटणे', 'लाजाळणे', 'उपजणे', 'कळणे', 'लाडावणे', 'लचकणे', 'लगावणे', 'लगबगणे', 'लगडणे', 'भडभडणे', 'भेसळणे', 'उभारणे', 'रेलणे', 'रेंगाळणे', 'उबारणे', 'भेलकंडणे', 'भेदरणे', 'रोडावणे', 'कालवणे', 'उन्हाळणे', 'काळवटणे', 'भजणे', 'भेदणे', 'रोरावणे', 'उबगणे', 'उफाळणे', 'उपेक्षणे', 'रंधणे', 'लकाकणे', 'लखलखणे', 'लगटणे', 'रोधणे', 'उन्मूळणे', 'लादणे', 'लाभणे', 'कवळणे', 'कळवणे', 'उजाडणे', 'भुरवणे', 'कळवळणे', 'कवटाळणे', 'भुताटणे', 'बोकाळणे', 'उजवणे', 'लोंबणे', 'लोभणे', 'बेतणे', 'लंघणे', 'उच्छेदणे', 'बुरसटणे', 'वखवखणे', 'वगळणे', 'वचकणे', 'भिरभिरणे', 'वटणे', 'वटवटणे', 'वटवणे', 'कांक्षणे', 'बोचकारणे', 'भूषवणे', 'उत्तरणे', 'लालचावणे', 'उन्मादणे', 'लाळणे', 'उन्मळणे', 'भेकणे', 'लांबटणे', 'बोंबलणे', 'कळमळणे', 'लिंपणे', 'उद्भवणे', 'उद्धारणे', 'बोळवणे', 'काळवंडणे', 'लुडकणे', 'कष्टणे', 'उद्धरणे', 'उद्दीपणे', 'लेखणे', 'उद्गारणे', 'लेपणे', 'बोभाटणे', 'लेवणे']\"\r\n",
      "MNPQ,383,\"['थिजणे', 'थांबणे', 'थापडणे', 'थापटणे', 'थकणे', 'सरकणे', 'तंगणे', 'सरपटणे', 'साचणे', 'तंगडणे', 'तोषणे', 'साठणे', 'सादणे', 'तोलणे', 'तोडणे', 'तुंबणे', 'सारणे', 'सांगणे', 'सांडणे', 'तिष्ठणे', 'तासणे', 'तापणे', 'ताणणे', 'ताठकळणे', 'ताटकळणे', 'चोळणे', 'तरंगणे', 'तरणे', 'छपणे', 'सणकणे', 'थुंकणे', 'सडणे', 'चोखणे', 'विस्कटणे', 'विंचरणे', 'हुंदडणे', 'वेचणे', 'हुंगणे', 'शमणे', 'हुंकारणे', 'धावणे', 'धावडणे', 'शिकणे', 'धरणे', 'धडकणे', 'शिजणे', 'शिणणे', 'चेतणे', 'दौडणे', 'शिरणे', 'हिंडणे', 'शेकणे', 'श्रमणे', 'सजणे', 'दामटणे', 'दाबणे', 'दळणे', 'दमणे', 'सटकणे', 'दचकणे', 'थोपाटणे', 'थोपणे', 'ढोसणे', 'जागणे', 'जाणणे', 'ढाळणे', 'टेकणे', 'टिकणे', 'टाकणे', 'हगणे', 'झोपणे', 'झोडपणे', 'झोडणे', 'झेलणे', 'हदरणे', 'झुंजणे', 'हसणे', 'हाकलणे', 'हाणणे', 'हातळणे', 'झिरपणे', 'झिडकारणे', 'झिजणे', 'जळणे', 'झाडणे', 'हादडणे', 'झटकणे', 'झगमगणे', 'झगडणे', 'जोडणे', 'जेवणे', 'हादरणे', 'जिंकणे', 'जिरणे', 'जाळणे', 'टोकरणे', 'टोचणे', 'ठकणे', 'जमणे', 'ढवळणे']\"\r\n",
      "P,71,\"['चुकचुकणे', 'ठुसठुसणे', 'गुरगुरणे', 'तुडतुडणे', 'भिणे', 'घुरघुरणे', 'मुकणे', 'ढुसणे', 'भुरभुरणे', 'घुसणे', 'चुटपुटणे', 'चुरणे', 'मलुलणे', 'तुटणे', 'चुळबुळणे', 'खुडणे', 'गुणगुणणे', 'खुपणे', 'पहुडणे', 'खुळखुळणे', 'पिणे', 'पुजणे', 'पुटपुटणे', 'खुसखुसणे', 'पेंगुळणे', 'धुसफुसणे', 'धुणे', 'फुकणे', 'झुळझुळणे', 'फुटणे', 'धुगधुगणे', 'धुकधुकणे', 'गढुळणे', 'फुरफुरणे', 'फुरंगुटणे', 'दुमदुमणे', 'फुसफुसणे', 'गाभुळणे', 'कुसमुसणे', 'कुरबुरणे', 'कुरकुरणे', 'कुढणे', 'कुडबुडणे', 'कुडकुडणे', 'खुटखुटणे', 'कुचकुचणे', 'गुणणे', 'कुजबुजणे', 'चुरचुरणे', 'मुसमुसणे', 'स्फुरणे', 'लालुचणे', 'लुचणे', 'सुरकुतणे', 'सुटणे', 'लेणे', 'सुजणे', 'अंकुरणे', 'सुचणे', 'आतुरणे', 'आंबुसणे', 'विखुरणे', 'आसुसणे', 'विणे', 'व्याकुळणे', 'मुळमुळणे', 'सुकणे', 'रुचणे', 'लुडबुडणे', 'हिरमुसणे', 'हुरहुरणे']\"\r\n",
      "PQ,33,\"['जुळणे', 'लुटणे', 'झुकणे', 'फुलणे', 'उतणे', 'बुजणे', 'उडणे', 'उठणे', 'कुटणे', 'झुलणे', 'फुगणे', 'पुरणे', 'पुसणे', 'झुरणे', 'थुकणे', 'मुतणे', 'धुपणे', 'भुलणे', 'घुमणे', 'डुबणे', 'डुलणे', 'उरणे', 'मुरणे', 'रुजणे', 'कुजणे', 'तुकणे', 'रुसणे', 'खुलणे', 'चुकणे', 'उबणे', 'हुकणे', 'बुडणे', 'रुतणे']\"\r\n",
      "AFacd,29,\"['आग्यापिछ्या', 'अंधारा', 'अकडी', 'अंधकारा', 'अंधश्रद्धे', 'अंकलिपि', 'अंगुलि', 'अंजलि', 'अंडाकृति', 'अंतकाला', 'अमला', 'अंतर्ज्ञाना', 'अंतर्ज्ञानि', 'अंतर्धाना', 'अंतर्भावा', 'अग्निपरीक्षे', 'अंतर्यामा', 'अंतश्चक्षु', 'अंतस्था', 'अग्यापिछ्या', 'अंत्येष्टि', 'अग्नि', 'अगस्ति', 'अंत्यक्रिये', 'अकीर्ति', 'अकर्तृत्वा', 'अकले', 'अगत्या', 'अकांडतांडवा']\"\r\n",
      "NPR,21,\"['गुरकणे', 'आळसणे', 'गचकणे', 'ठणकणे', 'झेपणे', 'कोंडणे', 'धजणे', 'मागसणे', 'मटकणे', 'भारणे', 'अटकणे', 'दणकणे', 'हुसकणे', 'बुरसणे', 'अंतरणे', 'हिसकणे', 'तडकणे', 'तळतळणे', 'बहकणे', 'दिपणे', 'पटकवणे']\"\r\n",
      "MNPQR,15,\"['मिचकणे', 'भिरकणे', 'भडकणे', 'बोलणे', 'चेष्टणे', 'जडणे', 'छमकणे', 'परतणे', 'फटकणे', 'फडकणे', 'टरकणे', 'गमणे', 'झळकणे', 'दुखणे', 'समजणे']\"\r\n",
      "AFbcd,12,\"['अंबोळ्यां', 'अंबोश्यां', 'अंत्येष्टीं', 'अंत्येष्ट्यां', 'अंबाबायां', 'अंत्यक्रियां', 'अंधश्रद्धां', 'अग्निपरीक्षां', 'अकारविल्ह्यां', 'अकारविल्हां', 'अंकलिप्यां', 'अकलां']\"\r\n",
      "FNP,10,\"['मागितणे', 'सांगितणे', 'पळाणे', 'बुडाणे', 'बघितणे', 'उडाणे', 'निघाणे', 'मिळाणे', 'घेतणे', 'म्हणाणे']\"\r\n",
      "FP,9,\"['व्यायणे', 'धुतणे', 'ल्यायणे', 'दिणे', 'गायणे', 'मेणे', 'भ्यायणे', 'घातणे', 'प्यायणे']\"\r\n",
      "NOP,8,\"['त्यजणे', 'अर्पणे', 'अर्जणे', 'अर्चणे', 'अपेक्षणे', 'संकल्पणे', 'इच्छणे', 'कल्पणे']\"\r\n",
      "NOPQ,3,\"['पाहणे', 'राहणे', 'लिहणे']\"\r\n",
      "Fg,2,\"['अंमलदारिण', 'अंमलदारण']\"\r\n",
      "SQR,1,['धुडकणे']\r\n",
      "NPOQ,1,['करणे']\r\n",
      "AFacdh,1,['अखेरी']\r\n",
      "FQR,1,['रागणे']\r\n",
      "FQ,1,['रिचणे']\r\n"
     ]
    }
   ],
   "source": [
    "!cat to_study1.txt | egrep \"F|N|O|P|Q|R|S\""
   ]
  },
  {
   "cell_type": "code",
   "execution_count": 33,
   "metadata": {},
   "outputs": [
    {
     "name": "stdout",
     "output_type": "stream",
     "text": [
      "NOP,8,\"['त्यजणे', 'अर्पणे', 'अर्जणे', 'अर्चणे', 'अपेक्षणे', 'संकल्पणे', 'इच्छणे', 'कल्पणे']\"\r\n",
      "NOPQ,3,\"['पाहणे', 'राहणे', 'लिहणे']\"\r\n",
      "NPOQ,1,['करणे']\r\n"
     ]
    }
   ],
   "source": [
    "!cat to_study1.txt | grep O"
   ]
  },
  {
   "cell_type": "code",
   "execution_count": 34,
   "metadata": {},
   "outputs": [
    {
     "name": "stdout",
     "output_type": "stream",
     "text": [
      "अपेक्षणे/NOP\n",
      "अर्चणे/NOP\n",
      "अर्जणे/NOP\n",
      "अर्पणे/NOP\n",
      "इच्छणे/NOP\n",
      "करणे/NPOQ\n",
      "कल्पणे/NOP\n",
      "त्यजणे/NOP\n",
      "पाहणे/NOPQ\n",
      "राहणे/NOPQ\n",
      "लिहणे/NOPQ\n",
      "संकल्पणे/NOP\n"
     ]
    }
   ],
   "source": [
    "!cat mr_IN.dic | grep O"
   ]
  },
  {
   "cell_type": "code",
   "execution_count": 35,
   "metadata": {},
   "outputs": [
    {
     "name": "stdout",
     "output_type": "stream",
     "text": [
      "अडकणे/MNPQ\r\n",
      "अडखळणे/MNPQ\r\n",
      "अडणे/MNPQ\r\n",
      "आखणे/MNPQ\r\n",
      "आटणे/MNPQ\r\n",
      "आणणे/MNPQ\r\n",
      "आरणे/MNPQ\r\n",
      "आंबणे/MNPQ\r\n",
      "उकळणे/MNPQ\r\n",
      "उखडणे/MNPQ\r\n",
      "उगणे/MNPQ\r\n",
      "उचकणे/MNPQ\r\n",
      "उचलणे/MNPQ\r\n",
      "उजळणे/MNPQ\r\n",
      "उठणे/PQ\r\n",
      "उडणे/PQ\r\n",
      "उतणे/PQ\r\n",
      "उतरणे/MNPQ\r\n",
      "उधळणे/MNPQ\r\n",
      "उनाडणे/MNPQ\r\n",
      "उबणे/PQ\r\n",
      "उमटणे/MNPQ\r\n",
      "उमलणे/MNPQ\r\n",
      "उरकणे/MNPQ\r\n",
      "उरणे/PQ\r\n",
      "उलगडणे/MNPQ\r\n",
      "उलटणे/MNPQ\r\n",
      "उलथणे/MNPQ\r\n",
      "उसकटणे/MNPQ\r\n",
      "ऐकणे/MNPQ\r\n",
      "ओढणे/MNPQ\r\n",
      "ओलांडणे/MNPQ\r\n",
      "करणे/NPOQ\r\n",
      "करपणे/MNPQ\r\n",
      "कलंडणे/MNPQ\r\n",
      "काढणे/MNPQ\r\n",
      "कातरणे/MNPQ\r\n",
      "कापणे/MNPQ\r\n",
      "कांडणे/MNPQ\r\n",
      "किटणे/MNPQ\r\n",
      "किडणे/MNPQ\r\n",
      "किसणे/MNPQ\r\n",
      "किंकाळणे/MNPQ\r\n",
      "किंचाळणे/MNPQ\r\n",
      "कुचकरणे/MNPQ\r\n",
      "कुजणे/PQ\r\n",
      "कुटणे/PQ\r\n",
      "कुरतडणे/MNPQ\r\n",
      "कुसकरणे/MNPQ\r\n",
      "कुंठणे/MNPQ\r\n",
      "कुंथणे/MNPQ\r\n",
      "केकाटणे/MNPQ\r\n",
      "कोकलणे/MNPQ\r\n",
      "कोरणे/MNPQ\r\n",
      "कोलणे/MNPQ\r\n",
      "कोळणे/MNPQ\r\n",
      "कोंबणे/MNPQ\r\n",
      "खडखडणे/MNPQ\r\n",
      "खणखणणे/MNPQ\r\n",
      "खणणे/MNPQ\r\n",
      "खपणे/MNPQ\r\n",
      "खारणे/MNPQ\r\n",
      "खिजणे/MNPQ\r\n",
      "खिळणे/MNPQ\r\n",
      "खिंकाळणे/MNPQ\r\n",
      "खुलणे/PQ\r\n",
      "खुंटणे/MNPQ\r\n",
      "खेचणे/MNPQ\r\n",
      "खेटणे/MNPQ\r\n",
      "खेळणे/MNPQ\r\n",
      "खोकणे/MNPQ\r\n",
      "खोचणे/MNPQ\r\n",
      "खोडणे/MNPQ\r\n",
      "खोदणे/MNPQ\r\n",
      "खोळंबणे/MNPQ\r\n",
      "गटणे/MNPQ\r\n",
      "गडबडणे/MNPQ\r\n",
      "गमणे/MNPQR\r\n",
      "गाजणे/MNPQ\r\n",
      "गाठणे/MNPQ\r\n",
      "गावणे/MNPQ\r\n",
      "गांगरणे/MNPQ\r\n",
      "गिळणे/MNPQ\r\n",
      "गुदमरणे/MNPQ\r\n",
      "गुरफटणे/MNPQ\r\n",
      "गुंगणे/MNPQ\r\n",
      "गुंतणे/MNPQ\r\n",
      "गुंफणे/MNPQ\r\n",
      "गोठणे/MNPQ\r\n",
      "गोंदणे/MNPQ\r\n",
      "गोंधळणे/MNPQ\r\n",
      "गंडणे/MNPQ\r\n",
      "घटणे/MNPQ\r\n",
      "घडणे/MNPQ\r\n",
      "घसरणे/MNPQ\r\n",
      "घाबरणे/MNPQ\r\n",
      "घालणे/MNPQ\r\n",
      "घासणे/MNPQ\r\n",
      "घुमणे/PQ\r\n",
      "घुसमटणे/MNPQ\r\n",
      "घोटणे/MNPQ\r\n",
      "घोळणे/MNPQ\r\n",
      "चकमकणे/MNPQ\r\n",
      "चढणे/MNPQ\r\n",
      "चमकणे/MNPQ\r\n",
      "चळणे/MNPQ\r\n",
      "चाखणे/MNPQ\r\n",
      "चाटणे/MNPQ\r\n",
      "चारणे/MNPQ\r\n",
      "चालणे/MNPQ\r\n",
      "चाळणे/MNPQ\r\n",
      "चावणे/MNPQ\r\n",
      "चिकटणे/MNPQ\r\n",
      "चिघळणे/MNPQ\r\n",
      "चिडणे/MNPQ\r\n",
      "चिथणे/MNPQ\r\n",
      "चिरणे/MNPQ\r\n",
      "चुकणे/PQ\r\n",
      "चेतणे/MNPQ\r\n",
      "चेष्टणे/MNPQR\r\n",
      "चोखणे/MNPQ\r\n",
      "चोळणे/MNPQ\r\n",
      "छपणे/MNPQ\r\n",
      "छमकणे/MNPQR\r\n",
      "छळणे/MNPQ\r\n",
      "छाटणे/MNPQ\r\n",
      "छिलणे/MNPQ\r\n",
      "छेडणे/MNPQ\r\n",
      "जगणे/MNPQ\r\n",
      "जडणे/MNPQR\r\n",
      "जमणे/MNPQ\r\n",
      "जळणे/MNPQ\r\n",
      "जागणे/MNPQ\r\n",
      "जाणणे/MNPQ\r\n",
      "जाळणे/MNPQ\r\n",
      "जिरणे/MNPQ\r\n",
      "जिंकणे/MNPQ\r\n",
      "जुळणे/PQ\r\n",
      "जेवणे/MNPQ\r\n",
      "जोडणे/MNPQ\r\n",
      "झगडणे/MNPQ\r\n",
      "झगमगणे/MNPQ\r\n",
      "झटकणे/MNPQ\r\n",
      "झळकणे/MNPQR\r\n",
      "झाडणे/MNPQ\r\n",
      "झिजणे/MNPQ\r\n",
      "झिडकारणे/MNPQ\r\n",
      "झिरपणे/MNPQ\r\n",
      "झुकणे/PQ\r\n",
      "झुरणे/PQ\r\n",
      "झुलणे/PQ\r\n",
      "झुंजणे/MNPQ\r\n",
      "झेलणे/MNPQ\r\n",
      "झोडणे/MNPQ\r\n",
      "झोडपणे/MNPQ\r\n",
      "झोपणे/MNPQ\r\n",
      "टरकणे/MNPQR\r\n",
      "टाकणे/MNPQ\r\n",
      "टिकणे/MNPQ\r\n",
      "टेकणे/MNPQ\r\n",
      "टोकरणे/MNPQ\r\n",
      "टोचणे/MNPQ\r\n",
      "ठकणे/MNPQ\r\n",
      "ठरणे/MNPQ\r\n",
      "ठसणे/MNPQ\r\n",
      "ठेवणे/MNPQ\r\n",
      "ठोकणे/MNPQ\r\n",
      "ठोठावणे/MNPQ\r\n",
      "डरणे/MNPQ\r\n",
      "डळमळणे/MNPQ\r\n",
      "डसणे/MNPQ\r\n",
      "डाफरणे/MNPQ\r\n",
      "डावलणे/MNPQ\r\n",
      "डांबणे/MNPQ\r\n",
      "डुबणे/PQ\r\n",
      "डुलणे/PQ\r\n",
      "डुंबणे/MNPQ\r\n",
      "डोकावणे/MNPQ\r\n",
      "डोलणे/MNPQ\r\n",
      "ढकलणे/MNPQ\r\n",
      "ढवळणे/MNPQ\r\n",
      "ढाळणे/MNPQ\r\n",
      "ढासळणे/MNPQ\r\n",
      "ढोसणे/MNPQ\r\n",
      "तरणे/MNPQ\r\n",
      "तरंगणे/MNPQ\r\n",
      "ताटकळणे/MNPQ\r\n",
      "ताठकळणे/MNPQ\r\n",
      "ताणणे/MNPQ\r\n",
      "तापणे/MNPQ\r\n",
      "तासणे/MNPQ\r\n",
      "तिष्ठणे/MNPQ\r\n",
      "तुकणे/PQ\r\n",
      "तुंबणे/MNPQ\r\n",
      "तोडणे/MNPQ\r\n",
      "तोलणे/MNPQ\r\n",
      "तोषणे/MNPQ\r\n",
      "तंगडणे/MNPQ\r\n",
      "तंगणे/MNPQ\r\n",
      "थकणे/MNPQ\r\n",
      "थापटणे/MNPQ\r\n",
      "थापडणे/MNPQ\r\n",
      "थांबणे/MNPQ\r\n",
      "थिजणे/MNPQ\r\n",
      "थुकणे/PQ\r\n",
      "थुंकणे/MNPQ\r\n",
      "थोपणे/MNPQ\r\n",
      "थोपाटणे/MNPQ\r\n",
      "दचकणे/MNPQ\r\n",
      "दमणे/MNPQ\r\n",
      "दळणे/MNPQ\r\n",
      "दाबणे/MNPQ\r\n",
      "दामटणे/MNPQ\r\n",
      "दुखणे/MNPQR\r\n",
      "दौडणे/MNPQ\r\n",
      "धडकणे/MNPQ\r\n",
      "धरणे/MNPQ\r\n",
      "धावडणे/MNPQ\r\n",
      "धावणे/MNPQ\r\n",
      "धुडकणे/SQR\r\n",
      "धुपणे/PQ\r\n",
      "नटणे/MNPQ\r\n",
      "नडणे/MNPQ\r\n",
      "नमणे/MNPQ\r\n",
      "नरमणे/MNPQ\r\n",
      "नाचणे/MNPQ\r\n",
      "नासणे/MNPQ\r\n",
      "नांगरणे/MNPQ\r\n",
      "नांदणे/MNPQ\r\n",
      "निजणे/MNPQ\r\n",
      "निवणे/MNPQ\r\n",
      "निस्तरणे/MNPQ\r\n",
      "नेसणे/MNPQ\r\n",
      "नोंदणे/MNPQ\r\n",
      "पकडणे/MNPQ\r\n",
      "पचणे/MNPQ\r\n",
      "पटणे/MNPQ\r\n",
      "पढणे/MNPQ\r\n",
      "परतणे/MNPQR\r\n",
      "पळणे/MNPQ\r\n",
      "पसरणे/MNPQ\r\n",
      "पाजणे/MNPQ\r\n",
      "पाडणे/MNPQ\r\n",
      "पादणे/MNPQ\r\n",
      "पान्हणे/MNPQ\r\n",
      "पालटणे/MNPQ\r\n",
      "पाळणे/MNPQ\r\n",
      "पाहणे/NOPQ\r\n",
      "पांगणे/MNPQ\r\n",
      "पिकणे/MNPQ\r\n",
      "पिघळणे/MNPQ\r\n",
      "पिटणे/MNPQ\r\n",
      "पिडणे/MNPQ\r\n",
      "पिळणे/MNPQ\r\n",
      "पिसणे/MNPQ\r\n",
      "पिंजणे/MNPQ\r\n",
      "पुरणे/PQ\r\n",
      "पुसणे/PQ\r\n",
      "पेटणे/MNPQ\r\n",
      "पेलणे/MNPQ\r\n",
      "पोचणे/MNPQ\r\n",
      "पोहणे/MNPQ\r\n",
      "फटकणे/MNPQR\r\n",
      "फडकणे/MNPQR\r\n",
      "फडफडणे/MNPQ\r\n",
      "फरपटणे/MNPQ\r\n",
      "फरफटणे/MNPQ\r\n",
      "फसणे/MNPQ\r\n",
      "फाकणे/MNPQ\r\n",
      "फाडणे/MNPQ\r\n",
      "फितणे/MNPQ\r\n",
      "फिरणे/MNPQ\r\n",
      "फिसकटणे/MNPQ\r\n",
      "फुगणे/PQ\r\n",
      "फुलणे/PQ\r\n",
      "बघणे/MNPQ\r\n",
      "बदडणे/MNPQ\r\n",
      "बदलणे/MNPQ\r\n",
      "बनणे/MNPQ\r\n",
      "बरबटणे/MNPQ\r\n",
      "बसणे/MNPQ\r\n",
      "बाचकणे/MNPQ\r\n",
      "बाटणे/MNPQ\r\n",
      "बाणणे/MNPQ\r\n",
      "बाळगणे/MNPQ\r\n",
      "बांधणे/MNPQ\r\n",
      "बिघडणे/MNPQ\r\n",
      "बिचकणे/MNPQ\r\n",
      "बिथरणे/MNPQ\r\n",
      "बिनसणे/MNPQ\r\n",
      "बिंबणे/MNPQ\r\n",
      "बुजणे/PQ\r\n",
      "बुडणे/PQ\r\n",
      "बोचणे/MNPQ\r\n",
      "बोलणे/MNPQR\r\n",
      "भटकणे/MNPQ\r\n",
      "भडकणे/MNPQR\r\n",
      "भागणे/MNPQ\r\n",
      "भाजणे/MNPQ\r\n",
      "भासणे/MNPQ\r\n",
      "भांडणे/MNPQ\r\n",
      "भिजणे/MNPQ\r\n",
      "भिडणे/MNPQ\r\n",
      "भिनणे/MNPQ\r\n",
      "भिरकणे/MNPQR\r\n",
      "भुरकणे/MNPQ\r\n",
      "भुलणे/PQ\r\n",
      "भूंकणे/MNPQ\r\n",
      "भेटणे/MNPQ\r\n",
      "भोगणे/MNPQ\r\n",
      "भोसकणे/MNPQ\r\n",
      "भोसडणे/MNPQ\r\n",
      "मढणे/MNPQ\r\n",
      "मरणे/MNPQ\r\n",
      "मळणे/MNPQ\r\n",
      "माखणे/MNPQ\r\n",
      "मागणे/MNPQ\r\n",
      "माजणे/MNPQ\r\n",
      "मानणे/MNPQ\r\n",
      "मारणे/MNPQ\r\n",
      "मावणे/MNPQ\r\n",
      "मांडणे/MNPQ\r\n",
      "मिचकणे/MNPQR\r\n",
      "मिटणे/MNPQ\r\n",
      "मिळणे/MNPQ\r\n",
      "मुतणे/PQ\r\n",
      "मुरणे/PQ\r\n",
      "मुंडणे/MNPQ\r\n",
      "मोडणे/MNPQ\r\n",
      "मोहणे/MNPQ\r\n",
      "म्हणणे/MNPQ\r\n",
      "रखडणे/MNPQ\r\n",
      "रगडणे/MNPQ\r\n",
      "रचणे/MNPQ\r\n",
      "रडणे/MNPQ\r\n",
      "रमणे/MNPQ\r\n",
      "राखणे/MNPQ\r\n",
      "रागणे/FQR\r\n",
      "राबणे/MNPQ\r\n",
      "राहणे/NOPQ\r\n",
      "रांगणे/MNPQ\r\n",
      "रांधणे/MNPQ\r\n",
      "रिचणे/FQ\r\n",
      "रिझणे/MNPQ\r\n",
      "रुजणे/PQ\r\n",
      "रुतणे/PQ\r\n",
      "रुसणे/PQ\r\n",
      "रूळणे/MNPQ\r\n",
      "रेकणे/MNPQ\r\n",
      "रेटणे/MNPQ\r\n",
      "रोखणे/MNPQ\r\n",
      "रोवणे/MNPQ\r\n",
      "रंगणे/MNPQ\r\n",
      "रंजणे/MNPQ\r\n",
      "लटकणे/MNPQ\r\n",
      "लडबडणे/MNPQ\r\n",
      "लढणे/MNPQ\r\n",
      "लपणे/MNPQ\r\n",
      "लाजणे/MNPQ\r\n",
      "लाटणे/MNPQ\r\n",
      "लाथाडणे/MNPQ\r\n",
      "लाथाळणे/MNPQ\r\n",
      "लावणे/MNPQ\r\n",
      "लांबणे/MNPQ\r\n",
      "लिहणे/NOPQ\r\n",
      "लुटणे/PQ\r\n",
      "लुबाडणे/MNPQ\r\n",
      "लोटणे/MNPQ\r\n",
      "लोपणे/MNPQ\r\n",
      "लोळणे/MNPQ\r\n",
      "लोंबकळणे/MNPQ\r\n",
      "लंगडणे/MNPQ\r\n",
      "वठणे/MNPQ\r\n",
      "वदणे/MNPQ\r\n",
      "वर्तणे/MNPQ\r\n",
      "वळणे/MNPQ\r\n",
      "वसणे/MNPQ\r\n",
      "वाकणे/MNPQ\r\n",
      "वागणे/MNPQ\r\n",
      "वाचणे/MNPQ\r\n",
      "वाजणे/MNPQ\r\n",
      "वाटणे/MNPQ\r\n",
      "वाढणे/MNPQ\r\n",
      "वापरणे/MNPQ\r\n",
      "वाफणे/MNPQ\r\n",
      "वाळणे/MNPQ\r\n",
      "वाहणे/MNPQ\r\n",
      "विकणे/MNPQ\r\n",
      "विझणे/MNPQ\r\n",
      "विणणे/MNPQ\r\n",
      "वितळणे/MNPQ\r\n",
      "विरघळणे/MNPQ\r\n",
      "विसकटणे/MNPQ\r\n",
      "विस्कटणे/MNPQ\r\n",
      "विंचरणे/MNPQ\r\n",
      "वेचणे/MNPQ\r\n",
      "शमणे/MNPQ\r\n",
      "शिकणे/MNPQ\r\n",
      "शिजणे/MNPQ\r\n",
      "शिणणे/MNPQ\r\n",
      "शिरणे/MNPQ\r\n",
      "शेकणे/MNPQ\r\n",
      "श्रमणे/MNPQ\r\n",
      "सजणे/MNPQ\r\n",
      "सटकणे/MNPQ\r\n",
      "सडणे/MNPQ\r\n",
      "सणकणे/MNPQ\r\n",
      "समजणे/MNPQR\r\n",
      "सरकणे/MNPQ\r\n",
      "सरपटणे/MNPQ\r\n",
      "साचणे/MNPQ\r\n",
      "साठणे/MNPQ\r\n",
      "सादणे/MNPQ\r\n",
      "सारणे/MNPQ\r\n",
      "सांगणे/MNPQ\r\n",
      "सांडणे/MNPQ\r\n",
      "सुलटणे/MNPQ\r\n",
      "सोलणे/MNPQ\r\n",
      "सोसणे/MNPQ\r\n",
      "संतापणे/MNPQ\r\n",
      "संपणे/MNPQ\r\n",
      "संभाळणे/MNPQ\r\n",
      "संभोगणे/MNPQ\r\n",
      "हगणे/MNPQ\r\n",
      "हदरणे/MNPQ\r\n",
      "हसणे/MNPQ\r\n",
      "हाकलणे/MNPQ\r\n",
      "हाणणे/MNPQ\r\n",
      "हातळणे/MNPQ\r\n",
      "हादडणे/MNPQ\r\n",
      "हादरणे/MNPQ\r\n",
      "हालणे/MNPQ\r\n",
      "हिंडणे/MNPQ\r\n",
      "हुकणे/PQ\r\n",
      "हुंकारणे/MNPQ\r\n",
      "हुंगणे/MNPQ\r\n",
      "हुंदडणे/MNPQ\r\n",
      "हंबरणे/MNPQ\r\n"
     ]
    }
   ],
   "source": [
    "!cat mr_IN.dic | grep Q"
   ]
  },
  {
   "cell_type": "code",
   "execution_count": 39,
   "metadata": {},
   "outputs": [
    {
     "ename": "OSError",
     "evalue": "[Errno 12] Cannot allocate memory",
     "output_type": "error",
     "traceback": [
      "\u001b[0;31m---------------------------------------------------------------------------\u001b[0m",
      "\u001b[0;31mOSError\u001b[0m                                   Traceback (most recent call last)",
      "\u001b[0;32m<ipython-input-39-f4bc1c9a1eff>\u001b[0m in \u001b[0;36m<module>\u001b[0;34m\u001b[0m\n\u001b[0;32m----> 1\u001b[0;31m \u001b[0mget_ipython\u001b[0m\u001b[0;34m(\u001b[0m\u001b[0;34m)\u001b[0m\u001b[0;34m.\u001b[0m\u001b[0msystem\u001b[0m\u001b[0;34m(\u001b[0m\u001b[0;34m'ls -lht'\u001b[0m\u001b[0;34m)\u001b[0m\u001b[0;34m\u001b[0m\u001b[0;34m\u001b[0m\u001b[0m\n\u001b[0m",
      "\u001b[0;32m/opt/conda/lib/python3.7/site-packages/IPython/core/interactiveshell.py\u001b[0m in \u001b[0;36msystem_piped\u001b[0;34m(self, cmd)\u001b[0m\n\u001b[1;32m   2451\u001b[0m         \u001b[0;31m# a non-None value would trigger :func:`sys.displayhook` calls.\u001b[0m\u001b[0;34m\u001b[0m\u001b[0;34m\u001b[0m\u001b[0;34m\u001b[0m\u001b[0m\n\u001b[1;32m   2452\u001b[0m         \u001b[0;31m# Instead, we store the exit_code in user_ns.\u001b[0m\u001b[0;34m\u001b[0m\u001b[0;34m\u001b[0m\u001b[0;34m\u001b[0m\u001b[0m\n\u001b[0;32m-> 2453\u001b[0;31m         \u001b[0mself\u001b[0m\u001b[0;34m.\u001b[0m\u001b[0muser_ns\u001b[0m\u001b[0;34m[\u001b[0m\u001b[0;34m'_exit_code'\u001b[0m\u001b[0;34m]\u001b[0m \u001b[0;34m=\u001b[0m \u001b[0msystem\u001b[0m\u001b[0;34m(\u001b[0m\u001b[0mself\u001b[0m\u001b[0;34m.\u001b[0m\u001b[0mvar_expand\u001b[0m\u001b[0;34m(\u001b[0m\u001b[0mcmd\u001b[0m\u001b[0;34m,\u001b[0m \u001b[0mdepth\u001b[0m\u001b[0;34m=\u001b[0m\u001b[0;36m1\u001b[0m\u001b[0;34m)\u001b[0m\u001b[0;34m)\u001b[0m\u001b[0;34m\u001b[0m\u001b[0;34m\u001b[0m\u001b[0m\n\u001b[0m\u001b[1;32m   2454\u001b[0m \u001b[0;34m\u001b[0m\u001b[0m\n\u001b[1;32m   2455\u001b[0m     \u001b[0;32mdef\u001b[0m \u001b[0msystem_raw\u001b[0m\u001b[0;34m(\u001b[0m\u001b[0mself\u001b[0m\u001b[0;34m,\u001b[0m \u001b[0mcmd\u001b[0m\u001b[0;34m)\u001b[0m\u001b[0;34m:\u001b[0m\u001b[0;34m\u001b[0m\u001b[0;34m\u001b[0m\u001b[0m\n",
      "\u001b[0;32m/opt/conda/lib/python3.7/site-packages/IPython/utils/_process_posix.py\u001b[0m in \u001b[0;36msystem\u001b[0;34m(self, cmd)\u001b[0m\n\u001b[1;32m    154\u001b[0m                 \u001b[0mchild\u001b[0m \u001b[0;34m=\u001b[0m \u001b[0mpexpect\u001b[0m\u001b[0;34m.\u001b[0m\u001b[0mspawnb\u001b[0m\u001b[0;34m(\u001b[0m\u001b[0mself\u001b[0m\u001b[0;34m.\u001b[0m\u001b[0msh\u001b[0m\u001b[0;34m,\u001b[0m \u001b[0margs\u001b[0m\u001b[0;34m=\u001b[0m\u001b[0;34m[\u001b[0m\u001b[0;34m'-c'\u001b[0m\u001b[0;34m,\u001b[0m \u001b[0mcmd\u001b[0m\u001b[0;34m]\u001b[0m\u001b[0;34m)\u001b[0m \u001b[0;31m# Pexpect-U\u001b[0m\u001b[0;34m\u001b[0m\u001b[0;34m\u001b[0m\u001b[0m\n\u001b[1;32m    155\u001b[0m             \u001b[0;32melse\u001b[0m\u001b[0;34m:\u001b[0m\u001b[0;34m\u001b[0m\u001b[0;34m\u001b[0m\u001b[0m\n\u001b[0;32m--> 156\u001b[0;31m                 \u001b[0mchild\u001b[0m \u001b[0;34m=\u001b[0m \u001b[0mpexpect\u001b[0m\u001b[0;34m.\u001b[0m\u001b[0mspawn\u001b[0m\u001b[0;34m(\u001b[0m\u001b[0mself\u001b[0m\u001b[0;34m.\u001b[0m\u001b[0msh\u001b[0m\u001b[0;34m,\u001b[0m \u001b[0margs\u001b[0m\u001b[0;34m=\u001b[0m\u001b[0;34m[\u001b[0m\u001b[0;34m'-c'\u001b[0m\u001b[0;34m,\u001b[0m \u001b[0mcmd\u001b[0m\u001b[0;34m]\u001b[0m\u001b[0;34m)\u001b[0m  \u001b[0;31m# Vanilla Pexpect\u001b[0m\u001b[0;34m\u001b[0m\u001b[0;34m\u001b[0m\u001b[0m\n\u001b[0m\u001b[1;32m    157\u001b[0m             \u001b[0mflush\u001b[0m \u001b[0;34m=\u001b[0m \u001b[0msys\u001b[0m\u001b[0;34m.\u001b[0m\u001b[0mstdout\u001b[0m\u001b[0;34m.\u001b[0m\u001b[0mflush\u001b[0m\u001b[0;34m\u001b[0m\u001b[0;34m\u001b[0m\u001b[0m\n\u001b[1;32m    158\u001b[0m             \u001b[0;32mwhile\u001b[0m \u001b[0;32mTrue\u001b[0m\u001b[0;34m:\u001b[0m\u001b[0;34m\u001b[0m\u001b[0;34m\u001b[0m\u001b[0m\n",
      "\u001b[0;32m/opt/conda/lib/python3.7/site-packages/pexpect/pty_spawn.py\u001b[0m in \u001b[0;36m__init__\u001b[0;34m(self, command, args, timeout, maxread, searchwindowsize, logfile, cwd, env, ignore_sighup, echo, preexec_fn, encoding, codec_errors, dimensions, use_poll)\u001b[0m\n\u001b[1;32m    202\u001b[0m             \u001b[0mself\u001b[0m\u001b[0;34m.\u001b[0m\u001b[0mname\u001b[0m \u001b[0;34m=\u001b[0m \u001b[0;34m'<pexpect factory incomplete>'\u001b[0m\u001b[0;34m\u001b[0m\u001b[0;34m\u001b[0m\u001b[0m\n\u001b[1;32m    203\u001b[0m         \u001b[0;32melse\u001b[0m\u001b[0;34m:\u001b[0m\u001b[0;34m\u001b[0m\u001b[0;34m\u001b[0m\u001b[0m\n\u001b[0;32m--> 204\u001b[0;31m             \u001b[0mself\u001b[0m\u001b[0;34m.\u001b[0m\u001b[0m_spawn\u001b[0m\u001b[0;34m(\u001b[0m\u001b[0mcommand\u001b[0m\u001b[0;34m,\u001b[0m \u001b[0margs\u001b[0m\u001b[0;34m,\u001b[0m \u001b[0mpreexec_fn\u001b[0m\u001b[0;34m,\u001b[0m \u001b[0mdimensions\u001b[0m\u001b[0;34m)\u001b[0m\u001b[0;34m\u001b[0m\u001b[0;34m\u001b[0m\u001b[0m\n\u001b[0m\u001b[1;32m    205\u001b[0m         \u001b[0mself\u001b[0m\u001b[0;34m.\u001b[0m\u001b[0muse_poll\u001b[0m \u001b[0;34m=\u001b[0m \u001b[0muse_poll\u001b[0m\u001b[0;34m\u001b[0m\u001b[0;34m\u001b[0m\u001b[0m\n\u001b[1;32m    206\u001b[0m \u001b[0;34m\u001b[0m\u001b[0m\n",
      "\u001b[0;32m/opt/conda/lib/python3.7/site-packages/pexpect/pty_spawn.py\u001b[0m in \u001b[0;36m_spawn\u001b[0;34m(self, command, args, preexec_fn, dimensions)\u001b[0m\n\u001b[1;32m    301\u001b[0m \u001b[0;34m\u001b[0m\u001b[0m\n\u001b[1;32m    302\u001b[0m         self.ptyproc = self._spawnpty(self.args, env=self.env,\n\u001b[0;32m--> 303\u001b[0;31m                                      cwd=self.cwd, **kwargs)\n\u001b[0m\u001b[1;32m    304\u001b[0m \u001b[0;34m\u001b[0m\u001b[0m\n\u001b[1;32m    305\u001b[0m         \u001b[0mself\u001b[0m\u001b[0;34m.\u001b[0m\u001b[0mpid\u001b[0m \u001b[0;34m=\u001b[0m \u001b[0mself\u001b[0m\u001b[0;34m.\u001b[0m\u001b[0mptyproc\u001b[0m\u001b[0;34m.\u001b[0m\u001b[0mpid\u001b[0m\u001b[0;34m\u001b[0m\u001b[0;34m\u001b[0m\u001b[0m\n",
      "\u001b[0;32m/opt/conda/lib/python3.7/site-packages/pexpect/pty_spawn.py\u001b[0m in \u001b[0;36m_spawnpty\u001b[0;34m(self, args, **kwargs)\u001b[0m\n\u001b[1;32m    312\u001b[0m     \u001b[0;32mdef\u001b[0m \u001b[0m_spawnpty\u001b[0m\u001b[0;34m(\u001b[0m\u001b[0mself\u001b[0m\u001b[0;34m,\u001b[0m \u001b[0margs\u001b[0m\u001b[0;34m,\u001b[0m \u001b[0;34m**\u001b[0m\u001b[0mkwargs\u001b[0m\u001b[0;34m)\u001b[0m\u001b[0;34m:\u001b[0m\u001b[0;34m\u001b[0m\u001b[0;34m\u001b[0m\u001b[0m\n\u001b[1;32m    313\u001b[0m         \u001b[0;34m'''Spawn a pty and return an instance of PtyProcess.'''\u001b[0m\u001b[0;34m\u001b[0m\u001b[0;34m\u001b[0m\u001b[0m\n\u001b[0;32m--> 314\u001b[0;31m         \u001b[0;32mreturn\u001b[0m \u001b[0mptyprocess\u001b[0m\u001b[0;34m.\u001b[0m\u001b[0mPtyProcess\u001b[0m\u001b[0;34m.\u001b[0m\u001b[0mspawn\u001b[0m\u001b[0;34m(\u001b[0m\u001b[0margs\u001b[0m\u001b[0;34m,\u001b[0m \u001b[0;34m**\u001b[0m\u001b[0mkwargs\u001b[0m\u001b[0;34m)\u001b[0m\u001b[0;34m\u001b[0m\u001b[0;34m\u001b[0m\u001b[0m\n\u001b[0m\u001b[1;32m    315\u001b[0m \u001b[0;34m\u001b[0m\u001b[0m\n\u001b[1;32m    316\u001b[0m     \u001b[0;32mdef\u001b[0m \u001b[0mclose\u001b[0m\u001b[0;34m(\u001b[0m\u001b[0mself\u001b[0m\u001b[0;34m,\u001b[0m \u001b[0mforce\u001b[0m\u001b[0;34m=\u001b[0m\u001b[0;32mTrue\u001b[0m\u001b[0;34m)\u001b[0m\u001b[0;34m:\u001b[0m\u001b[0;34m\u001b[0m\u001b[0;34m\u001b[0m\u001b[0m\n",
      "\u001b[0;32m/opt/conda/lib/python3.7/site-packages/ptyprocess/ptyprocess.py\u001b[0m in \u001b[0;36mspawn\u001b[0;34m(cls, argv, cwd, env, echo, preexec_fn, dimensions)\u001b[0m\n\u001b[1;32m    224\u001b[0m \u001b[0;34m\u001b[0m\u001b[0m\n\u001b[1;32m    225\u001b[0m         \u001b[0;32mif\u001b[0m \u001b[0muse_native_pty_fork\u001b[0m\u001b[0;34m:\u001b[0m\u001b[0;34m\u001b[0m\u001b[0;34m\u001b[0m\u001b[0m\n\u001b[0;32m--> 226\u001b[0;31m             \u001b[0mpid\u001b[0m\u001b[0;34m,\u001b[0m \u001b[0mfd\u001b[0m \u001b[0;34m=\u001b[0m \u001b[0mpty\u001b[0m\u001b[0;34m.\u001b[0m\u001b[0mfork\u001b[0m\u001b[0;34m(\u001b[0m\u001b[0;34m)\u001b[0m\u001b[0;34m\u001b[0m\u001b[0;34m\u001b[0m\u001b[0m\n\u001b[0m\u001b[1;32m    227\u001b[0m         \u001b[0;32melse\u001b[0m\u001b[0;34m:\u001b[0m\u001b[0;34m\u001b[0m\u001b[0;34m\u001b[0m\u001b[0m\n\u001b[1;32m    228\u001b[0m             \u001b[0;31m# Use internal fork_pty, for Solaris\u001b[0m\u001b[0;34m\u001b[0m\u001b[0;34m\u001b[0m\u001b[0;34m\u001b[0m\u001b[0m\n",
      "\u001b[0;32m/opt/conda/lib/python3.7/pty.py\u001b[0m in \u001b[0;36mfork\u001b[0;34m()\u001b[0m\n\u001b[1;32m     95\u001b[0m \u001b[0;34m\u001b[0m\u001b[0m\n\u001b[1;32m     96\u001b[0m     \u001b[0mmaster_fd\u001b[0m\u001b[0;34m,\u001b[0m \u001b[0mslave_fd\u001b[0m \u001b[0;34m=\u001b[0m \u001b[0mopenpty\u001b[0m\u001b[0;34m(\u001b[0m\u001b[0;34m)\u001b[0m\u001b[0;34m\u001b[0m\u001b[0;34m\u001b[0m\u001b[0m\n\u001b[0;32m---> 97\u001b[0;31m     \u001b[0mpid\u001b[0m \u001b[0;34m=\u001b[0m \u001b[0mos\u001b[0m\u001b[0;34m.\u001b[0m\u001b[0mfork\u001b[0m\u001b[0;34m(\u001b[0m\u001b[0;34m)\u001b[0m\u001b[0;34m\u001b[0m\u001b[0;34m\u001b[0m\u001b[0m\n\u001b[0m\u001b[1;32m     98\u001b[0m     \u001b[0;32mif\u001b[0m \u001b[0mpid\u001b[0m \u001b[0;34m==\u001b[0m \u001b[0mCHILD\u001b[0m\u001b[0;34m:\u001b[0m\u001b[0;34m\u001b[0m\u001b[0;34m\u001b[0m\u001b[0m\n\u001b[1;32m     99\u001b[0m         \u001b[0;31m# Establish a new session.\u001b[0m\u001b[0;34m\u001b[0m\u001b[0;34m\u001b[0m\u001b[0;34m\u001b[0m\u001b[0m\n",
      "\u001b[0;31mOSError\u001b[0m: [Errno 12] Cannot allocate memory"
     ]
    }
   ],
   "source": [
    "!ls -lht"
   ]
  },
  {
   "cell_type": "code",
   "execution_count": null,
   "metadata": {},
   "outputs": [],
   "source": []
  },
  {
   "cell_type": "code",
   "execution_count": 38,
   "metadata": {},
   "outputs": [
    {
     "ename": "OSError",
     "evalue": "[Errno 12] Cannot allocate memory",
     "output_type": "error",
     "traceback": [
      "\u001b[0;31m---------------------------------------------------------------------------\u001b[0m",
      "\u001b[0;31mOSError\u001b[0m                                   Traceback (most recent call last)",
      "\u001b[0;32m<ipython-input-38-691e146024ea>\u001b[0m in \u001b[0;36m<module>\u001b[0;34m\u001b[0m\n\u001b[0;32m----> 1\u001b[0;31m \u001b[0mget_ipython\u001b[0m\u001b[0;34m(\u001b[0m\u001b[0;34m)\u001b[0m\u001b[0;34m.\u001b[0m\u001b[0msystem\u001b[0m\u001b[0;34m(\u001b[0m\u001b[0;34m\"cat ../mr_IN.dic | grep 'बसणे'\"\u001b[0m\u001b[0;34m)\u001b[0m\u001b[0;34m\u001b[0m\u001b[0;34m\u001b[0m\u001b[0m\n\u001b[0m",
      "\u001b[0;32m/opt/conda/lib/python3.7/site-packages/IPython/core/interactiveshell.py\u001b[0m in \u001b[0;36msystem_piped\u001b[0;34m(self, cmd)\u001b[0m\n\u001b[1;32m   2451\u001b[0m         \u001b[0;31m# a non-None value would trigger :func:`sys.displayhook` calls.\u001b[0m\u001b[0;34m\u001b[0m\u001b[0;34m\u001b[0m\u001b[0;34m\u001b[0m\u001b[0m\n\u001b[1;32m   2452\u001b[0m         \u001b[0;31m# Instead, we store the exit_code in user_ns.\u001b[0m\u001b[0;34m\u001b[0m\u001b[0;34m\u001b[0m\u001b[0;34m\u001b[0m\u001b[0m\n\u001b[0;32m-> 2453\u001b[0;31m         \u001b[0mself\u001b[0m\u001b[0;34m.\u001b[0m\u001b[0muser_ns\u001b[0m\u001b[0;34m[\u001b[0m\u001b[0;34m'_exit_code'\u001b[0m\u001b[0;34m]\u001b[0m \u001b[0;34m=\u001b[0m \u001b[0msystem\u001b[0m\u001b[0;34m(\u001b[0m\u001b[0mself\u001b[0m\u001b[0;34m.\u001b[0m\u001b[0mvar_expand\u001b[0m\u001b[0;34m(\u001b[0m\u001b[0mcmd\u001b[0m\u001b[0;34m,\u001b[0m \u001b[0mdepth\u001b[0m\u001b[0;34m=\u001b[0m\u001b[0;36m1\u001b[0m\u001b[0;34m)\u001b[0m\u001b[0;34m)\u001b[0m\u001b[0;34m\u001b[0m\u001b[0;34m\u001b[0m\u001b[0m\n\u001b[0m\u001b[1;32m   2454\u001b[0m \u001b[0;34m\u001b[0m\u001b[0m\n\u001b[1;32m   2455\u001b[0m     \u001b[0;32mdef\u001b[0m \u001b[0msystem_raw\u001b[0m\u001b[0;34m(\u001b[0m\u001b[0mself\u001b[0m\u001b[0;34m,\u001b[0m \u001b[0mcmd\u001b[0m\u001b[0;34m)\u001b[0m\u001b[0;34m:\u001b[0m\u001b[0;34m\u001b[0m\u001b[0;34m\u001b[0m\u001b[0m\n",
      "\u001b[0;32m/opt/conda/lib/python3.7/site-packages/IPython/utils/_process_posix.py\u001b[0m in \u001b[0;36msystem\u001b[0;34m(self, cmd)\u001b[0m\n\u001b[1;32m    154\u001b[0m                 \u001b[0mchild\u001b[0m \u001b[0;34m=\u001b[0m \u001b[0mpexpect\u001b[0m\u001b[0;34m.\u001b[0m\u001b[0mspawnb\u001b[0m\u001b[0;34m(\u001b[0m\u001b[0mself\u001b[0m\u001b[0;34m.\u001b[0m\u001b[0msh\u001b[0m\u001b[0;34m,\u001b[0m \u001b[0margs\u001b[0m\u001b[0;34m=\u001b[0m\u001b[0;34m[\u001b[0m\u001b[0;34m'-c'\u001b[0m\u001b[0;34m,\u001b[0m \u001b[0mcmd\u001b[0m\u001b[0;34m]\u001b[0m\u001b[0;34m)\u001b[0m \u001b[0;31m# Pexpect-U\u001b[0m\u001b[0;34m\u001b[0m\u001b[0;34m\u001b[0m\u001b[0m\n\u001b[1;32m    155\u001b[0m             \u001b[0;32melse\u001b[0m\u001b[0;34m:\u001b[0m\u001b[0;34m\u001b[0m\u001b[0;34m\u001b[0m\u001b[0m\n\u001b[0;32m--> 156\u001b[0;31m                 \u001b[0mchild\u001b[0m \u001b[0;34m=\u001b[0m \u001b[0mpexpect\u001b[0m\u001b[0;34m.\u001b[0m\u001b[0mspawn\u001b[0m\u001b[0;34m(\u001b[0m\u001b[0mself\u001b[0m\u001b[0;34m.\u001b[0m\u001b[0msh\u001b[0m\u001b[0;34m,\u001b[0m \u001b[0margs\u001b[0m\u001b[0;34m=\u001b[0m\u001b[0;34m[\u001b[0m\u001b[0;34m'-c'\u001b[0m\u001b[0;34m,\u001b[0m \u001b[0mcmd\u001b[0m\u001b[0;34m]\u001b[0m\u001b[0;34m)\u001b[0m  \u001b[0;31m# Vanilla Pexpect\u001b[0m\u001b[0;34m\u001b[0m\u001b[0;34m\u001b[0m\u001b[0m\n\u001b[0m\u001b[1;32m    157\u001b[0m             \u001b[0mflush\u001b[0m \u001b[0;34m=\u001b[0m \u001b[0msys\u001b[0m\u001b[0;34m.\u001b[0m\u001b[0mstdout\u001b[0m\u001b[0;34m.\u001b[0m\u001b[0mflush\u001b[0m\u001b[0;34m\u001b[0m\u001b[0;34m\u001b[0m\u001b[0m\n\u001b[1;32m    158\u001b[0m             \u001b[0;32mwhile\u001b[0m \u001b[0;32mTrue\u001b[0m\u001b[0;34m:\u001b[0m\u001b[0;34m\u001b[0m\u001b[0;34m\u001b[0m\u001b[0m\n",
      "\u001b[0;32m/opt/conda/lib/python3.7/site-packages/pexpect/pty_spawn.py\u001b[0m in \u001b[0;36m__init__\u001b[0;34m(self, command, args, timeout, maxread, searchwindowsize, logfile, cwd, env, ignore_sighup, echo, preexec_fn, encoding, codec_errors, dimensions, use_poll)\u001b[0m\n\u001b[1;32m    202\u001b[0m             \u001b[0mself\u001b[0m\u001b[0;34m.\u001b[0m\u001b[0mname\u001b[0m \u001b[0;34m=\u001b[0m \u001b[0;34m'<pexpect factory incomplete>'\u001b[0m\u001b[0;34m\u001b[0m\u001b[0;34m\u001b[0m\u001b[0m\n\u001b[1;32m    203\u001b[0m         \u001b[0;32melse\u001b[0m\u001b[0;34m:\u001b[0m\u001b[0;34m\u001b[0m\u001b[0;34m\u001b[0m\u001b[0m\n\u001b[0;32m--> 204\u001b[0;31m             \u001b[0mself\u001b[0m\u001b[0;34m.\u001b[0m\u001b[0m_spawn\u001b[0m\u001b[0;34m(\u001b[0m\u001b[0mcommand\u001b[0m\u001b[0;34m,\u001b[0m \u001b[0margs\u001b[0m\u001b[0;34m,\u001b[0m \u001b[0mpreexec_fn\u001b[0m\u001b[0;34m,\u001b[0m \u001b[0mdimensions\u001b[0m\u001b[0;34m)\u001b[0m\u001b[0;34m\u001b[0m\u001b[0;34m\u001b[0m\u001b[0m\n\u001b[0m\u001b[1;32m    205\u001b[0m         \u001b[0mself\u001b[0m\u001b[0;34m.\u001b[0m\u001b[0muse_poll\u001b[0m \u001b[0;34m=\u001b[0m \u001b[0muse_poll\u001b[0m\u001b[0;34m\u001b[0m\u001b[0;34m\u001b[0m\u001b[0m\n\u001b[1;32m    206\u001b[0m \u001b[0;34m\u001b[0m\u001b[0m\n",
      "\u001b[0;32m/opt/conda/lib/python3.7/site-packages/pexpect/pty_spawn.py\u001b[0m in \u001b[0;36m_spawn\u001b[0;34m(self, command, args, preexec_fn, dimensions)\u001b[0m\n\u001b[1;32m    301\u001b[0m \u001b[0;34m\u001b[0m\u001b[0m\n\u001b[1;32m    302\u001b[0m         self.ptyproc = self._spawnpty(self.args, env=self.env,\n\u001b[0;32m--> 303\u001b[0;31m                                      cwd=self.cwd, **kwargs)\n\u001b[0m\u001b[1;32m    304\u001b[0m \u001b[0;34m\u001b[0m\u001b[0m\n\u001b[1;32m    305\u001b[0m         \u001b[0mself\u001b[0m\u001b[0;34m.\u001b[0m\u001b[0mpid\u001b[0m \u001b[0;34m=\u001b[0m \u001b[0mself\u001b[0m\u001b[0;34m.\u001b[0m\u001b[0mptyproc\u001b[0m\u001b[0;34m.\u001b[0m\u001b[0mpid\u001b[0m\u001b[0;34m\u001b[0m\u001b[0;34m\u001b[0m\u001b[0m\n",
      "\u001b[0;32m/opt/conda/lib/python3.7/site-packages/pexpect/pty_spawn.py\u001b[0m in \u001b[0;36m_spawnpty\u001b[0;34m(self, args, **kwargs)\u001b[0m\n\u001b[1;32m    312\u001b[0m     \u001b[0;32mdef\u001b[0m \u001b[0m_spawnpty\u001b[0m\u001b[0;34m(\u001b[0m\u001b[0mself\u001b[0m\u001b[0;34m,\u001b[0m \u001b[0margs\u001b[0m\u001b[0;34m,\u001b[0m \u001b[0;34m**\u001b[0m\u001b[0mkwargs\u001b[0m\u001b[0;34m)\u001b[0m\u001b[0;34m:\u001b[0m\u001b[0;34m\u001b[0m\u001b[0;34m\u001b[0m\u001b[0m\n\u001b[1;32m    313\u001b[0m         \u001b[0;34m'''Spawn a pty and return an instance of PtyProcess.'''\u001b[0m\u001b[0;34m\u001b[0m\u001b[0;34m\u001b[0m\u001b[0m\n\u001b[0;32m--> 314\u001b[0;31m         \u001b[0;32mreturn\u001b[0m \u001b[0mptyprocess\u001b[0m\u001b[0;34m.\u001b[0m\u001b[0mPtyProcess\u001b[0m\u001b[0;34m.\u001b[0m\u001b[0mspawn\u001b[0m\u001b[0;34m(\u001b[0m\u001b[0margs\u001b[0m\u001b[0;34m,\u001b[0m \u001b[0;34m**\u001b[0m\u001b[0mkwargs\u001b[0m\u001b[0;34m)\u001b[0m\u001b[0;34m\u001b[0m\u001b[0;34m\u001b[0m\u001b[0m\n\u001b[0m\u001b[1;32m    315\u001b[0m \u001b[0;34m\u001b[0m\u001b[0m\n\u001b[1;32m    316\u001b[0m     \u001b[0;32mdef\u001b[0m \u001b[0mclose\u001b[0m\u001b[0;34m(\u001b[0m\u001b[0mself\u001b[0m\u001b[0;34m,\u001b[0m \u001b[0mforce\u001b[0m\u001b[0;34m=\u001b[0m\u001b[0;32mTrue\u001b[0m\u001b[0;34m)\u001b[0m\u001b[0;34m:\u001b[0m\u001b[0;34m\u001b[0m\u001b[0;34m\u001b[0m\u001b[0m\n",
      "\u001b[0;32m/opt/conda/lib/python3.7/site-packages/ptyprocess/ptyprocess.py\u001b[0m in \u001b[0;36mspawn\u001b[0;34m(cls, argv, cwd, env, echo, preexec_fn, dimensions)\u001b[0m\n\u001b[1;32m    224\u001b[0m \u001b[0;34m\u001b[0m\u001b[0m\n\u001b[1;32m    225\u001b[0m         \u001b[0;32mif\u001b[0m \u001b[0muse_native_pty_fork\u001b[0m\u001b[0;34m:\u001b[0m\u001b[0;34m\u001b[0m\u001b[0;34m\u001b[0m\u001b[0m\n\u001b[0;32m--> 226\u001b[0;31m             \u001b[0mpid\u001b[0m\u001b[0;34m,\u001b[0m \u001b[0mfd\u001b[0m \u001b[0;34m=\u001b[0m \u001b[0mpty\u001b[0m\u001b[0;34m.\u001b[0m\u001b[0mfork\u001b[0m\u001b[0;34m(\u001b[0m\u001b[0;34m)\u001b[0m\u001b[0;34m\u001b[0m\u001b[0;34m\u001b[0m\u001b[0m\n\u001b[0m\u001b[1;32m    227\u001b[0m         \u001b[0;32melse\u001b[0m\u001b[0;34m:\u001b[0m\u001b[0;34m\u001b[0m\u001b[0;34m\u001b[0m\u001b[0m\n\u001b[1;32m    228\u001b[0m             \u001b[0;31m# Use internal fork_pty, for Solaris\u001b[0m\u001b[0;34m\u001b[0m\u001b[0;34m\u001b[0m\u001b[0;34m\u001b[0m\u001b[0m\n",
      "\u001b[0;32m/opt/conda/lib/python3.7/pty.py\u001b[0m in \u001b[0;36mfork\u001b[0;34m()\u001b[0m\n\u001b[1;32m     95\u001b[0m \u001b[0;34m\u001b[0m\u001b[0m\n\u001b[1;32m     96\u001b[0m     \u001b[0mmaster_fd\u001b[0m\u001b[0;34m,\u001b[0m \u001b[0mslave_fd\u001b[0m \u001b[0;34m=\u001b[0m \u001b[0mopenpty\u001b[0m\u001b[0;34m(\u001b[0m\u001b[0;34m)\u001b[0m\u001b[0;34m\u001b[0m\u001b[0;34m\u001b[0m\u001b[0m\n\u001b[0;32m---> 97\u001b[0;31m     \u001b[0mpid\u001b[0m \u001b[0;34m=\u001b[0m \u001b[0mos\u001b[0m\u001b[0;34m.\u001b[0m\u001b[0mfork\u001b[0m\u001b[0;34m(\u001b[0m\u001b[0;34m)\u001b[0m\u001b[0;34m\u001b[0m\u001b[0;34m\u001b[0m\u001b[0m\n\u001b[0m\u001b[1;32m     98\u001b[0m     \u001b[0;32mif\u001b[0m \u001b[0mpid\u001b[0m \u001b[0;34m==\u001b[0m \u001b[0mCHILD\u001b[0m\u001b[0;34m:\u001b[0m\u001b[0;34m\u001b[0m\u001b[0;34m\u001b[0m\u001b[0m\n\u001b[1;32m     99\u001b[0m         \u001b[0;31m# Establish a new session.\u001b[0m\u001b[0;34m\u001b[0m\u001b[0;34m\u001b[0m\u001b[0;34m\u001b[0m\u001b[0m\n",
      "\u001b[0;31mOSError\u001b[0m: [Errno 12] Cannot allocate memory"
     ]
    }
   ],
   "source": [
    "!cat ../mr_IN.dic | grep 'बसणे'"
   ]
  },
  {
   "cell_type": "code",
   "execution_count": null,
   "metadata": {},
   "outputs": [],
   "source": []
  },
  {
   "cell_type": "code",
   "execution_count": 37,
   "metadata": {},
   "outputs": [
    {
     "ename": "OSError",
     "evalue": "[Errno 12] Cannot allocate memory",
     "output_type": "error",
     "traceback": [
      "\u001b[0;31m---------------------------------------------------------------------------\u001b[0m",
      "\u001b[0;31mOSError\u001b[0m                                   Traceback (most recent call last)",
      "\u001b[0;32m<ipython-input-37-a6fa3287c2b9>\u001b[0m in \u001b[0;36m<module>\u001b[0;34m\u001b[0m\n\u001b[0;32m----> 1\u001b[0;31m \u001b[0mget_ipython\u001b[0m\u001b[0;34m(\u001b[0m\u001b[0;34m)\u001b[0m\u001b[0;34m.\u001b[0m\u001b[0msystem\u001b[0m\u001b[0;34m(\u001b[0m\u001b[0;34m'cat mr_IN.aff | egrep -B2 \"F|N|O|P|Q|R|S\"'\u001b[0m\u001b[0;34m)\u001b[0m\u001b[0;34m\u001b[0m\u001b[0;34m\u001b[0m\u001b[0m\n\u001b[0m",
      "\u001b[0;32m/opt/conda/lib/python3.7/site-packages/IPython/core/interactiveshell.py\u001b[0m in \u001b[0;36msystem_piped\u001b[0;34m(self, cmd)\u001b[0m\n\u001b[1;32m   2451\u001b[0m         \u001b[0;31m# a non-None value would trigger :func:`sys.displayhook` calls.\u001b[0m\u001b[0;34m\u001b[0m\u001b[0;34m\u001b[0m\u001b[0;34m\u001b[0m\u001b[0m\n\u001b[1;32m   2452\u001b[0m         \u001b[0;31m# Instead, we store the exit_code in user_ns.\u001b[0m\u001b[0;34m\u001b[0m\u001b[0;34m\u001b[0m\u001b[0;34m\u001b[0m\u001b[0m\n\u001b[0;32m-> 2453\u001b[0;31m         \u001b[0mself\u001b[0m\u001b[0;34m.\u001b[0m\u001b[0muser_ns\u001b[0m\u001b[0;34m[\u001b[0m\u001b[0;34m'_exit_code'\u001b[0m\u001b[0;34m]\u001b[0m \u001b[0;34m=\u001b[0m \u001b[0msystem\u001b[0m\u001b[0;34m(\u001b[0m\u001b[0mself\u001b[0m\u001b[0;34m.\u001b[0m\u001b[0mvar_expand\u001b[0m\u001b[0;34m(\u001b[0m\u001b[0mcmd\u001b[0m\u001b[0;34m,\u001b[0m \u001b[0mdepth\u001b[0m\u001b[0;34m=\u001b[0m\u001b[0;36m1\u001b[0m\u001b[0;34m)\u001b[0m\u001b[0;34m)\u001b[0m\u001b[0;34m\u001b[0m\u001b[0;34m\u001b[0m\u001b[0m\n\u001b[0m\u001b[1;32m   2454\u001b[0m \u001b[0;34m\u001b[0m\u001b[0m\n\u001b[1;32m   2455\u001b[0m     \u001b[0;32mdef\u001b[0m \u001b[0msystem_raw\u001b[0m\u001b[0;34m(\u001b[0m\u001b[0mself\u001b[0m\u001b[0;34m,\u001b[0m \u001b[0mcmd\u001b[0m\u001b[0;34m)\u001b[0m\u001b[0;34m:\u001b[0m\u001b[0;34m\u001b[0m\u001b[0;34m\u001b[0m\u001b[0m\n",
      "\u001b[0;32m/opt/conda/lib/python3.7/site-packages/IPython/utils/_process_posix.py\u001b[0m in \u001b[0;36msystem\u001b[0;34m(self, cmd)\u001b[0m\n\u001b[1;32m    154\u001b[0m                 \u001b[0mchild\u001b[0m \u001b[0;34m=\u001b[0m \u001b[0mpexpect\u001b[0m\u001b[0;34m.\u001b[0m\u001b[0mspawnb\u001b[0m\u001b[0;34m(\u001b[0m\u001b[0mself\u001b[0m\u001b[0;34m.\u001b[0m\u001b[0msh\u001b[0m\u001b[0;34m,\u001b[0m \u001b[0margs\u001b[0m\u001b[0;34m=\u001b[0m\u001b[0;34m[\u001b[0m\u001b[0;34m'-c'\u001b[0m\u001b[0;34m,\u001b[0m \u001b[0mcmd\u001b[0m\u001b[0;34m]\u001b[0m\u001b[0;34m)\u001b[0m \u001b[0;31m# Pexpect-U\u001b[0m\u001b[0;34m\u001b[0m\u001b[0;34m\u001b[0m\u001b[0m\n\u001b[1;32m    155\u001b[0m             \u001b[0;32melse\u001b[0m\u001b[0;34m:\u001b[0m\u001b[0;34m\u001b[0m\u001b[0;34m\u001b[0m\u001b[0m\n\u001b[0;32m--> 156\u001b[0;31m                 \u001b[0mchild\u001b[0m \u001b[0;34m=\u001b[0m \u001b[0mpexpect\u001b[0m\u001b[0;34m.\u001b[0m\u001b[0mspawn\u001b[0m\u001b[0;34m(\u001b[0m\u001b[0mself\u001b[0m\u001b[0;34m.\u001b[0m\u001b[0msh\u001b[0m\u001b[0;34m,\u001b[0m \u001b[0margs\u001b[0m\u001b[0;34m=\u001b[0m\u001b[0;34m[\u001b[0m\u001b[0;34m'-c'\u001b[0m\u001b[0;34m,\u001b[0m \u001b[0mcmd\u001b[0m\u001b[0;34m]\u001b[0m\u001b[0;34m)\u001b[0m  \u001b[0;31m# Vanilla Pexpect\u001b[0m\u001b[0;34m\u001b[0m\u001b[0;34m\u001b[0m\u001b[0m\n\u001b[0m\u001b[1;32m    157\u001b[0m             \u001b[0mflush\u001b[0m \u001b[0;34m=\u001b[0m \u001b[0msys\u001b[0m\u001b[0;34m.\u001b[0m\u001b[0mstdout\u001b[0m\u001b[0;34m.\u001b[0m\u001b[0mflush\u001b[0m\u001b[0;34m\u001b[0m\u001b[0;34m\u001b[0m\u001b[0m\n\u001b[1;32m    158\u001b[0m             \u001b[0;32mwhile\u001b[0m \u001b[0;32mTrue\u001b[0m\u001b[0;34m:\u001b[0m\u001b[0;34m\u001b[0m\u001b[0;34m\u001b[0m\u001b[0m\n",
      "\u001b[0;32m/opt/conda/lib/python3.7/site-packages/pexpect/pty_spawn.py\u001b[0m in \u001b[0;36m__init__\u001b[0;34m(self, command, args, timeout, maxread, searchwindowsize, logfile, cwd, env, ignore_sighup, echo, preexec_fn, encoding, codec_errors, dimensions, use_poll)\u001b[0m\n\u001b[1;32m    202\u001b[0m             \u001b[0mself\u001b[0m\u001b[0;34m.\u001b[0m\u001b[0mname\u001b[0m \u001b[0;34m=\u001b[0m \u001b[0;34m'<pexpect factory incomplete>'\u001b[0m\u001b[0;34m\u001b[0m\u001b[0;34m\u001b[0m\u001b[0m\n\u001b[1;32m    203\u001b[0m         \u001b[0;32melse\u001b[0m\u001b[0;34m:\u001b[0m\u001b[0;34m\u001b[0m\u001b[0;34m\u001b[0m\u001b[0m\n\u001b[0;32m--> 204\u001b[0;31m             \u001b[0mself\u001b[0m\u001b[0;34m.\u001b[0m\u001b[0m_spawn\u001b[0m\u001b[0;34m(\u001b[0m\u001b[0mcommand\u001b[0m\u001b[0;34m,\u001b[0m \u001b[0margs\u001b[0m\u001b[0;34m,\u001b[0m \u001b[0mpreexec_fn\u001b[0m\u001b[0;34m,\u001b[0m \u001b[0mdimensions\u001b[0m\u001b[0;34m)\u001b[0m\u001b[0;34m\u001b[0m\u001b[0;34m\u001b[0m\u001b[0m\n\u001b[0m\u001b[1;32m    205\u001b[0m         \u001b[0mself\u001b[0m\u001b[0;34m.\u001b[0m\u001b[0muse_poll\u001b[0m \u001b[0;34m=\u001b[0m \u001b[0muse_poll\u001b[0m\u001b[0;34m\u001b[0m\u001b[0;34m\u001b[0m\u001b[0m\n\u001b[1;32m    206\u001b[0m \u001b[0;34m\u001b[0m\u001b[0m\n",
      "\u001b[0;32m/opt/conda/lib/python3.7/site-packages/pexpect/pty_spawn.py\u001b[0m in \u001b[0;36m_spawn\u001b[0;34m(self, command, args, preexec_fn, dimensions)\u001b[0m\n\u001b[1;32m    301\u001b[0m \u001b[0;34m\u001b[0m\u001b[0m\n\u001b[1;32m    302\u001b[0m         self.ptyproc = self._spawnpty(self.args, env=self.env,\n\u001b[0;32m--> 303\u001b[0;31m                                      cwd=self.cwd, **kwargs)\n\u001b[0m\u001b[1;32m    304\u001b[0m \u001b[0;34m\u001b[0m\u001b[0m\n\u001b[1;32m    305\u001b[0m         \u001b[0mself\u001b[0m\u001b[0;34m.\u001b[0m\u001b[0mpid\u001b[0m \u001b[0;34m=\u001b[0m \u001b[0mself\u001b[0m\u001b[0;34m.\u001b[0m\u001b[0mptyproc\u001b[0m\u001b[0;34m.\u001b[0m\u001b[0mpid\u001b[0m\u001b[0;34m\u001b[0m\u001b[0;34m\u001b[0m\u001b[0m\n",
      "\u001b[0;32m/opt/conda/lib/python3.7/site-packages/pexpect/pty_spawn.py\u001b[0m in \u001b[0;36m_spawnpty\u001b[0;34m(self, args, **kwargs)\u001b[0m\n\u001b[1;32m    312\u001b[0m     \u001b[0;32mdef\u001b[0m \u001b[0m_spawnpty\u001b[0m\u001b[0;34m(\u001b[0m\u001b[0mself\u001b[0m\u001b[0;34m,\u001b[0m \u001b[0margs\u001b[0m\u001b[0;34m,\u001b[0m \u001b[0;34m**\u001b[0m\u001b[0mkwargs\u001b[0m\u001b[0;34m)\u001b[0m\u001b[0;34m:\u001b[0m\u001b[0;34m\u001b[0m\u001b[0;34m\u001b[0m\u001b[0m\n\u001b[1;32m    313\u001b[0m         \u001b[0;34m'''Spawn a pty and return an instance of PtyProcess.'''\u001b[0m\u001b[0;34m\u001b[0m\u001b[0;34m\u001b[0m\u001b[0m\n\u001b[0;32m--> 314\u001b[0;31m         \u001b[0;32mreturn\u001b[0m \u001b[0mptyprocess\u001b[0m\u001b[0;34m.\u001b[0m\u001b[0mPtyProcess\u001b[0m\u001b[0;34m.\u001b[0m\u001b[0mspawn\u001b[0m\u001b[0;34m(\u001b[0m\u001b[0margs\u001b[0m\u001b[0;34m,\u001b[0m \u001b[0;34m**\u001b[0m\u001b[0mkwargs\u001b[0m\u001b[0;34m)\u001b[0m\u001b[0;34m\u001b[0m\u001b[0;34m\u001b[0m\u001b[0m\n\u001b[0m\u001b[1;32m    315\u001b[0m \u001b[0;34m\u001b[0m\u001b[0m\n\u001b[1;32m    316\u001b[0m     \u001b[0;32mdef\u001b[0m \u001b[0mclose\u001b[0m\u001b[0;34m(\u001b[0m\u001b[0mself\u001b[0m\u001b[0;34m,\u001b[0m \u001b[0mforce\u001b[0m\u001b[0;34m=\u001b[0m\u001b[0;32mTrue\u001b[0m\u001b[0;34m)\u001b[0m\u001b[0;34m:\u001b[0m\u001b[0;34m\u001b[0m\u001b[0;34m\u001b[0m\u001b[0m\n",
      "\u001b[0;32m/opt/conda/lib/python3.7/site-packages/ptyprocess/ptyprocess.py\u001b[0m in \u001b[0;36mspawn\u001b[0;34m(cls, argv, cwd, env, echo, preexec_fn, dimensions)\u001b[0m\n\u001b[1;32m    224\u001b[0m \u001b[0;34m\u001b[0m\u001b[0m\n\u001b[1;32m    225\u001b[0m         \u001b[0;32mif\u001b[0m \u001b[0muse_native_pty_fork\u001b[0m\u001b[0;34m:\u001b[0m\u001b[0;34m\u001b[0m\u001b[0;34m\u001b[0m\u001b[0m\n\u001b[0;32m--> 226\u001b[0;31m             \u001b[0mpid\u001b[0m\u001b[0;34m,\u001b[0m \u001b[0mfd\u001b[0m \u001b[0;34m=\u001b[0m \u001b[0mpty\u001b[0m\u001b[0;34m.\u001b[0m\u001b[0mfork\u001b[0m\u001b[0;34m(\u001b[0m\u001b[0;34m)\u001b[0m\u001b[0;34m\u001b[0m\u001b[0;34m\u001b[0m\u001b[0m\n\u001b[0m\u001b[1;32m    227\u001b[0m         \u001b[0;32melse\u001b[0m\u001b[0;34m:\u001b[0m\u001b[0;34m\u001b[0m\u001b[0;34m\u001b[0m\u001b[0m\n\u001b[1;32m    228\u001b[0m             \u001b[0;31m# Use internal fork_pty, for Solaris\u001b[0m\u001b[0;34m\u001b[0m\u001b[0;34m\u001b[0m\u001b[0;34m\u001b[0m\u001b[0m\n",
      "\u001b[0;32m/opt/conda/lib/python3.7/pty.py\u001b[0m in \u001b[0;36mfork\u001b[0;34m()\u001b[0m\n\u001b[1;32m     95\u001b[0m \u001b[0;34m\u001b[0m\u001b[0m\n\u001b[1;32m     96\u001b[0m     \u001b[0mmaster_fd\u001b[0m\u001b[0;34m,\u001b[0m \u001b[0mslave_fd\u001b[0m \u001b[0;34m=\u001b[0m \u001b[0mopenpty\u001b[0m\u001b[0;34m(\u001b[0m\u001b[0;34m)\u001b[0m\u001b[0;34m\u001b[0m\u001b[0;34m\u001b[0m\u001b[0m\n\u001b[0;32m---> 97\u001b[0;31m     \u001b[0mpid\u001b[0m \u001b[0;34m=\u001b[0m \u001b[0mos\u001b[0m\u001b[0;34m.\u001b[0m\u001b[0mfork\u001b[0m\u001b[0;34m(\u001b[0m\u001b[0;34m)\u001b[0m\u001b[0;34m\u001b[0m\u001b[0;34m\u001b[0m\u001b[0m\n\u001b[0m\u001b[1;32m     98\u001b[0m     \u001b[0;32mif\u001b[0m \u001b[0mpid\u001b[0m \u001b[0;34m==\u001b[0m \u001b[0mCHILD\u001b[0m\u001b[0;34m:\u001b[0m\u001b[0;34m\u001b[0m\u001b[0;34m\u001b[0m\u001b[0m\n\u001b[1;32m     99\u001b[0m         \u001b[0;31m# Establish a new session.\u001b[0m\u001b[0;34m\u001b[0m\u001b[0;34m\u001b[0m\u001b[0;34m\u001b[0m\u001b[0m\n",
      "\u001b[0;31mOSError\u001b[0m: [Errno 12] Cannot allocate memory"
     ]
    }
   ],
   "source": [
    "!cat mr_IN.aff | egrep -B2 \"F|N|O|P|Q|R|S\""
   ]
  },
  {
   "cell_type": "code",
   "execution_count": 14,
   "metadata": {},
   "outputs": [
    {
     "name": "stdout",
     "output_type": "stream",
     "text": [
      "total 5.6M\n",
      "-rw-r--r-- 1 root root 1.9K Jan 31 13:42 to_study1.txt\n",
      "-rw-r--r-- 1 root root 282K Jan 31 13:42 include_idagama.ipynb\n",
      "-rw-r--r-- 1 root root  15K Jan 31 09:36 mr_IN.aff\n",
      "-rw-r--r-- 1 root root 5.3M Jan 29 13:24 mr_IN.dic\n",
      "-rw-r--r-- 1 root root 3.6K Dec 29 09:15 hyph_mr_IN.dic\n"
     ]
    }
   ],
   "source": [
    "!ls -lht"
   ]
  },
  {
   "cell_type": "code",
   "execution_count": 16,
   "metadata": {},
   "outputs": [
    {
     "ename": "FileNotFoundError",
     "evalue": "[Errno 2] No such file or directory: 'basane_all.txt'",
     "output_type": "error",
     "traceback": [
      "\u001b[0;31m---------------------------------------------------------------------------\u001b[0m",
      "\u001b[0;31mFileNotFoundError\u001b[0m                         Traceback (most recent call last)",
      "\u001b[0;32m<ipython-input-16-b265235c79a0>\u001b[0m in \u001b[0;36m<module>\u001b[0;34m\u001b[0m\n\u001b[1;32m      3\u001b[0m \u001b[0mmydict\u001b[0m \u001b[0;34m=\u001b[0m \u001b[0mdict\u001b[0m\u001b[0;34m(\u001b[0m\u001b[0;34m)\u001b[0m\u001b[0;34m\u001b[0m\u001b[0;34m\u001b[0m\u001b[0m\n\u001b[1;32m      4\u001b[0m \u001b[0;34m\u001b[0m\u001b[0m\n\u001b[0;32m----> 5\u001b[0;31m \u001b[0;32mfor\u001b[0m \u001b[0mi\u001b[0m \u001b[0;32min\u001b[0m \u001b[0mopen\u001b[0m\u001b[0;34m(\u001b[0m\u001b[0;34m\"basane_all.txt\"\u001b[0m\u001b[0;34m)\u001b[0m\u001b[0;34m:\u001b[0m\u001b[0;34m\u001b[0m\u001b[0;34m\u001b[0m\u001b[0m\n\u001b[0m\u001b[1;32m      6\u001b[0m     \u001b[0mtime\u001b[0m\u001b[0;34m.\u001b[0m\u001b[0msleep\u001b[0m\u001b[0;34m(\u001b[0m\u001b[0;36m1\u001b[0m\u001b[0;34m)\u001b[0m\u001b[0;34m\u001b[0m\u001b[0;34m\u001b[0m\u001b[0m\n\u001b[1;32m      7\u001b[0m     \u001b[0mmystring\u001b[0m \u001b[0;34m=\u001b[0m \u001b[0mi\u001b[0m\u001b[0;34m.\u001b[0m\u001b[0mstrip\u001b[0m\u001b[0;34m(\u001b[0m\u001b[0;34m\"\\n\"\u001b[0m\u001b[0;34m)\u001b[0m\u001b[0;34m\u001b[0m\u001b[0;34m\u001b[0m\u001b[0m\n",
      "\u001b[0;31mFileNotFoundError\u001b[0m: [Errno 2] No such file or directory: 'basane_all.txt'"
     ]
    }
   ],
   "source": [
    "import time\n",
    "\n",
    "mydict = dict()\n",
    "\n",
    "for i in open(\"basane_all.txt\"):\n",
    "    time.sleep(1)\n",
    "    mystring = i.strip(\"\\n\")\n",
    "    print(mystring)\n",
    "    x = ! lynx -dump google.com/search?q=\"$mystring\"\n",
    "    if \"did not match any documents\" in \" \".join(x):\n",
    "        mydict[i] = 0\n",
    "    if \"No results found for\" in \" \".join(x):\n",
    "        mydict[i] = 0"
   ]
  },
  {
   "cell_type": "code",
   "execution_count": null,
   "metadata": {},
   "outputs": [],
   "source": []
  },
  {
   "cell_type": "code",
   "execution_count": null,
   "metadata": {},
   "outputs": [],
   "source": []
  },
  {
   "cell_type": "code",
   "execution_count": null,
   "metadata": {},
   "outputs": [],
   "source": [
    "mylist = list()\n",
    "for i in mydict.keys():\n",
    "    mylist.append(i.strip(\"\\n\"))"
   ]
  },
  {
   "cell_type": "code",
   "execution_count": null,
   "metadata": {},
   "outputs": [],
   "source": [
    "len(mylist)"
   ]
  },
  {
   "cell_type": "code",
   "execution_count": 17,
   "metadata": {},
   "outputs": [
    {
     "data": {
      "text/plain": [
       "0"
      ]
     },
     "execution_count": 17,
     "metadata": {},
     "output_type": "execute_result"
    }
   ],
   "source": [
    "len(mydict)"
   ]
  },
  {
   "cell_type": "code",
   "execution_count": null,
   "metadata": {},
   "outputs": [],
   "source": []
  },
  {
   "cell_type": "code",
   "execution_count": 18,
   "metadata": {},
   "outputs": [
    {
     "ename": "TypeError",
     "evalue": "sequence item 0: expected str instance, list found",
     "output_type": "error",
     "traceback": [
      "\u001b[0;31m---------------------------------------------------------------------------\u001b[0m",
      "\u001b[0;31mTypeError\u001b[0m                                 Traceback (most recent call last)",
      "\u001b[0;32m<ipython-input-18-8e8d9b144183>\u001b[0m in \u001b[0;36m<module>\u001b[0;34m\u001b[0m\n\u001b[0;32m----> 1\u001b[0;31m \u001b[0;34m\", \"\u001b[0m\u001b[0;34m.\u001b[0m\u001b[0mjoin\u001b[0m\u001b[0;34m(\u001b[0m\u001b[0mmylist\u001b[0m\u001b[0;34m)\u001b[0m\u001b[0;34m\u001b[0m\u001b[0;34m\u001b[0m\u001b[0m\n\u001b[0m",
      "\u001b[0;31mTypeError\u001b[0m: sequence item 0: expected str instance, list found"
     ]
    }
   ],
   "source": [
    "\", \".join(mylist)"
   ]
  },
  {
   "cell_type": "code",
   "execution_count": 19,
   "metadata": {},
   "outputs": [
    {
     "data": {
      "text/plain": [
       "0"
      ]
     },
     "execution_count": 19,
     "metadata": {},
     "output_type": "execute_result"
    }
   ],
   "source": [
    "len(mydict)"
   ]
  }
 ],
 "metadata": {
  "kernelspec": {
   "display_name": "Python 3",
   "language": "python",
   "name": "python3"
  },
  "language_info": {
   "codemirror_mode": {
    "name": "ipython",
    "version": 3
   },
   "file_extension": ".py",
   "mimetype": "text/x-python",
   "name": "python",
   "nbconvert_exporter": "python",
   "pygments_lexer": "ipython3",
   "version": "3.7.3"
  }
 },
 "nbformat": 4,
 "nbformat_minor": 2
}
