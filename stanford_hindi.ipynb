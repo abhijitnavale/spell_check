{
 "cells": [
  {
   "cell_type": "code",
   "execution_count": 1,
   "metadata": {},
   "outputs": [],
   "source": [
    "#!pip install stanfordnlp"
   ]
  },
  {
   "cell_type": "code",
   "execution_count": 3,
   "metadata": {},
   "outputs": [
    {
     "name": "stdout",
     "output_type": "stream",
     "text": [
      "Using the default treebank \"en_ewt\" for language \"en\".\n",
      "Would you like to download the models for: en_ewt now? (Y/n)\n",
      "n\n",
      "Use device: cpu\n",
      "---\n",
      "Loading: tokenize\n",
      "With settings: \n",
      "{'model_path': '/root/stanfordnlp_resources/en_ewt_models/en_ewt_tokenizer.pt', 'lang': 'en', 'shorthand': 'en_ewt', 'mode': 'predict'}\n",
      "Cannot load model from /root/stanfordnlp_resources/en_ewt_models/en_ewt_tokenizer.pt\n"
     ]
    },
    {
     "ename": "SystemExit",
     "evalue": "1",
     "output_type": "error",
     "traceback": [
      "An exception has occurred, use %tb to see the full traceback.\n",
      "\u001b[0;31mSystemExit\u001b[0m\u001b[0;31m:\u001b[0m 1\n"
     ]
    }
   ],
   "source": [
    ">>> import stanfordnlp\n",
    ">>> stanfordnlp.download('en')   # This downloads the English models for the neural pipeline\n",
    ">>> nlp = stanfordnlp.Pipeline() # This sets up a default neural pipeline in English\n",
    ">>> doc = nlp(\"Barack Obama was born in Hawaii.  He was elected president in 2008.\")\n",
    ">>> doc.sentences[0].print_dependencies()"
   ]
  },
  {
   "cell_type": "code",
   "execution_count": 4,
   "metadata": {},
   "outputs": [],
   "source": [
    "import sys\n",
    "import os\n",
    "\n",
    "import stanfordnlp\n",
    "from stanfordnlp.utils.resources import DEFAULT_MODEL_DIR"
   ]
  },
  {
   "cell_type": "code",
   "execution_count": 5,
   "metadata": {},
   "outputs": [],
   "source": [
    "example_sentences = {\"en\": \"भारत ने शुक्रवार को पाकिस्तान के उप उच्चायुक्त को तलब किया और करतारपुर गलियारे पर पाकिस्तान की नियुक्त समिति में कई खालिस्तानी अलगाववादियों की मौजूदगी पर चिंता जताई.\",\n",
    "        \"zh\": \"達沃斯世界經濟論壇是每年全球政商界領袖聚在一起的年度盛事。\",\n",
    "        \"fr\": \"Van Gogh grandit au sein d'une famille de l'ancienne bourgeoisie. Il tente d'abord de faire carrière comme marchand d'art chez Goupil & C.\",\n",
    "        \"vi\": \"Trận Trân Châu Cảng (hay Chiến dịch Hawaii theo cách gọi của Bộ Tổng tư lệnh Đế quốc Nhật Bản) là một đòn tấn công quân sự bất ngờ được Hải quân Nhật Bản thực hiện nhằm vào căn cứ hải quân của Hoa Kỳ tại Trân Châu Cảng thuộc tiểu bang Hawaii vào sáng Chủ Nhật, ngày 7 tháng 12 năm 1941, dẫn đến việc Hoa Kỳ sau đó quyết định tham gia vào hoạt động quân sự trong Chiến tranh thế giới thứ hai.\"}"
   ]
  },
  {
   "cell_type": "code",
   "execution_count": 6,
   "metadata": {},
   "outputs": [
    {
     "name": "stdout",
     "output_type": "stream",
     "text": [
      "Using the default treebank \"hi_hdtb\" for language \"hi\".\n",
      "Would you like to download the models for: hi_hdtb now? (Y/n)\n",
      "n\n"
     ]
    }
   ],
   "source": [
    "stanfordnlp.download('hi')"
   ]
  },
  {
   "cell_type": "code",
   "execution_count": 7,
   "metadata": {},
   "outputs": [
    {
     "name": "stdout",
     "output_type": "stream",
     "text": [
      "Use device: cpu\n",
      "---\n",
      "Loading: tokenize\n",
      "With settings: \n",
      "{'model_path': '/root/stanfordnlp_resources/hi_hdtb_models/hi_hdtb_tokenizer.pt', 'lang': 'hi', 'shorthand': 'hi_hdtb', 'mode': 'predict'}\n",
      "---\n",
      "Loading: pos\n",
      "With settings: \n",
      "{'model_path': '/root/stanfordnlp_resources/hi_hdtb_models/hi_hdtb_tagger.pt', 'pretrain_path': '/root/stanfordnlp_resources/hi_hdtb_models/hi_hdtb.pretrain.pt', 'lang': 'hi', 'shorthand': 'hi_hdtb', 'mode': 'predict'}\n",
      "---\n",
      "Loading: lemma\n",
      "With settings: \n",
      "{'model_path': '/root/stanfordnlp_resources/hi_hdtb_models/hi_hdtb_lemmatizer.pt', 'lang': 'hi', 'shorthand': 'hi_hdtb', 'mode': 'predict'}\n",
      "Building an attentional Seq2Seq model...\n",
      "Using a Bi-LSTM encoder\n",
      "Using soft attention for LSTM.\n",
      "Finetune all embeddings.\n",
      "[Running seq2seq lemmatizer with edit classifier]\n",
      "---\n",
      "Loading: depparse\n",
      "With settings: \n",
      "{'model_path': '/root/stanfordnlp_resources/hi_hdtb_models/hi_hdtb_parser.pt', 'pretrain_path': '/root/stanfordnlp_resources/hi_hdtb_models/hi_hdtb.pretrain.pt', 'lang': 'hi', 'shorthand': 'hi_hdtb', 'mode': 'predict'}\n",
      "Done loading processors!\n",
      "---\n"
     ]
    }
   ],
   "source": [
    "pipeline = stanfordnlp.Pipeline( lang='hi')\n",
    "doc = pipeline(example_sentences['en'])"
   ]
  },
  {
   "cell_type": "code",
   "execution_count": 8,
   "metadata": {},
   "outputs": [
    {
     "name": "stdout",
     "output_type": "stream",
     "text": [
      "Input: भारत ने शुक्रवार को पाकिस्तान के उप उच्चायुक्त को तलब किया और करतारपुर गलियारे पर पाकिस्तान की नियुक्त समिति में कई खालिस्तानी अलगाववादियों की मौजूदगी पर चिंता जताई.\n",
      "The tokenizer split the input into 1 sentences.\n"
     ]
    }
   ],
   "source": [
    "print('Input: {}'.format(example_sentences['en']))\n",
    "print(\"The tokenizer split the input into {} sentences.\".format(len(doc.sentences)))"
   ]
  },
  {
   "cell_type": "code",
   "execution_count": 9,
   "metadata": {},
   "outputs": [
    {
     "name": "stdout",
     "output_type": "stream",
     "text": [
      "<Token index=1;words=[<Word index=1;text=भारत;lemma=भारत;upos=PROPN;xpos=NNP;feats=Case=Acc|Gender=Masc|Number=Sing|Person=3;governor=11;dependency_relation=nsubj>]>\n",
      "<Token index=2;words=[<Word index=2;text=ने;lemma=ने;upos=ADP;xpos=PSP;feats=AdpType=Post;governor=1;dependency_relation=case>]>\n",
      "<Token index=3;words=[<Word index=3;text=शुक्रवार;lemma=शुक्रवार;upos=PROPN;xpos=NNP;feats=Case=Acc|Gender=Masc|Number=Sing|Person=3;governor=11;dependency_relation=obl>]>\n",
      "<Token index=4;words=[<Word index=4;text=को;lemma=को;upos=ADP;xpos=PSP;feats=AdpType=Post;governor=3;dependency_relation=case>]>\n",
      "<Token index=5;words=[<Word index=5;text=पाकिस्तान;lemma=पाकिस्तान;upos=PROPN;xpos=NNP;feats=Case=Acc|Gender=Masc|Number=Sing|Person=3;governor=8;dependency_relation=nmod>]>\n",
      "<Token index=6;words=[<Word index=6;text=के;lemma=का;upos=ADP;xpos=PSP;feats=AdpType=Post|Case=Acc|Gender=Masc|Number=Sing;governor=5;dependency_relation=case>]>\n",
      "<Token index=7;words=[<Word index=7;text=उप;lemma=उप;upos=NOUN;xpos=NNC;feats=Case=Acc;governor=8;dependency_relation=compound>]>\n",
      "<Token index=8;words=[<Word index=8;text=उच्चायुक्त;lemma=उच्चायुक्त;upos=NOUN;xpos=NN;feats=Case=Acc|Gender=Masc|Number=Sing|Person=3;governor=11;dependency_relation=obj>]>\n",
      "<Token index=9;words=[<Word index=9;text=को;lemma=को;upos=ADP;xpos=PSP;feats=AdpType=Post;governor=8;dependency_relation=case>]>\n",
      "<Token index=10;words=[<Word index=10;text=तलब;lemma=तलब;upos=NOUN;xpos=NN;feats=Case=Nom|Gender=Fem|Number=Sing|Person=3;governor=11;dependency_relation=compound>]>\n",
      "<Token index=11;words=[<Word index=11;text=किया;lemma=कर;upos=VERB;xpos=VM;feats=Aspect=Perf|Gender=Masc|Number=Sing|VerbForm=Part|Voice=Act;governor=0;dependency_relation=root>]>\n",
      "<Token index=12;words=[<Word index=12;text=और;lemma=और;upos=CCONJ;xpos=CC;feats=_;governor=28;dependency_relation=cc>]>\n",
      "<Token index=13;words=[<Word index=13;text=करतारपुर;lemma=करतारपुर;upos=PROPN;xpos=NNP;feats=Case=Nom|Gender=Masc|Number=Sing|Person=3;governor=14;dependency_relation=nmod>]>\n",
      "<Token index=14;words=[<Word index=14;text=गलियारे;lemma=गलियारा;upos=NOUN;xpos=NN;feats=Case=Acc|Gender=Masc|Number=Sing|Person=3;governor=28;dependency_relation=obl>]>\n",
      "<Token index=15;words=[<Word index=15;text=पर;lemma=पर;upos=ADP;xpos=PSP;feats=AdpType=Post;governor=14;dependency_relation=case>]>\n",
      "<Token index=16;words=[<Word index=16;text=पाकिस्तान;lemma=पाकिस्तान;upos=PROPN;xpos=NNP;feats=Case=Acc|Gender=Masc|Number=Sing|Person=3;governor=19;dependency_relation=nmod>]>\n",
      "<Token index=17;words=[<Word index=17;text=की;lemma=का;upos=ADP;xpos=PSP;feats=AdpType=Post|Case=Acc|Gender=Fem|Number=Sing;governor=16;dependency_relation=case>]>\n",
      "<Token index=18;words=[<Word index=18;text=नियुक्त;lemma=नियुक्त;upos=ADJ;xpos=JJ;feats=Case=Acc;governor=19;dependency_relation=amod>]>\n",
      "<Token index=19;words=[<Word index=19;text=समिति;lemma=समिति;upos=NOUN;xpos=NN;feats=Case=Acc|Gender=Fem|Number=Sing|Person=3;governor=28;dependency_relation=obl>]>\n",
      "<Token index=20;words=[<Word index=20;text=में;lemma=में;upos=ADP;xpos=PSP;feats=AdpType=Post;governor=19;dependency_relation=case>]>\n",
      "<Token index=21;words=[<Word index=21;text=कई;lemma=कई;upos=DET;xpos=QF;feats=PronType=Ind;governor=23;dependency_relation=det>]>\n",
      "<Token index=22;words=[<Word index=22;text=खालिस्तानी;lemma=खालिस्तानी;upos=ADJ;xpos=JJ;feats=Case=Acc;governor=23;dependency_relation=amod>]>\n",
      "<Token index=23;words=[<Word index=23;text=अलगाववादियों;lemma=अलगाववादी;upos=NOUN;xpos=NN;feats=Case=Acc|Gender=Masc|Number=Plur|Person=3;governor=25;dependency_relation=nmod>]>\n",
      "<Token index=24;words=[<Word index=24;text=की;lemma=का;upos=ADP;xpos=PSP;feats=AdpType=Post|Case=Acc|Gender=Fem|Number=Sing;governor=23;dependency_relation=case>]>\n",
      "<Token index=25;words=[<Word index=25;text=मौजूदगी;lemma=मौजूदगी;upos=NOUN;xpos=NN;feats=Case=Acc|Gender=Fem|Number=Sing|Person=3;governor=28;dependency_relation=obl>]>\n",
      "<Token index=26;words=[<Word index=26;text=पर;lemma=पर;upos=ADP;xpos=PSP;feats=AdpType=Post;governor=25;dependency_relation=case>]>\n",
      "<Token index=27;words=[<Word index=27;text=चिंता;lemma=चिंता;upos=NOUN;xpos=NN;feats=Case=Nom|Gender=Fem|Number=Sing|Person=3;governor=28;dependency_relation=compound>]>\n",
      "<Token index=28;words=[<Word index=28;text=जताई;lemma=जता;upos=VERB;xpos=VM;feats=Aspect=Perf|Gender=Fem|Number=Sing|VerbForm=Part|Voice=Act;governor=11;dependency_relation=conj>]>\n",
      "<Token index=29;words=[<Word index=29;text=.;lemma=.;upos=PUNCT;xpos=SYM;feats=_;governor=11;dependency_relation=punct>]>\n",
      "('भारत', '11', 'nsubj')\n",
      "('ने', '1', 'case')\n",
      "('शुक्रवार', '11', 'obl')\n",
      "('को', '3', 'case')\n",
      "('पाकिस्तान', '8', 'nmod')\n",
      "('के', '5', 'case')\n",
      "('उप', '8', 'compound')\n",
      "('उच्चायुक्त', '11', 'obj')\n",
      "('को', '8', 'case')\n",
      "('तलब', '11', 'compound')\n",
      "('किया', '0', 'root')\n",
      "('और', '28', 'cc')\n",
      "('करतारपुर', '14', 'nmod')\n",
      "('गलियारे', '28', 'obl')\n",
      "('पर', '14', 'case')\n",
      "('पाकिस्तान', '19', 'nmod')\n",
      "('की', '16', 'case')\n",
      "('नियुक्त', '19', 'amod')\n",
      "('समिति', '28', 'obl')\n",
      "('में', '19', 'case')\n",
      "('कई', '23', 'det')\n",
      "('खालिस्तानी', '23', 'amod')\n",
      "('अलगाववादियों', '25', 'nmod')\n",
      "('की', '23', 'case')\n",
      "('मौजूदगी', '28', 'obl')\n",
      "('पर', '25', 'case')\n",
      "('चिंता', '28', 'compound')\n",
      "('जताई', '11', 'conj')\n",
      "('.', '11', 'punct')\n"
     ]
    }
   ],
   "source": [
    "doc.sentences[0].print_tokens()\n",
    "doc.sentences[0].print_dependencies()"
   ]
  }
 ],
 "metadata": {
  "kernelspec": {
   "display_name": "Python 3",
   "language": "python",
   "name": "python3"
  },
  "language_info": {
   "codemirror_mode": {
    "name": "ipython",
    "version": 3
   },
   "file_extension": ".py",
   "mimetype": "text/x-python",
   "name": "python",
   "nbconvert_exporter": "python",
   "pygments_lexer": "ipython3",
   "version": "3.7.1"
  }
 },
 "nbformat": 4,
 "nbformat_minor": 2
}
