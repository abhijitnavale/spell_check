{
 "cells": [
  {
   "cell_type": "code",
   "execution_count": 1,
   "metadata": {},
   "outputs": [],
   "source": [
    "#!pip install fasttext"
   ]
  },
  {
   "cell_type": "code",
   "execution_count": 2,
   "metadata": {},
   "outputs": [],
   "source": [
    "#!git clone https://github.com/mkonicek/nlp.git\n",
    "#!cd nlp"
   ]
  },
  {
   "cell_type": "code",
   "execution_count": 3,
   "metadata": {},
   "outputs": [],
   "source": [
    "# disable this line in load.py file #words = remove_stop_words(words) \n",
    "# to get 'तिच्या', 'तिला' , 'माझ्या',"
   ]
  },
  {
   "cell_type": "code",
   "execution_count": 4,
   "metadata": {},
   "outputs": [],
   "source": [
    "#!wget https://dl.fbaipublicfiles.com/fasttext/vectors-crawl/cc.mr.300.vec.gz\n",
    "#!gunzip cc.mr.300.vec.gz"
   ]
  },
  {
   "cell_type": "code",
   "execution_count": 5,
   "metadata": {},
   "outputs": [],
   "source": [
    "#! head -n 50001 cc.mr.300.vec | tail -n 50000 > /tmp/marathi_partial.vec # partial module"
   ]
  },
  {
   "cell_type": "code",
   "execution_count": 6,
   "metadata": {},
   "outputs": [],
   "source": [
    "#!cp cc.mr.300.vec /tmp/marathi_full.vec # full module "
   ]
  },
  {
   "cell_type": "code",
   "execution_count": 1,
   "metadata": {},
   "outputs": [],
   "source": [
    "from typing import Any, Iterable, List, Optional, Set, Tuple\n",
    "\n",
    "from load import load_words\n",
    "import math\n",
    "import vectors as v\n",
    "from vectors import Vector\n",
    "from word import Word"
   ]
  },
  {
   "cell_type": "code",
   "execution_count": 2,
   "metadata": {},
   "outputs": [],
   "source": [
    "def most_similar(base_vector: Vector, words: List[Word]) -> List[Tuple[float, Word]]:\n",
    "    \"\"\"Finds n words with smallest cosine similarity to a given word\"\"\"\n",
    "    words_with_distance = [(v.cosine_similarity_normalized(base_vector, w.vector), w) for w in words]\n",
    "    # We want cosine similarity to be as large as possible (close to 1)\n",
    "    sorted_by_distance = sorted(words_with_distance, key=lambda t: t[0], reverse=True)\n",
    "    return sorted_by_distance"
   ]
  },
  {
   "cell_type": "code",
   "execution_count": 3,
   "metadata": {},
   "outputs": [],
   "source": [
    "def print_most_similar(words: List[Word], text: str) -> None:\n",
    "    base_word = find_word(text, words)\n",
    "    if not base_word:\n",
    "        print(f\"Uknown word: {text}\")\n",
    "        return\n",
    "    print(f\"Words related to {base_word.text}:\")\n",
    "    sorted_by_distance = [\n",
    "        word.text for (dist, word) in\n",
    "            most_similar(base_word.vector, words)\n",
    "            if word.text.lower() != base_word.text.lower()\n",
    "        ]\n",
    "    print(', '.join(sorted_by_distance[:10]))"
   ]
  },
  {
   "cell_type": "code",
   "execution_count": 4,
   "metadata": {},
   "outputs": [],
   "source": [
    "def read_word() -> str:\n",
    "    return input(\"Type a word: \")"
   ]
  },
  {
   "cell_type": "code",
   "execution_count": 5,
   "metadata": {},
   "outputs": [],
   "source": [
    "def find_word(text: str, words: List[Word]) -> Optional[Word]:\n",
    "    try:\n",
    "       return next(w for w in words if text == w.text)\n",
    "    except StopIteration:\n",
    "       return None"
   ]
  },
  {
   "cell_type": "code",
   "execution_count": 6,
   "metadata": {},
   "outputs": [],
   "source": [
    "def closest_analogies(\n",
    "    left2: str, left1: str, right2: str, words: List[Word]\n",
    ") -> List[Tuple[float, Word]]:\n",
    "    word_left1 = find_word(left1, words)\n",
    "    word_left2 = find_word(left2, words)\n",
    "    word_right2 = find_word(right2, words)\n",
    "    if (not word_left1) or (not word_left2) or (not word_right2):\n",
    "        return []\n",
    "    vector = v.add(\n",
    "        v.sub(word_left1.vector, word_left2.vector),\n",
    "        word_right2.vector)\n",
    "    closest = most_similar(vector, words)[:10]\n",
    "    def is_redundant(word: str) -> bool:\n",
    "        \"\"\"\n",
    "        Sometimes the two left vectors are so close the answer is e.g.\n",
    "        \"shirt-clothing is like phone-phones\". Skip 'phones' and get the next\n",
    "        suggestion, which might be more interesting.\n",
    "        \"\"\"\n",
    "        word_lower = word.lower()\n",
    "        return (\n",
    "            left1.lower() in word_lower or\n",
    "            left2.lower() in word_lower or\n",
    "            right2.lower() in word_lower)\n",
    "    closest_filtered = [(dist, w) for (dist, w) in closest if not is_redundant(w.text)]\n",
    "    return closest_filtered"
   ]
  },
  {
   "cell_type": "code",
   "execution_count": 7,
   "metadata": {},
   "outputs": [],
   "source": [
    "def print_analogy(left2: str, left1: str, right2: str, words: List[Word]) -> None:\n",
    "    analogies = closest_analogies(left2, left1, right2, words)\n",
    "    if (len(analogies) == 0):\n",
    "        print(f\"{left2}-{left1} is like {right2}-?\")\n",
    "    else:\n",
    "        (dist, w) = analogies[0]\n",
    "        #alternatives = ', '.join([f\"{w.text} ({dist})\" for (dist, w) in analogies])\n",
    "        print(f\"{left2}-{left1} is like {right2}-{w.text}\")"
   ]
  },
  {
   "cell_type": "code",
   "execution_count": 14,
   "metadata": {},
   "outputs": [
    {
     "name": "stdout",
     "output_type": "stream",
     "text": [
      "Loading /tmp/marathi_partial.vec...\n",
      "Loaded 50000 words.\n",
      "Removed stop words, 27603 remain.\n",
      "Removed duplicates, 23387 remain.\n"
     ]
    }
   ],
   "source": [
    "words = load_words('/tmp/marathi_partial.vec')"
   ]
  },
  {
   "cell_type": "code",
   "execution_count": 15,
   "metadata": {},
   "outputs": [
    {
     "name": "stdout",
     "output_type": "stream",
     "text": [
      "Words related to अपयश:\n",
      "मिळवण्यात, यश, नैराश्य, उपचारातील, राखण्यात, आलंय, हाताळण्यात, पकडण्यात, करण्यात, घवघवीत\n",
      "Words related to संगीत:\n",
      "लोकसंगीत, नाट्यसंगीत, संगीतकार, संगीतावर, गायक, संगीतज्ञ, संगीतविषयक, बहारदार, श्रवणीय, नाटक\n"
     ]
    }
   ],
   "source": [
    "print_most_similar(words, 'अपयश')\n",
    "print_most_similar(words, 'संगीत')"
   ]
  },
  {
   "cell_type": "code",
   "execution_count": 16,
   "metadata": {},
   "outputs": [
    {
     "name": "stdout",
     "output_type": "stream",
     "text": [
      "Words related to अधिकार:\n",
      "आधिकार, सर्वाधिकार, हक्क, विशेषाधिकार, अधिकारात, एकाधिकार, अधिकारारूढ, मताधिकार, घटनात्मक, प्रदान\n",
      "Uknown word: श्रेणी\n",
      "Words related to आनंद:\n",
      "आनंदच, समाधान, अवर्णनीय, आनंदोत्सव, आनंदात, मनमुराद, उत्साह, हर्ष, अनुभव, लुटत\n",
      "Words related to प्रचंड:\n",
      "खूप, अफाट, अपरिमित, अतोनात, अतिशय, फार, जबरदस्त, प्रमाणात, भयंकर, भरपूर\n"
     ]
    }
   ],
   "source": [
    "print_most_similar(words, 'अधिकार')\n",
    "print_most_similar(words, 'श्रेणी')\n",
    "print_most_similar(words, 'आनंद')\n",
    "print_most_similar(words, 'प्रचंड')"
   ]
  },
  {
   "cell_type": "code",
   "execution_count": 17,
   "metadata": {},
   "outputs": [
    {
     "name": "stdout",
     "output_type": "stream",
     "text": [
      "Words related to २०१२:\n",
      "२०११, २०१३, २०१०, २०१४, २००९, २००८, २००७, २०१६, २०१५, जून\n",
      "Words related to निकाल:\n",
      "निकालावर, राखून, निकालानंतर, सामने१, निकालात, सामने२, सामने३, ईंडीझ, won, धावफलक\n",
      "Words related to प्रचंड:\n",
      "खूप, अफाट, अपरिमित, अतोनात, अतिशय, फार, जबरदस्त, प्रमाणात, भयंकर, भरपूर\n",
      "Words related to पवार:\n",
      "शरद, अजित, पवारांवर, उमेदवार२, चव्हाण, जयसिंगराव, उमेदवार१, तळेकर, पाटील, चिखलीकर\n"
     ]
    }
   ],
   "source": [
    "print_most_similar(words, words[190].text)\n",
    "print_most_similar(words, words[230].text)\n",
    "print_most_similar(words, words[330].text)\n",
    "print_most_similar(words, words[430].text)"
   ]
  },
  {
   "cell_type": "code",
   "execution_count": 18,
   "metadata": {},
   "outputs": [
    {
     "name": "stdout",
     "output_type": "stream",
     "text": [
      "पवार-शरद is like मोदी-?\n"
     ]
    }
   ],
   "source": [
    "print_analogy('पवार', 'शरद' , 'मोदी', words)"
   ]
  },
  {
   "cell_type": "code",
   "execution_count": 19,
   "metadata": {},
   "outputs": [
    {
     "name": "stdout",
     "output_type": "stream",
     "text": [
      "तिच्या-तिला is like माझ्या-?\n"
     ]
    }
   ],
   "source": [
    "print_analogy('तिच्या', 'तिला' , 'माझ्या', words)"
   ]
  },
  {
   "cell_type": "code",
   "execution_count": 20,
   "metadata": {},
   "outputs": [
    {
     "name": "stdout",
     "output_type": "stream",
     "text": [
      "महाराष्ट्र-मुंबई is like गुजरात-अहमदाबाद\n",
      "महाराष्ट्र-मुंबई is like बिहार-?\n",
      "पक्षी-मोर is like प्राणी-?\n",
      "मुंबई-पुणे is like नागपूर-?\n",
      "सुख-दु:ख is like यश-पण\n"
     ]
    }
   ],
   "source": [
    "print_analogy('महाराष्ट्र', 'मुंबई', 'गुजरात', words)\n",
    "print_analogy('महाराष्ट्र', 'मुंबई', 'बिहार', words)\n",
    "print_analogy('पक्षी', 'मोर', 'प्राणी', words)\n",
    "print_analogy('मुंबई', 'पुणे' , 'नागपूर', words)\n",
    "print_analogy('सुख', 'दु:ख', 'यश', words)"
   ]
  },
  {
   "cell_type": "code",
   "execution_count": 21,
   "metadata": {},
   "outputs": [
    {
     "name": "stdout",
     "output_type": "stream",
     "text": [
      "राजा-राणी is like नर-?\n"
     ]
    }
   ],
   "source": [
    "print_analogy('राजा', 'राणी', 'नर', words)"
   ]
  }
 ],
 "metadata": {
  "kernelspec": {
   "display_name": "Python 3",
   "language": "python",
   "name": "python3"
  },
  "language_info": {
   "codemirror_mode": {
    "name": "ipython",
    "version": 3
   },
   "file_extension": ".py",
   "mimetype": "text/x-python",
   "name": "python",
   "nbconvert_exporter": "python",
   "pygments_lexer": "ipython3",
   "version": "3.7.6"
  }
 },
 "nbformat": 4,
 "nbformat_minor": 2
}
