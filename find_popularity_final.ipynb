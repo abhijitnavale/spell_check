{
 "cells": [
  {
   "cell_type": "code",
   "execution_count": 1,
   "metadata": {},
   "outputs": [],
   "source": [
    "#!wget https://github.com/shantanuo/marathi_spell_check/raw/master/dicts/mr_IN.dic"
   ]
  },
  {
   "cell_type": "code",
   "execution_count": 61,
   "metadata": {},
   "outputs": [
    {
     "name": "stdout",
     "output_type": "stream",
     "text": [
      "अँग\r\n"
     ]
    }
   ],
   "source": [
    "!grep -wx 'अँग' mr_IN.dic "
   ]
  },
  {
   "cell_type": "code",
   "execution_count": 3,
   "metadata": {},
   "outputs": [],
   "source": [
    "#!wget https://dumps.wikimedia.org/mrwiki/20190320/mrwiki-20190320-pages-articles.xml.bz2\n",
    "#!bzip2 -dc mrwiki-20190320-pages-articles.xml.bz2 > mytext.txt"
   ]
  },
  {
   "cell_type": "code",
   "execution_count": 98,
   "metadata": {},
   "outputs": [
    {
     "name": "stdout",
     "output_type": "stream",
     "text": [
      "| अँग सॅन स्यू की \n",
      "    <title>अँग ली</title>\n",
      "      <comment>&quot;[[अँग ली]]&quot; हे पान &quot;[[आं ली]]&quot; मथळ्याखाली स्थानांतरित केले.: चिनी उच्चाराजवळ जाणारे लेखन</comment>\n",
      "| [[ग्रेट बुद्ध]] || अँग थाँन, [[थायलंड]] || {{Convert|92|m|ft|disp=table|sortable=on}} ||जगातील सातवा सर्वात उंच पुतळा || २००८|| [[File:Greatbuddhaofthailand.JPG|120px|none]]\n"
     ]
    }
   ],
   "source": [
    "!grep   'अँग '  mytext.txt "
   ]
  },
  {
   "cell_type": "code",
   "execution_count": 99,
   "metadata": {},
   "outputs": [
    {
     "name": "stdout",
     "output_type": "stream",
     "text": [
      "   Web About 68,100 results (0.34 seconds)\r\n"
     ]
    }
   ],
   "source": [
    "! lynx -dump google.com/search?q=अँग | grep 'About'"
   ]
  },
  {
   "cell_type": "code",
   "execution_count": 6,
   "metadata": {},
   "outputs": [],
   "source": [
    "import re\n",
    "pattern = re.compile(r'(About ([0-9,]+) results)')"
   ]
  },
  {
   "cell_type": "code",
   "execution_count": 92,
   "metadata": {},
   "outputs": [],
   "source": [
    "def mypopular(word):\n",
    "    mydict=!grep -wx $word mr_IN.dic | wc -l\n",
    "    mywiki=!grep \"$word \" mytext.txt | wc -l\n",
    "    mytext=! lynx -dump google.com/search?q=$word\n",
    "    results = pattern.search(' '.join(mytext))\n",
    "    mygoogle = results.groups(0)[0]\n",
    "    mygoogle1 = (int(mygoogle.replace('About', '').replace('results', '').replace(',', '')))\n",
    "    x = ((int(mydict[0]) * 10  + int(mywiki[0])) + (mygoogle1+1))        \n",
    "    return (word, x, int(mydict[0]), int(mywiki[0]), mygoogle1)"
   ]
  },
  {
   "cell_type": "code",
   "execution_count": 93,
   "metadata": {},
   "outputs": [
    {
     "data": {
      "text/plain": [
       "('india', 10530000060, 0, 59, 10530000000)"
      ]
     },
     "execution_count": 93,
     "metadata": {},
     "output_type": "execute_result"
    }
   ],
   "source": [
    "mypopular('india')"
   ]
  },
  {
   "cell_type": "code",
   "execution_count": 94,
   "metadata": {},
   "outputs": [],
   "source": [
    "import time\n",
    "mylist=list()\n",
    "with open('mr_IN.dic') as f:\n",
    "    for i in list(f)[:10]:\n",
    "        try:\n",
    "            mylist.append(mypopular(i.rstrip('\\n')))\n",
    "            time.sleep(5)\n",
    "        except:\n",
    "            pass"
   ]
  },
  {
   "cell_type": "code",
   "execution_count": 95,
   "metadata": {},
   "outputs": [
    {
     "data": {
      "text/plain": [
       "[('193593', 311011, 1, 0, 311000),\n",
       " ('अँकरचं', 142, 1, 0, 131),\n",
       " ('अँकरच्या', 1481, 1, 0, 1470),\n",
       " ('अँकरनं', 420, 1, 0, 409),\n",
       " ('अँकरला', 946, 1, 0, 935),\n",
       " ('अँग', 68115, 1, 4, 68100),\n",
       " ('अँगलची', 183, 1, 0, 172),\n",
       " ('अँगल्स', 1201, 1, 0, 1190),\n",
       " ('अँगल्सचा', 68, 1, 0, 57),\n",
       " ('अँगल्सची', 1201, 1, 0, 1190)]"
      ]
     },
     "execution_count": 95,
     "metadata": {},
     "output_type": "execute_result"
    }
   ],
   "source": [
    "mylist"
   ]
  },
  {
   "cell_type": "code",
   "execution_count": 79,
   "metadata": {},
   "outputs": [],
   "source": [
    "import pandas as pd"
   ]
  },
  {
   "cell_type": "code",
   "execution_count": 80,
   "metadata": {},
   "outputs": [],
   "source": [
    "df = pd.DataFrame(mylist)"
   ]
  },
  {
   "cell_type": "code",
   "execution_count": 81,
   "metadata": {},
   "outputs": [],
   "source": [
    "df.columns = ['word', 'overall_score', 'dict', 'wiki', 'google']"
   ]
  },
  {
   "cell_type": "code",
   "execution_count": 82,
   "metadata": {},
   "outputs": [
    {
     "data": {
      "text/html": [
       "<div>\n",
       "<style scoped>\n",
       "    .dataframe tbody tr th:only-of-type {\n",
       "        vertical-align: middle;\n",
       "    }\n",
       "\n",
       "    .dataframe tbody tr th {\n",
       "        vertical-align: top;\n",
       "    }\n",
       "\n",
       "    .dataframe thead th {\n",
       "        text-align: right;\n",
       "    }\n",
       "</style>\n",
       "<table border=\"1\" class=\"dataframe\">\n",
       "  <thead>\n",
       "    <tr style=\"text-align: right;\">\n",
       "      <th></th>\n",
       "      <th>word</th>\n",
       "      <th>overall_score</th>\n",
       "      <th>dict</th>\n",
       "      <th>wiki</th>\n",
       "      <th>google</th>\n",
       "    </tr>\n",
       "  </thead>\n",
       "  <tbody>\n",
       "    <tr>\n",
       "      <th>0</th>\n",
       "      <td>193593</td>\n",
       "      <td>311011</td>\n",
       "      <td>1</td>\n",
       "      <td>0</td>\n",
       "      <td>311000</td>\n",
       "    </tr>\n",
       "    <tr>\n",
       "      <th>1</th>\n",
       "      <td>अँकरचं</td>\n",
       "      <td>142</td>\n",
       "      <td>1</td>\n",
       "      <td>0</td>\n",
       "      <td>131</td>\n",
       "    </tr>\n",
       "    <tr>\n",
       "      <th>2</th>\n",
       "      <td>अँकरच्या</td>\n",
       "      <td>1481</td>\n",
       "      <td>1</td>\n",
       "      <td>0</td>\n",
       "      <td>1470</td>\n",
       "    </tr>\n",
       "    <tr>\n",
       "      <th>3</th>\n",
       "      <td>अँकरनं</td>\n",
       "      <td>420</td>\n",
       "      <td>1</td>\n",
       "      <td>0</td>\n",
       "      <td>409</td>\n",
       "    </tr>\n",
       "    <tr>\n",
       "      <th>4</th>\n",
       "      <td>अँकरला</td>\n",
       "      <td>946</td>\n",
       "      <td>1</td>\n",
       "      <td>0</td>\n",
       "      <td>935</td>\n",
       "    </tr>\n",
       "    <tr>\n",
       "      <th>5</th>\n",
       "      <td>अँग</td>\n",
       "      <td>68111</td>\n",
       "      <td>1</td>\n",
       "      <td>0</td>\n",
       "      <td>68100</td>\n",
       "    </tr>\n",
       "    <tr>\n",
       "      <th>6</th>\n",
       "      <td>अँगलची</td>\n",
       "      <td>200</td>\n",
       "      <td>1</td>\n",
       "      <td>0</td>\n",
       "      <td>189</td>\n",
       "    </tr>\n",
       "    <tr>\n",
       "      <th>7</th>\n",
       "      <td>अँगल्स</td>\n",
       "      <td>1201</td>\n",
       "      <td>1</td>\n",
       "      <td>0</td>\n",
       "      <td>1190</td>\n",
       "    </tr>\n",
       "    <tr>\n",
       "      <th>8</th>\n",
       "      <td>अँगल्सचा</td>\n",
       "      <td>68</td>\n",
       "      <td>1</td>\n",
       "      <td>0</td>\n",
       "      <td>57</td>\n",
       "    </tr>\n",
       "    <tr>\n",
       "      <th>9</th>\n",
       "      <td>अँगल्सची</td>\n",
       "      <td>1201</td>\n",
       "      <td>1</td>\n",
       "      <td>0</td>\n",
       "      <td>1190</td>\n",
       "    </tr>\n",
       "  </tbody>\n",
       "</table>\n",
       "</div>"
      ],
      "text/plain": [
       "       word  overall_score  dict  wiki  google\n",
       "0    193593         311011     1     0  311000\n",
       "1    अँकरचं            142     1     0     131\n",
       "2  अँकरच्या           1481     1     0    1470\n",
       "3    अँकरनं            420     1     0     409\n",
       "4    अँकरला            946     1     0     935\n",
       "5       अँग          68111     1     0   68100\n",
       "6    अँगलची            200     1     0     189\n",
       "7    अँगल्स           1201     1     0    1190\n",
       "8  अँगल्सचा             68     1     0      57\n",
       "9  अँगल्सची           1201     1     0    1190"
      ]
     },
     "execution_count": 82,
     "metadata": {},
     "output_type": "execute_result"
    }
   ],
   "source": [
    "df"
   ]
  },
  {
   "cell_type": "code",
   "execution_count": 83,
   "metadata": {},
   "outputs": [
    {
     "data": {
      "text/plain": [
       "('अंग', 13800028, 1, 17, 13800000)"
      ]
     },
     "execution_count": 83,
     "metadata": {},
     "output_type": "execute_result"
    }
   ],
   "source": [
    "mypopular('अंग')"
   ]
  }
 ],
 "metadata": {
  "kernelspec": {
   "display_name": "Python 3",
   "language": "python",
   "name": "python3"
  },
  "language_info": {
   "codemirror_mode": {
    "name": "ipython",
    "version": 3
   },
   "file_extension": ".py",
   "mimetype": "text/x-python",
   "name": "python",
   "nbconvert_exporter": "python",
   "pygments_lexer": "ipython3",
   "version": "3.7.1"
  }
 },
 "nbformat": 4,
 "nbformat_minor": 2
}
