{
 "cells": [
  {
   "cell_type": "code",
   "execution_count": null,
   "metadata": {},
   "outputs": [],
   "source": [
    "# around 12000 words are in both, Hindi & Marathi"
   ]
  },
  {
   "cell_type": "code",
   "execution_count": null,
   "metadata": {},
   "outputs": [],
   "source": [
    "!unzip hindi_spell_checker-0.4.2webext.xpi\n",
    "!unzip marathi_dictionary-9.5webext.xpi"
   ]
  },
  {
   "cell_type": "code",
   "execution_count": 9,
   "metadata": {},
   "outputs": [],
   "source": [
    "hindi = list()\n",
    "with open ('dictionaries/hi_IN.dic') as f:\n",
    "    for i in f:\n",
    "        hindi.append(i.split('/')[0].strip('\\n'))"
   ]
  },
  {
   "cell_type": "code",
   "execution_count": 16,
   "metadata": {},
   "outputs": [],
   "source": [
    "marathi = list()\n",
    "with open ('marathi/dictionaries/mr-IN.dic') as f:\n",
    "    for i in f:\n",
    "        marathi.append(i.split('/')[0].strip('\\n'))"
   ]
  },
  {
   "cell_type": "code",
   "execution_count": 23,
   "metadata": {},
   "outputs": [
    {
     "data": {
      "text/plain": [
       "11906"
      ]
     },
     "execution_count": 23,
     "metadata": {},
     "output_type": "execute_result"
    }
   ],
   "source": [
    "len(set(hindi) & set(marathi))"
   ]
  },
  {
   "cell_type": "code",
   "execution_count": 26,
   "metadata": {},
   "outputs": [
    {
     "data": {
      "text/plain": [
       "['लवाजमा',\n",
       " 'प्रयत्नपूर्वक',\n",
       " 'भौतिकी',\n",
       " 'अग्निकुंड',\n",
       " 'कायम',\n",
       " 'अपव्यय',\n",
       " 'तरवार',\n",
       " 'अनुकूल',\n",
       " 'कोलाज',\n",
       " 'शामियाना',\n",
       " 'प्रेमगीत',\n",
       " 'ब्रिटिश',\n",
       " 'पटकथा',\n",
       " 'कलाप्रेम',\n",
       " 'निरुपाय',\n",
       " 'आत्मस्वरूप',\n",
       " 'देहांत',\n",
       " 'पुष्पशृंगार',\n",
       " 'पाण्डव',\n",
       " 'दुपट्टा']"
      ]
     },
     "execution_count": 26,
     "metadata": {},
     "output_type": "execute_result"
    }
   ],
   "source": [
    "# sample of 20 words\n",
    "list(set(hindi) & set(marathi))[11000:11020]"
   ]
  }
 ],
 "metadata": {
  "kernelspec": {
   "display_name": "Python 3",
   "language": "python",
   "name": "python3"
  },
  "language_info": {
   "codemirror_mode": {
    "name": "ipython",
    "version": 3
   },
   "file_extension": ".py",
   "mimetype": "text/x-python",
   "name": "python",
   "nbconvert_exporter": "python",
   "pygments_lexer": "ipython3",
   "version": "3.7.6"
  }
 },
 "nbformat": 4,
 "nbformat_minor": 4
}
