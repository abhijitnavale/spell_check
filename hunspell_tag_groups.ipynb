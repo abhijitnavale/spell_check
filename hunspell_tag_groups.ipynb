{
 "cells": [
  {
   "cell_type": "code",
   "execution_count": 1,
   "metadata": {},
   "outputs": [],
   "source": [
    "import pandas as pd\n",
    "mylist = list()\n",
    "for i in open(\"test.txt\"):\n",
    "    mylist.append(i.split(\"/\"))"
   ]
  },
  {
   "cell_type": "code",
   "execution_count": 2,
   "metadata": {},
   "outputs": [],
   "source": [
    "df = pd.DataFrame(mylist)\n",
    "df = df.replace(\" \", \"\", regex=True)\n",
    "df = df.replace(\"\\n\", \"\", regex=True)\n",
    "df.columns = [\"word\", \"tags\"]\n",
    "mys = df.groupby(\"tags\")[\"word\"].apply(lambda x: x[:3]).reset_index()\n",
    "mys = mys.groupby(\"tags\")[\"word\"].apply(list)"
   ]
  },
  {
   "cell_type": "code",
   "execution_count": 3,
   "metadata": {},
   "outputs": [],
   "source": [
    "vc = df[\"tags\"].value_counts()"
   ]
  },
  {
   "cell_type": "code",
   "execution_count": 4,
   "metadata": {},
   "outputs": [
    {
     "name": "stderr",
     "output_type": "stream",
     "text": [
      "/opt/conda/lib/python3.7/site-packages/ipykernel_launcher.py:1: FutureWarning: Sorting because non-concatenation axis is not aligned. A future version\n",
      "of pandas will change to not sort by default.\n",
      "\n",
      "To accept the future behavior, pass 'sort=False'.\n",
      "\n",
      "To retain the current behavior and silence the warning, pass 'sort=True'.\n",
      "\n",
      "  \"\"\"Entry point for launching an IPython kernel.\n"
     ]
    }
   ],
   "source": [
    "ndf = pd.concat([vc, mys], axis=1).sort_values(\"tags\", ascending=False)\n",
    "ndf = ndf.reset_index()\n",
    "ndf[[\"index\", \"word\"]].to_csv(\"to_study.txt\", index=False)"
   ]
  },
  {
   "cell_type": "code",
   "execution_count": null,
   "metadata": {},
   "outputs": [],
   "source": []
  },
  {
   "cell_type": "code",
   "execution_count": 5,
   "metadata": {},
   "outputs": [
    {
     "name": "stdout",
     "output_type": "stream",
     "text": [
      "index,word\r\n",
      "f,\"['अंक', 'अंकगणित', 'अंकुर']\"\r\n",
      "k,\"['अंगीकार', 'अंतःस्थ', 'अंतःस्फुरण']\"\r\n",
      "j,\"['अंत्यक्रिया', 'अंधश्रद्धा', 'अकल']\"\r\n",
      "e,\"['अंगठा', 'अंगडी', 'अंगरखा']\"\r\n",
      "Aacd,\"['अंकलिपी', 'अंगयष्टी', 'अंगाई']\"\r\n",
      "Aacdh,\"['अंगठी', 'अंत्येष्टी', 'अंथरुणापांघरुणा']\"\r\n",
      "h,\"['अंगाया', 'अंगुल्या', 'अंत्येष्ट्या']\"\r\n",
      "n,\"['अंतःप्रेरणा', 'अधीरता', 'अनसूया']\"\r\n",
      "g,\"['अंघोळ', 'अंमलदारिण', 'अंमलदारण']\"\r\n",
      "AFbcd,\"['अंकलिप्यां', 'अंबाबायां', 'अंबोश्यां']\"\r\n",
      "m,\"['अधिकउणा', 'अमरपट्टा', 'अर्धकच्चा']\"\r\n",
      "l,\"['अंदाधुंद', 'अदब', 'अब्रूनुकसान']\"\r\n",
      "i,\"['अटक', 'अवकळा', 'अवस']\"\r\n",
      "AFacd,\"['अमला', 'अकडी', 'अग्यापिछ्या']\"\r\n",
      "Ff,\"['अनुयाय', 'अपशकुन', 'अपिल']\"\r\n",
      "bcd,\"['अष्टम्यां', 'आइसक्रिमां', 'आकारण्या']\"\r\n",
      "Abcd,\"['अणूबॉंबां', 'अणूबॉम्बां', 'अधल्यामधल्या']\"\r\n",
      "acdh,\"['अश्वशक्ती', 'आईमाई']\"\r\n",
      "acdf,\"['अलुबुखार', 'आलुबुखार']\"\r\n",
      "Aacde,\"['अढी', 'अधेली']\"\r\n",
      "eh,['असामी']\r\n",
      "acd,['अर्ध्यामुर्ध्या']\r\n",
      "Fg,['अडवणुक']\r\n",
      "Aacdk,['अळवा']\r\n",
      "Aac,['अल्कोहोल']\r\n",
      "acdm,['अश्रफी']\r\n"
     ]
    }
   ],
   "source": [
    "!cat to_study.txt"
   ]
  },
  {
   "cell_type": "code",
   "execution_count": null,
   "metadata": {},
   "outputs": [],
   "source": []
  }
 ],
 "metadata": {
  "kernelspec": {
   "display_name": "Python 3",
   "language": "python",
   "name": "python3"
  },
  "language_info": {
   "codemirror_mode": {
    "name": "ipython",
    "version": 3
   },
   "file_extension": ".py",
   "mimetype": "text/x-python",
   "name": "python",
   "nbconvert_exporter": "python",
   "pygments_lexer": "ipython3",
   "version": "3.7.3"
  }
 },
 "nbformat": 4,
 "nbformat_minor": 2
}
